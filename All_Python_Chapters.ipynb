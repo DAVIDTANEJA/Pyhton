{
 "cells": [
  {
   "cell_type": "raw",
   "metadata": {},
   "source": [
    "Python principles:\n",
    "    1. kiss- keep it simple stupid\n",
    "    2. dry - don't repeat yourself"
   ]
  },
  {
   "cell_type": "code",
   "execution_count": 45,
   "metadata": {},
   "outputs": [],
   "source": [
    "# conventions  of variable\n",
    "\n",
    "user_one_name = \"David\"     # snake case writing used in Python.\n",
    "\n",
    "userOneName = \"David\"       # camel case writnig used in java script etc."
   ]
  },
  {
   "cell_type": "markdown",
   "metadata": {},
   "source": [
    "#### Datatypes : "
   ]
  },
  {
   "cell_type": "raw",
   "metadata": {},
   "source": [
    "1. Integers : 1,2,3,4,5.                         # primitive datatypes.\n",
    "2. floats : 2.5, -4.65\n",
    "3. Strings : \"Datatypes of python.\"\n",
    "4. Boolean : True, False. "
   ]
  },
  {
   "cell_type": "markdown",
   "metadata": {},
   "source": [
    "##### Casting"
   ]
  },
  {
   "cell_type": "code",
   "execution_count": 14,
   "metadata": {},
   "outputs": [
    {
     "name": "stdout",
     "output_type": "stream",
     "text": [
      "1\n",
      "1.0\n",
      "1\n",
      "<class 'str'>\n",
      "True\n",
      "55\n",
      "10\n"
     ]
    }
   ],
   "source": [
    "# Casting : Changing from one datatype to another datatype.\n",
    "\n",
    "x = 1\n",
    "print(x)            # integer type\n",
    "\n",
    "print(float(x))     # float no.\n",
    "\n",
    "\n",
    "print(str(x))           # string\n",
    "print(type(str(x)))\n",
    "\n",
    "print(bool(x))        # boolean\n",
    "\n",
    "print(int(\"55\"))     # string into integer\n",
    "\n",
    "print(10)"
   ]
  },
  {
   "cell_type": "markdown",
   "metadata": {},
   "source": [
    "## Collections : \n",
    "are container data types ex: lists, tuples, sets, dictionary"
   ]
  },
  {
   "cell_type": "markdown",
   "metadata": {},
   "source": [
    "##### Specialised Colletions data types : namedtuple(), chainmap, deque, Counter, ordereddict, defaultdict, UserDict, UserList, USerString"
   ]
  },
  {
   "cell_type": "code",
   "execution_count": 8,
   "metadata": {},
   "outputs": [
    {
     "name": "stdout",
     "output_type": "stream",
     "text": [
      "courses(name='datascience', technology='python')\n",
      "courses(name='artificial intelligence', technology='python')\n"
     ]
    }
   ],
   "source": [
    "# 1.namedtuple(): returns a tuple with named value foor each element in the tuple.\n",
    "\n",
    "from collections import namedtuple\n",
    "\n",
    "a = namedtuple('courses', 'name, technology')\n",
    "s = a('datascience', 'python')\n",
    "print(s)\n",
    "\n",
    "d = a._make(['artificial intelligence', 'python'])      # list\n",
    "print(d)"
   ]
  },
  {
   "cell_type": "code",
   "execution_count": 12,
   "metadata": {},
   "outputs": [
    {
     "name": "stdout",
     "output_type": "stream",
     "text": [
      "deque(['python', 'd', 'a', 'v', 'i', 'd'])\n",
      "deque(['d', 'a', 'v', 'i', 'd'])\n"
     ]
    }
   ],
   "source": [
    "# 2.deque : optimised list to perform inserion and deletion easily\n",
    "\n",
    "from collections import deque\n",
    "\n",
    "a = ['d', 'a', 'v', 'i', 'd']\n",
    "\n",
    "d = deque(a)\n",
    "d.appendleft('python')\n",
    "print(d)\n",
    "\n",
    "d.popleft()\n",
    "print(d)"
   ]
  },
  {
   "cell_type": "code",
   "execution_count": 14,
   "metadata": {},
   "outputs": [
    {
     "name": "stdout",
     "output_type": "stream",
     "text": [
      "ChainMap({1: 'python', 2: 'machine learning'}, {3: 'data science', 4: 'cyber security'})\n"
     ]
    }
   ],
   "source": [
    "# 3.Chainmap : is a dictionary like class for creating  a single view of multiple mappings.\n",
    "\n",
    "from collections import ChainMap\n",
    "\n",
    "a = {1:'python', 2:'machine learning'}\n",
    "b = {3:'data science', 4:'cyber security'}\n",
    "\n",
    "c = ChainMap(a,b)\n",
    "print(c)"
   ]
  },
  {
   "cell_type": "code",
   "execution_count": 23,
   "metadata": {},
   "outputs": [
    {
     "name": "stdout",
     "output_type": "stream",
     "text": [
      "Counter({2: 5, 5: 3, 4: 3, 7: 3, 1: 2, 8: 1, 3: 1, 9: 1})\n",
      "[1, 1, 2, 2, 2, 2, 2, 5, 5, 5, 4, 4, 4, 7, 7, 7, 8, 3, 9]\n",
      "[(2, 5), (5, 3), (4, 3), (7, 3), (1, 2), (8, 1), (3, 1), (9, 1)]\n",
      "[(2, 4), (4, 3), (7, 3), (1, 2), (5, 2), (8, 1), (3, 1), (9, 1)]\n"
     ]
    }
   ],
   "source": [
    "# 4.Counter : is a dictionary subclass for counting hashable objects.\n",
    "\n",
    "from collections import Counter\n",
    "\n",
    "a = [1,2,2,5,4,7,4,2,5,1,7,2,8,3,9,5,2,4,7]\n",
    "\n",
    "b = Counter(a)\n",
    "print(b)\n",
    "\n",
    "print(list(b.elements()))       # elements()\n",
    "\n",
    "print(b.most_common())        # most_common()\n",
    "\n",
    "# print(b.subtract())\n",
    "sub = {2:1, 5:1}      # substratc 2 - 1 time and 5 also 1 time\n",
    "b.subtract(sub)        # here it substracts \n",
    "print(b.most_common())  # then it prints most common()"
   ]
  },
  {
   "cell_type": "code",
   "execution_count": 25,
   "metadata": {},
   "outputs": [
    {
     "name": "stdout",
     "output_type": "stream",
     "text": [
      "OrderedDict([(1, 't'), (2, 'a'), (3, 'n'), (4, 'e'), (5, 'j'), (6, 'a')])\n",
      "OrderedDict([(1, 'T'), (2, 'a'), (3, 'n'), (4, 'e'), (5, 'j'), (6, 'a')])\n"
     ]
    }
   ],
   "source": [
    "# OrderedDict : is dictionary subclass which remebers the order in which the entries were done.\n",
    "\n",
    "from collections import OrderedDict\n",
    "\n",
    "a = OrderedDict()\n",
    "a[1] = 't'\n",
    "a[2] = 'a'\n",
    "a[3] = 'n'\n",
    "a[4] = 'e'\n",
    "a[5] = 'j'\n",
    "a[6] = 'a'\n",
    "\n",
    "print(a)\n",
    "a[1] = 'T'\n",
    "print(a)"
   ]
  },
  {
   "cell_type": "code",
   "execution_count": 27,
   "metadata": {},
   "outputs": [
    {
     "name": "stdout",
     "output_type": "stream",
     "text": [
      "defaultdict(<class 'int'>, {1: 'python', 2: 'data science'})\n"
     ]
    }
   ],
   "source": [
    "# defaultdict : is a dictionary subclass which calls a factory fucntion to supply missing values.\n",
    "\n",
    "from collections import defaultdict\n",
    "\n",
    "a = defaultdict(int)\n",
    "a[1] = 'python'\n",
    "a[2] = 'data science'\n",
    "\n",
    "print(a)"
   ]
  },
  {
   "cell_type": "raw",
   "metadata": {},
   "source": [
    "# UserDict : is a wrapper around dictionary objects for easier dicitonary sub-class\n",
    "# USerList : is a wrapper around list objects for easier list sub-class\n",
    "# UserString : is a wrapper around string objects for easier string sub-class"
   ]
  },
  {
   "cell_type": "markdown",
   "metadata": {},
   "source": [
    "## ---------------------------------------------"
   ]
  },
  {
   "cell_type": "markdown",
   "metadata": {},
   "source": [
    "### Rules:   \n",
    "1.  exponent **  <- goes right to left \n",
    "2.  *,/ ,// , %  <- goes left to right"
   ]
  },
  {
   "cell_type": "code",
   "execution_count": 4,
   "metadata": {},
   "outputs": [
    {
     "name": "stdout",
     "output_type": "stream",
     "text": [
      "2.0\n",
      "0\n",
      "1.414\n",
      "512\n"
     ]
    }
   ],
   "source": [
    "print(4/2)       # float division\n",
    "print(2//4)      # integer division\n",
    "\n",
    "print(round(2**.5, 3))  # round-> makes it upto 3 decimals , we have to define 3 or 4 also     \n",
    "\n",
    "print(2**3**2)    # exponent goes - right to left 3**2=9 then 2**9=512\n"
   ]
  },
  {
   "cell_type": "markdown",
   "metadata": {},
   "source": [
    "#### Use of emojis           link :  https://unicode.org/emoji/charts/full-emoji-list.html"
   ]
  },
  {
   "cell_type": "code",
   "execution_count": 5,
   "metadata": {},
   "outputs": [
    {
     "name": "stdout",
     "output_type": "stream",
     "text": [
      "😀\n"
     ]
    }
   ],
   "source": [
    "# like :  U+1F600\n",
    "\n",
    "print(\"\\U0001F600\")             # U+1F600 <-- put \\ first, then inplace of  +  -> put 3 zeros  000 "
   ]
  },
  {
   "cell_type": "code",
   "execution_count": 8,
   "metadata": {},
   "outputs": [
    {
     "name": "stdout",
     "output_type": "stream",
     "text": [
      "this is \\\\ double backslash\n",
      "this is /\\/\\/\\/\\/\\ mountain\n",
      "he is \t awesome\n",
      "\\\"  \\n  \\t  \\' \n"
     ]
    }
   ],
   "source": [
    "print(\"this is \\\\\\\\ double backslash\") \n",
    "print(\"this is /\\\\/\\\\/\\\\/\\\\/\\\\ mountain\")\n",
    "print(\"he is \\t awesome\")       #  \\t  - tab \n",
    "print(\"\\\\\\\"  \\\\n  \\\\t  \\\\\\' \")   # (\\\\ = \\ , \\\" = \" , \\' = ')"
   ]
  },
  {
   "cell_type": "code",
   "execution_count": 44,
   "metadata": {},
   "outputs": [
    {
     "name": "stdout",
     "output_type": "stream",
     "text": [
      "Name: david\n",
      "Age :27\n",
      "Hello david your age: 27\n"
     ]
    }
   ],
   "source": [
    "# name,age = \"David\" , 27\n",
    "name ,age = input (\"Name: \") , input(\"Age :\")\n",
    "\n",
    "print(\"Hello \" + name , \"your age: \" + str(age)) "
   ]
  },
  {
   "cell_type": "code",
   "execution_count": 25,
   "metadata": {},
   "outputs": [
    {
     "name": "stdout",
     "output_type": "stream",
     "text": [
      "value 1: 5\n",
      "value 2: 5\n",
      "value 3: 5\n",
      "Average is : 5.0\n",
      "--------------------\n",
      "Name :David\n",
      "Age :28\n",
      "Hello 'David' Your age is '28' \n"
     ]
    }
   ],
   "source": [
    "# string formatting method                , Find Average\n",
    "\n",
    "x,y,z = input(\"value 1: \"),input(\"value 2: \"),input(\"value 3: \")\n",
    "print(f\"Average is : { (int(x) + int(y) + int(z)) / 3 }\" )  \n",
    "\n",
    "print(20*'-')  # separating both\n",
    "\n",
    "name ,age = input(\"Name :\") ,input(\"Age :\")\n",
    "print(f\"Hello '{name}' Your age is '{age}' \")"
   ]
  },
  {
   "cell_type": "code",
   "execution_count": 12,
   "metadata": {},
   "outputs": [
    {
     "name": "stdout",
     "output_type": "stream",
     "text": [
      "Enter your name: taneja\n",
      "ajenat\n",
      "Reverse of your name is : ajenat \n"
     ]
    }
   ],
   "source": [
    "# string slicing\n",
    "\n",
    "name =input(\"Enter your name: \")     \n",
    "print(name[::-1])        # (1st->starting : 2nd->ending : 3rd->for modification  -1 means to run stringfrom back side)\n",
    "\n",
    "reverse=name[::-1]       # reverse is a var.  and name string store in it \n",
    "print(f\"Reverse of your name is : {reverse} \")"
   ]
  },
  {
   "cell_type": "code",
   "execution_count": 23,
   "metadata": {},
   "outputs": [
    {
     "name": "stdout",
     "output_type": "stream",
     "text": [
      "pt\n",
      "nohtyp\n"
     ]
    }
   ],
   "source": [
    "# string indexing\n",
    "\n",
    "string =\"python\"\n",
    "print(string[0:4:2])          # ( start : stop : step)  (0 : 4 : 2 ) \n",
    "print(string[6::-1])     "
   ]
  },
  {
   "cell_type": "code",
   "execution_count": 18,
   "metadata": {},
   "outputs": [
    {
     "name": "stdout",
     "output_type": "stream",
     "text": [
      "Enter name and character :  david,7\n",
      "length of your name is 5 \n",
      "character count : 0\n",
      "character count: 0 \n"
     ]
    }
   ],
   "source": [
    "# split method\n",
    "\n",
    "name,char= input(\"Enter name and character :  \" ).split(\",\")         # we have to give ','     b/w name & char\n",
    "print(f\"length of your name is {len(name)} \")\n",
    "print(f\"character count : {name.count(char)}\")           # case sensitive\n",
    "print(f\"character count: {name.lower().count(char.lower())} \")   #case insensitive     # name.lower() char.lower()"
   ]
  },
  {
   "cell_type": "code",
   "execution_count": 22,
   "metadata": {},
   "outputs": [
    {
     "name": "stdout",
     "output_type": "stream",
     "text": [
      "    Dav    id    .....\n",
      "Dav    id    .....\n",
      "    Dav    id.....\n",
      "Dav    id.....\n",
      "David.....\n",
      "0\n"
     ]
    }
   ],
   "source": [
    "# strip() method\n",
    "\n",
    "name=\"    Dav    id    \"   \n",
    "dots=\".....\"\n",
    "print(name + dots)\n",
    "\n",
    "print(name.lstrip() + dots)        # lstrip() method use to remove left space\n",
    "print(name.rstrip() + dots)        # rstrip() method use to remove right space\n",
    "print(name.strip() + dots)         # strip() method removes both left and right space\n",
    "\n",
    "\n",
    "# replace() method\n",
    "\n",
    "print(name.replace(\" \",\"\") + dots)  # we use replace() method , to remove all spaces or we can replace with anything\n",
    "# print(name.strip().lower().count(char.strip().lower()))"
   ]
  },
  {
   "cell_type": "code",
   "execution_count": 28,
   "metadata": {},
   "outputs": [
    {
     "name": "stdout",
     "output_type": "stream",
     "text": [
      "she_is_so_beautiful_and_she_is_good_teacher\n",
      "she .. so beautiful and she is good teacher\n",
      "4\n",
      "4\n",
      "*David*\n",
      "Enter your name : david\n",
      "****david****\n"
     ]
    }
   ],
   "source": [
    "# replace() method              , also it used only in string not in list\n",
    "\n",
    "string = \"she is so beautiful and she is good teacher\"\n",
    "print(string.replace(\" \",\"_\"))     # In replace(\" \",\"\"), 1.arg what we want to replace , 2.arg is to replace with\n",
    "print(string.replace(\"is\",\"..\",1))       # 3.argument is how many time to replace that word\n",
    "\n",
    "\n",
    "# find() method    :  used to find place of word in string\n",
    "\n",
    "print(string.find(\"is\"))          # it shows position where it starting\n",
    "print(string.find(\"is\",1))       # 2.argument is given to where we want to start finding\n",
    "\n",
    "\n",
    "# center() method : adds * both side of string or anything(if string has odd no. * start from right , if even * start from left)\n",
    "\n",
    "name = \"David\"\n",
    "print(name.center(7,\"*\"))         # In 1.arg we give (5+2=7) 5-is string length and 2-is * to add , 2.arg ->  * given b/w \"\".\n",
    "\n",
    "user= input(\"Enter your name : \")\n",
    "print(user.center(len(user)+8,\"*\"))\n"
   ]
  },
  {
   "cell_type": "code",
   "execution_count": 29,
   "metadata": {},
   "outputs": [
    {
     "name": "stdout",
     "output_type": "stream",
     "text": [
      "12\n",
      "david taneja\n",
      "DAVID TANEJA\n",
      "David Taneja\n",
      "3\n"
     ]
    }
   ],
   "source": [
    "# string methods :\n",
    "\n",
    "name=\"David Taneja\"\n",
    "print(len(name))       # len() function : counts length and also space\n",
    "\n",
    "print(name.lower())    # lower() : loweer all the letters\n",
    "\n",
    "print(name.upper())    # upper() : upper all the letters\n",
    "\n",
    "print(name.title())     # capitalize the first letter of word \n",
    "\n",
    "print(name.count(\"a\"))      # count() it count the alphabet in string which we pass in this function"
   ]
  },
  {
   "cell_type": "code",
   "execution_count": 36,
   "metadata": {},
   "outputs": [
    {
     "name": "stdout",
     "output_type": "stream",
     "text": [
      "David TanejaDavid TanejaDavid Taneja\n",
      "David Taneja 5\n"
     ]
    }
   ],
   "source": [
    "x= \"David \"\n",
    "y=\"Taneja\"\n",
    "z=x+ y\n",
    "print( z*3 )\n",
    "print(z + \" 5\")"
   ]
  },
  {
   "cell_type": "markdown",
   "metadata": {},
   "source": [
    "## ----------------------------------------------------------------------"
   ]
  },
  {
   "cell_type": "markdown",
   "metadata": {},
   "source": [
    "## Chapter 3"
   ]
  },
  {
   "cell_type": "markdown",
   "metadata": {},
   "source": [
    "### if - else"
   ]
  },
  {
   "cell_type": "code",
   "execution_count": 48,
   "metadata": {},
   "outputs": [
    {
     "name": "stdout",
     "output_type": "stream",
     "text": [
      "Enter your age: 14\n",
      "You are above 14\n",
      "Please Enter your age: 15\n",
      "Ticket price : Rs.250\n"
     ]
    }
   ],
   "source": [
    "age = int(input(\"Enter your age: \"))\n",
    "\n",
    "if age>=14:                              # if-else\n",
    "    print(\"You are above 14\")   \n",
    "else:\n",
    "    print(\"you are not above 14\")\n",
    "\n",
    "    \n",
    "x=17                            # pass        \n",
    "if x>17:\n",
    "    pass \n",
    "\n",
    "\n",
    "                                                              # if-elif-else\n",
    "age=int(input(\"Please Enter your age: \"))\n",
    "if 0<age<=3:                                         \n",
    "    print(\"Ticket price : Free !!\")           # age b/w 0 and 3 ticket free         \n",
    "elif 4<=age<=10:                                     \n",
    "    print(\"Ticket price : Rs.100\")            # age b/w 4 and 10 ticket 100\n",
    "elif 11<=age<=60:                                    \n",
    "    print(\"Ticket price : Rs.250\")            # age b/w 11 and 60 ticket 250\n",
    "else:                                                \n",
    "    print(\"Ticket price : Rs.170\")            # age above>60  ticket "
   ]
  },
  {
   "cell_type": "code",
   "execution_count": null,
   "metadata": {},
   "outputs": [],
   "source": []
  },
  {
   "cell_type": "markdown",
   "metadata": {},
   "source": [
    "## Operators : "
   ]
  },
  {
   "cell_type": "code",
   "execution_count": null,
   "metadata": {},
   "outputs": [],
   "source": [
    "1.Arithmetic operator : (+ - * / %)   \n",
    "    ex: 2+3 ,  + is operator , 2 3 are operand\n",
    "        \n",
    "2.Assignment operator : (= , += , -= , *=) used to assign value\n",
    "    ex: var=10 , = is operator \n",
    "        var += 10  , means  var=var+10\n",
    "        \n",
    "3.Comparison operator : (< , > , <= , >= , !=) compare two values and return two output -> True / False\n",
    "    ex: a=10 , b=20 , a>b  False\n",
    "        \n",
    "4.Logical operator : (and , or , not)\n",
    "    and : both condition must be True\n",
    "        ex : a=10<10 , b=2>-1\n",
    "            print(a)  False\n",
    "    or : 1 condition must be True\n",
    "        \n",
    "5.Bitwise opeartor :  (& , | , << , >> , ~)      & and , | or , ~ not\n",
    "    ex: 7|5   -> 7\n",
    "        7&5   -> 5      \n",
    "        binary of 7=111 , 5=101  when applying or| it means 1 must be true we add binar values we get 111 it gives -> 7\n",
    "        similarly in case of & both must be true , we add binary we get -> 101 it gives  -> 5\n",
    "        \n",
    "        10 >> 2  : shifts right binary of 10=1010 shifts 2 time rightward we get -> 0010  gives output 2\n",
    "        10 << 2  : leaft shift 10=1010  shifts 2 times 101000  gives 40 , in left shift we not remove extra digit added\n",
    "                      \n",
    "6.Identity operator : (is , is not) basically two keywords\n",
    "    ex: x=10 , x is 10 -> True                        , used to test operands share identity or not.\n",
    "        x=10 , x is not 10 -> False\n",
    "        \n",
    "7.Membership operator : test whether a value is a member of a sequence or not (sequence can be list, string, tuple).\n",
    "    (in , not in) keywords\n",
    "    ex : pets=['dog', 'cat', 'wolf']\n",
    "        'lion' in pets            # here we checking 'lion' in pets list\n",
    "        False\n",
    "        \n",
    "        'me' in 'appointment' \n",
    "        True"
   ]
  },
  {
   "cell_type": "markdown",
   "metadata": {},
   "source": [
    "### keywords  : in , break , continue"
   ]
  },
  {
   "cell_type": "code",
   "execution_count": 66,
   "metadata": {
    "collapsed": true
   },
   "outputs": [
    {
     "name": "stdout",
     "output_type": "stream",
     "text": [
      "a is present in name !\n",
      "0\n",
      "1\n",
      "2\n",
      "3\n",
      "4\n",
      "0\n",
      "1\n",
      "2\n",
      "3\n",
      "4\n",
      "5\n",
      "6\n",
      "7\n",
      "8\n",
      "9\n"
     ]
    }
   ],
   "source": [
    "name=\"David\"                             # in   \n",
    "if \"a\" in name:                          # inplace of (name) also write string directly-> \"David\"\n",
    "    print(\"a is present in name !\")\n",
    "else:\n",
    "    print(\" not there!\")\n",
    "\n",
    "\n",
    "#    \n",
    "for i in range(11):      # it prints upto 10 no. \n",
    "    if i==5:             # if condn. --> when i=5 it breaks, it prints upto 4\n",
    "        break\n",
    "    print(i)\n",
    "    \n",
    "\n",
    "#    \n",
    "for i in range(11):              \n",
    "    if i==10:                # when if condn. false it prints , when if true(means i =5 ) continue runs\n",
    "        continue            # continue runs and it goes to start -> for condn. (not to print) \n",
    "    print(i)"
   ]
  },
  {
   "cell_type": "code",
   "execution_count": 74,
   "metadata": {},
   "outputs": [
    {
     "name": "stdout",
     "output_type": "stream",
     "text": [
      "Enter your name: \n",
      "you didn't type anything 'string is empty'\n"
     ]
    }
   ],
   "source": [
    "# To check var. or string is there  , its empty or not.\n",
    "\n",
    "# name=\"David\"\n",
    "name=input(\"Enter your name: \")         \n",
    "if name:\n",
    "    print(f\"your name is {name} 'string is not empty' \")\n",
    "else:\n",
    "    print(f\"you didn't type anything 'string is empty'\")"
   ]
  },
  {
   "cell_type": "code",
   "execution_count": null,
   "metadata": {},
   "outputs": [],
   "source": []
  },
  {
   "cell_type": "markdown",
   "metadata": {},
   "source": [
    "### while loop , for loop , infinite loop   "
   ]
  },
  {
   "cell_type": "code",
   "execution_count": 88,
   "metadata": {
    "collapsed": true
   },
   "outputs": [
    {
     "name": "stdout",
     "output_type": "stream",
     "text": [
      "1 hello world !\n",
      "hello world 1\n",
      "2 hello world !\n",
      "hello world 2\n",
      "3 hello world !\n",
      "hello world 3\n",
      "4 hello world !\n",
      "hello world 4\n",
      "5 hello world !\n",
      "hello world 5\n",
      "6 hello world !\n",
      "hello world 6\n",
      "7 hello world !\n",
      "hello world 7\n",
      "8 hello world !\n",
      "hello world 8\n",
      "9 hello world !\n",
      "hello world 9\n",
      "10 hello world !\n",
      "hello world 10\n"
     ]
    }
   ],
   "source": [
    "i=1                                               # while loop\n",
    "while i<=10:\n",
    "    print(i,'hello world !')\n",
    "    print(f\"hello world {i}\")           # to check i values how loop is running\n",
    "    i=i+1        # <-- if we not write this condition it become -> infinite loop         "
   ]
  },
  {
   "cell_type": "code",
   "execution_count": 86,
   "metadata": {},
   "outputs": [
    {
     "name": "stdout",
     "output_type": "stream",
     "text": [
      "55\n"
     ]
    }
   ],
   "source": [
    "# sum of 1 to 10 number using while loop \n",
    "total=0               # initially (total) value is 0, when loop runs i=1 it add in total,then 2,then 3,upto 10\n",
    "i=1\n",
    "while i <= 10:\n",
    "    total=total+i     # total = 0+1+2.....+10      # also write ( total += i)\n",
    "    i= i + 1 \n",
    "print(total)"
   ]
  },
  {
   "cell_type": "code",
   "execution_count": 95,
   "metadata": {},
   "outputs": [
    {
     "name": "stdout",
     "output_type": "stream",
     "text": [
      "55\n"
     ]
    }
   ],
   "source": [
    "total=0                             # sum of 10 digits              # for loop\n",
    "for i in range(11):      \n",
    "    total+=i\n",
    "print(total)"
   ]
  },
  {
   "cell_type": "code",
   "execution_count": 89,
   "metadata": {},
   "outputs": [],
   "source": [
    "# while True:                     # infinte loop \n",
    "    # print(\"Hello World!!\") "
   ]
  },
  {
   "cell_type": "code",
   "execution_count": 93,
   "metadata": {},
   "outputs": [
    {
     "name": "stdout",
     "output_type": "stream",
     "text": [
      "Hello World!!0\n",
      "Hello World!!1\n",
      "Hello World!!2\n",
      "Hello World!!3\n",
      "Hello World!!4\n",
      "Hello World!!5\n",
      "Hello World!!6\n",
      "Hello World!!7\n",
      "Hello World!!8\n",
      "Hello World!!9\n"
     ]
    }
   ],
   "source": [
    "for i in range(10):             # range goes from 10= 0 to 9   # range(1,11) it goes from 1 to 10\n",
    "    print(f\"Hello World!!{i}\") "
   ]
  },
  {
   "cell_type": "code",
   "execution_count": 97,
   "metadata": {
    "collapsed": true
   },
   "outputs": [
    {
     "name": "stdout",
     "output_type": "stream",
     "text": [
      "10\n",
      "9\n",
      "8\n",
      "7\n",
      "6\n",
      "5\n",
      "4\n",
      "3\n",
      "2\n",
      "1\n"
     ]
    }
   ],
   "source": [
    "for i in range (10,0,-1):      # to reach upto 1 write-> 0  ,  # 3.arg : is Step argument \n",
    "    print(i)"
   ]
  },
  {
   "cell_type": "code",
   "execution_count": 12,
   "metadata": {},
   "outputs": [
    {
     "name": "stdout",
     "output_type": "stream",
     "text": [
      "Enter a number you want sum of all no. upto that : 10\n",
      "55\n",
      "enter no. to add : 12\n",
      "3\n",
      "enetr your name: David\n",
      "d : 2\n",
      "a : 1\n",
      "v : 1\n",
      "i : 1\n"
     ]
    }
   ],
   "source": [
    "n = int(input('Enter a number you want sum of all no. upto that : '))                    # for loop examples\n",
    "total=0\n",
    "for i in range(n+1):\n",
    "    total += i\n",
    "print(total)\n",
    "\n",
    "\n",
    "# enter = 12568 and sum of numbers like => 1+2+5+6+8\n",
    "n=input('enter no. to add : ')\n",
    "total=0\n",
    "i=0\n",
    "for i in range(len(n)):\n",
    "    total += int(n[i])      # int using here bcoz above len() not take 'int' object, takes string.\n",
    "print(total)\n",
    "\n",
    "\n",
    "# count each character\n",
    "name = input('enetr your name: ').lower()        # lower() using here.\n",
    "i=0\n",
    "temp_var=''\n",
    "for i in range(len(name)):\n",
    "    if name[i] not in temp_var:\n",
    "        temp_var += name[i]\n",
    "        print(f\"{name[i]} : {name.count(name[i])}\")"
   ]
  },
  {
   "cell_type": "code",
   "execution_count": 1,
   "metadata": {},
   "outputs": [
    {
     "name": "stdout",
     "output_type": "stream",
     "text": [
      "Guess a number b/w 1 and 100 : 75\n",
      "Too low !!\n",
      "Guess Again : 85\n",
      "Too low !!\n",
      "Guess Again : 96\n",
      "Too High !!\n",
      "Guess Again : 92\n",
      "Too low !!\n",
      "Guess Again : 94\n",
      "You won 😀 !!, You guessed in 5 times\n"
     ]
    }
   ],
   "source": [
    "# Number guessing Game \n",
    "import random\n",
    "winning_number = random.randint(1,100)\n",
    "user = int(input('Guess a number b/w 1 and 100 : '))\n",
    "guess = 1\n",
    "game_over = False\n",
    "\n",
    "while True:                                                  # In place of True - we can also use 'not game_over'\n",
    "    if user == winning_number:\n",
    "        print(f\"You won \\U0001F600 !!, You guessed in {guess} times\")\n",
    "        break               # in place of 'break' we can also use-> game_over=True \n",
    "    else:\n",
    "        if user < winning_number:\n",
    "            print('Too low !!')\n",
    "        else:\n",
    "            print('Too High !!')\n",
    "            \n",
    "        guess +=1\n",
    "        user = int(input('Guess Again : '))"
   ]
  },
  {
   "cell_type": "code",
   "execution_count": 4,
   "metadata": {},
   "outputs": [
    {
     "name": "stdout",
     "output_type": "stream",
     "text": [
      "Enter your name : a\n",
      "Enter your age : 11\n",
      "You can watch COCO movie !!\n"
     ]
    }
   ],
   "source": [
    "# use of both( and , or )operator , # if user name starts with ('a' or 'A') and age above than 10 \n",
    "\n",
    "username = input('Enter your name : ')\n",
    "age = int(input('Enter your age : '))\n",
    "\n",
    "if age>10 and (username[0] == 'a' or username[0] == 'A'):\n",
    "    print('You can watch COCO movie !!')\n",
    "else:\n",
    "    print('Sorry !! You are not allowed to watch COCO movie')\n",
    "    "
   ]
  },
  {
   "cell_type": "code",
   "execution_count": 5,
   "metadata": {},
   "outputs": [
    {
     "name": "stdout",
     "output_type": "stream",
     "text": [
      "Enter number to add upto: 10\n",
      "55\n"
     ]
    }
   ],
   "source": [
    "# sum of n natural numbers\n",
    "n=int(input(\"Enter number to add upto: \"))\n",
    "total=0\n",
    "i=1\n",
    "while i<=n:\n",
    "    total=total+i\n",
    "    i=i+1\n",
    "print(total)"
   ]
  },
  {
   "cell_type": "code",
   "execution_count": 16,
   "metadata": {},
   "outputs": [
    {
     "name": "stdout",
     "output_type": "stream",
     "text": [
      "1 2 3 4 5 6 7 8 9 10 "
     ]
    }
   ],
   "source": [
    "for i in range(1,11):      \n",
    "    print(i,end=\" \")    # to print in same line use of end with \" \" space  , give anything like \",\"  \":\""
   ]
  },
  {
   "cell_type": "code",
   "execution_count": null,
   "metadata": {},
   "outputs": [],
   "source": []
  },
  {
   "cell_type": "markdown",
   "metadata": {},
   "source": [
    "## Chapter 4"
   ]
  },
  {
   "cell_type": "markdown",
   "metadata": {},
   "source": [
    "#### Functions ()"
   ]
  },
  {
   "cell_type": "code",
   "execution_count": 9,
   "metadata": {},
   "outputs": [
    {
     "name": "stdout",
     "output_type": "stream",
     "text": [
      "Enter 1st number: 5\n",
      "Enter 2nd number: 5\n",
      "10\n",
      "enter first name: David\n",
      "enter last name: Taneja\n",
      "DavidTaneja\n"
     ]
    }
   ],
   "source": [
    "def add(a,b):\n",
    "    return a+b\n",
    "\n",
    "a=int(input('Enter 1st number: ')) \n",
    "b=int(input('Enter 2nd number: ')) \n",
    "print(add(a,b))\n",
    "\n",
    "\n",
    "first_name=input(\"enter first name: \")\n",
    "last_name=input(\"enter last name: \")\n",
    "print(add(first_name, last_name))"
   ]
  },
  {
   "cell_type": "code",
   "execution_count": 10,
   "metadata": {},
   "outputs": [
    {
     "name": "stdout",
     "output_type": "stream",
     "text": [
      "Enter name : david taneja\n",
      "a\n"
     ]
    }
   ],
   "source": [
    "# print last_character of name\n",
    "def last_char(name):\n",
    "    return name[-1]\n",
    "name=input('Enter name : ')\n",
    "print(last_char(name))"
   ]
  },
  {
   "cell_type": "code",
   "execution_count": 14,
   "metadata": {},
   "outputs": [
    {
     "name": "stdout",
     "output_type": "stream",
     "text": [
      "Enter a number : 15\n",
      "odd\n",
      "Enter a number : 10\n",
      "True\n"
     ]
    }
   ],
   "source": [
    "# Check no. is odd or even\n",
    "def odd_even(num):\n",
    "    if num%2==0:\n",
    "        return 'even'\n",
    "    else:\n",
    "        return 'odd'\n",
    "num = int(input('Enter a number : '))\n",
    "print(odd_even(num))\n",
    "\n",
    "\n",
    "# another method\n",
    "def is_even(num):\n",
    "    return num%2==0            # return boolean value for even\n",
    "num = int(input('Enter a number : '))\n",
    "print(is_even(num))"
   ]
  },
  {
   "cell_type": "code",
   "execution_count": 22,
   "metadata": {},
   "outputs": [
    {
     "name": "stdout",
     "output_type": "stream",
     "text": [
      "Enter 1st number : 5\n",
      "Enter 2nd number : 4\n",
      "Enter 3rd number : 7\n",
      "7\n"
     ]
    }
   ],
   "source": [
    "# Using function inside function\n",
    "\n",
    "def greater(a,b):\n",
    "    if a>b:\n",
    "        return a\n",
    "    return b\n",
    "\n",
    "def new_greater(a,b,c):\n",
    "    bigger = greater(a,b)      # greater() used here b/w a,b and store in bigger var.\n",
    "    return greater(bigger,c)   # then again using greater() b/w bigger var. & c\n",
    "\n",
    "a = int(input('Enter 1st number : '))\n",
    "b = int(input('Enter 2nd number : '))\n",
    "c = int(input('Enter 3rd number : '))\n",
    "print(new_greater(a,b,c))\n",
    "\n",
    "\n",
    "\n",
    "\n",
    "# we can also check like : b/w 3 no.s greater is:\n",
    "def greatest(a,b,c):\n",
    "    if a>b and a>c:          # do greater 1 by 1\n",
    "        return a             #a\n",
    "    elif b>a and b>c:\n",
    "        return b             #c   \n",
    "    else:\n",
    "        return c "
   ]
  },
  {
   "cell_type": "markdown",
   "metadata": {},
   "source": [
    "##### fibonacci series"
   ]
  },
  {
   "cell_type": "code",
   "execution_count": 17,
   "metadata": {},
   "outputs": [
    {
     "name": "stdout",
     "output_type": "stream",
     "text": [
      "Enter a fibonacci number : 10\n",
      "0 1 1 2 3 5 8 13 21 34 "
     ]
    }
   ],
   "source": [
    "# fibonacci series : sum of last 2 digits is the next number (0 1 1 2 3 5 8 13 21 34 55) , 1st and 2nd -> 0,1 are fixed\n",
    "\n",
    "def fibonacci_seq(n):\n",
    "    a=0\n",
    "    b=1\n",
    "    if n==1:\n",
    "        print(a)\n",
    "    elif n==2:\n",
    "        print(a, b)\n",
    "    else:\n",
    "        print(a, b, end=\" \")\n",
    "        for i in range(n-2):\n",
    "            c=a+b               # c=0+1  becomes           # 2nd no. beccomes 1st and \n",
    "            a=b                 # a=1  becomes             # 3rd becomes sum of 1st & 2nd \n",
    "            b=c                 # b=c  becomes\n",
    "            print(b, end=\" \")\n",
    "\n",
    "n=int(input('Enter a fibonacci number : '))\n",
    "fibonacci_seq(n)"
   ]
  },
  {
   "cell_type": "raw",
   "metadata": {},
   "source": [
    "if we declare a variable outside function() called-> global var.   and   inside function()  called -> local var."
   ]
  },
  {
   "cell_type": "markdown",
   "metadata": {},
   "source": [
    "##### palindrome "
   ]
  },
  {
   "cell_type": "code",
   "execution_count": 21,
   "metadata": {},
   "outputs": [
    {
     "name": "stdout",
     "output_type": "stream",
     "text": [
      "Enter a word : david\n"
     ]
    },
    {
     "data": {
      "text/plain": [
       "False"
      ]
     },
     "execution_count": 21,
     "metadata": {},
     "output_type": "execute_result"
    }
   ],
   "source": [
    "# palindrome , means- words seems similar from starting and from backside also like : (madam=madam)\n",
    "\n",
    "\n",
    "# check word palindrome or not\n",
    "def is_palindrome(name,string):\n",
    "    if name==string:                          # use directly for boolean inplace of if-else -->  # return name==string\n",
    "        return True\n",
    "    return False\n",
    "\n",
    "name = input('Enter a word : ')\n",
    "string = name[::-1]\n",
    "is_palindrome(name,string)"
   ]
  },
  {
   "cell_type": "code",
   "execution_count": null,
   "metadata": {},
   "outputs": [],
   "source": []
  },
  {
   "cell_type": "code",
   "execution_count": null,
   "metadata": {},
   "outputs": [],
   "source": []
  },
  {
   "cell_type": "markdown",
   "metadata": {},
   "source": [
    "## Chapter 5"
   ]
  },
  {
   "cell_type": "markdown",
   "metadata": {},
   "source": [
    "#### List"
   ]
  },
  {
   "cell_type": "code",
   "execution_count": 31,
   "metadata": {},
   "outputs": [
    {
     "name": "stdout",
     "output_type": "stream",
     "text": [
      "['apple', 'grape', 'orange', 'banana']\n",
      "['mango', 'apple', 'grape', 'orange', 'banana']\n",
      "['mango', 'apple', 'grape', 'orange', 'banana', 'orange', 'guava', 'melon']\n",
      "['mango', 'apple', 'grape', 'orange', 'banana', 'orange', 'guava', 'melon']\n"
     ]
    }
   ],
   "source": [
    "fruit1=['apple' , 'grape', 'orange',]\n",
    "fruit2=['orange', 'guava', 'melon']\n",
    "\n",
    "fruit1.append('banana')                      # append()  method - add items in list  in lastplace.\n",
    "print(fruit1)\n",
    "\n",
    "fruit1.insert(0,'mango')         # insert() method - add items in list also at any index no. like : 0 given \n",
    "print(fruit1)\n",
    "\n",
    "print(fruit1+fruit2)        # this is called concatenation of lists\n",
    "\n",
    "fruit1.extend(fruit2)     # extend()  method add lists like: concatenation   \n",
    "print(fruit1)"
   ]
  },
  {
   "cell_type": "code",
   "execution_count": 43,
   "metadata": {},
   "outputs": [
    {
     "name": "stdout",
     "output_type": "stream",
     "text": [
      "pop: banana\n",
      "pop: ['appple', 'kiwi']\n",
      "del: ['appple', 'banana', 'kiwi', 'orange']\n",
      "remove:  ['appple', 'banana', 'kiwi', 'orange']\n"
     ]
    }
   ],
   "source": [
    "fruit=['appple', 'banana', 'grape', 'kiwi', 'orange']\n",
    "\n",
    "print('pop:',fruit.pop(1))    # if we use like this it gives deleted item                   # 1. pop() method\n",
    "fruit.pop()      # this deletes last item \n",
    "fruit.pop(1)    # if we give any index no. it deletes that item of list\n",
    "print('pop:', fruit)\n",
    "\n",
    "\n",
    "fruit=['appple', 'banana', 'grape', 'kiwi', 'orange']                                     # 2. del method \n",
    "del fruit[2]            # use this way and we also pass index no. here \n",
    "print('del:', fruit)\n",
    "\n",
    "\n",
    "fruit=['appple', 'banana', 'grape', 'kiwi', 'orange']                                    # 3. remove() method\n",
    "fruit.remove('grape')   # we pass in this item \n",
    "print('remove: ', fruit)"
   ]
  },
  {
   "cell_type": "code",
   "execution_count": 44,
   "metadata": {},
   "outputs": [
    {
     "name": "stdout",
     "output_type": "stream",
     "text": [
      "kiwi is present\n"
     ]
    }
   ],
   "source": [
    "fruit=['appple', 'banana', 'grape', 'kiwi', 'orange']             # in keyword\n",
    "\n",
    "if 'kiwi' in fruit:\n",
    "    print(\"kiwi is present\")\n",
    "else:\n",
    "    print(\"kiwi not present\")"
   ]
  },
  {
   "cell_type": "code",
   "execution_count": 50,
   "metadata": {},
   "outputs": [
    {
     "name": "stdout",
     "output_type": "stream",
     "text": [
      "False\n",
      "False\n"
     ]
    }
   ],
   "source": [
    "# list comparison   ( ==  , is  )\n",
    "\n",
    "fruit1=['apple', 'banana', 'grape', 'kiwi', 'apple', 'orange', 'apple']   # object1\n",
    "fruit2=['apple', 'banana', 'grape', 'kiwi', 'apple', 'orange', 'apple']   # object2\n",
    "\n",
    "print(fruit1==fruit2)   \n",
    "\n",
    "print(fruit1 is fruit2)    # is checks the both list are in the same place or not (both are different object)"
   ]
  },
  {
   "cell_type": "code",
   "execution_count": 52,
   "metadata": {},
   "outputs": [
    {
     "name": "stdout",
     "output_type": "stream",
     "text": [
      "['david', '25']\n",
      "['david', '25']\n",
      "enter your name and age with ',' separated : David,27\n",
      "David\n",
      "27\n"
     ]
    }
   ],
   "source": [
    "# Split()  method\n",
    "\n",
    "user_info=\"david 25\".split()         # it split where space is in string and give lists\n",
    "user_info1=\"david,25\".split(',')     # it splits the string where (,) is used in string \n",
    "print(user_info)\n",
    "print(user_info1)\n",
    "\n",
    "name,age=input(\"enter your name and age with ',' separated : \").split(',')\n",
    "print(name)\n",
    "print(age)"
   ]
  },
  {
   "cell_type": "code",
   "execution_count": 56,
   "metadata": {},
   "outputs": [
    {
     "name": "stdout",
     "output_type": "stream",
     "text": [
      "david, 25\n"
     ]
    }
   ],
   "source": [
    "#join method()\n",
    "\n",
    "user1=[\"david\" , \"25\"]    # put int value(25) in string\n",
    "print(', '.join(user1))    # it joins the string with (,)"
   ]
  },
  {
   "cell_type": "markdown",
   "metadata": {},
   "source": [
    "#### array"
   ]
  },
  {
   "cell_type": "code",
   "execution_count": 1,
   "metadata": {},
   "outputs": [
    {
     "name": "stdout",
     "output_type": "stream",
     "text": [
      "array('i', [1, 2, 3, 4, 5])\n",
      "array('d', [1.5, 2.5, 7.5])\n"
     ]
    }
   ],
   "source": [
    "import array as arr\n",
    "\n",
    "a = arr.array('i', [1,2,3,4,5])\n",
    "print(a)\n",
    "\n",
    "b = arr.array('d', [1.5, 2.5, 7.5])\n",
    "print(b)"
   ]
  },
  {
   "cell_type": "markdown",
   "metadata": {},
   "source": [
    "##### Module : is simply a file containing python code, It may contain functions, classes etc."
   ]
  },
  {
   "cell_type": "markdown",
   "metadata": {},
   "source": [
    "#### list vs array :\n",
    "\n",
    "array --> ordered collection of items, it can store single datatype value                                                   \n",
    "list --> store any data , store any datatype value.                                                                       \n",
    "python-> array module --> store fix data type                                                                                 \n",
    "javascript array = python list    (any data store)                                                                           \n",
    "numpy module(arrays) --> for calculations like in data sceince                                                                \n",
    "great binding b/w python and C (also create a bridge b/w this python->flexible and c->speed)                                   "
   ]
  },
  {
   "cell_type": "markdown",
   "metadata": {},
   "source": [
    "##### list vs string :"
   ]
  },
  {
   "cell_type": "raw",
   "metadata": {},
   "source": [
    "list --> mutable       ( can be change )\n",
    "string --> immutable   (can not change )"
   ]
  },
  {
   "cell_type": "code",
   "execution_count": 57,
   "metadata": {},
   "outputs": [
    {
     "name": "stdout",
     "output_type": "stream",
     "text": [
      "string\n",
      "String\n"
     ]
    }
   ],
   "source": [
    "s= \"string\"\n",
    "t= s.title()      # it create another string and store in 't' but it can not change 's' string\n",
    "print(s)\n",
    "print(t)  # title() capitals the 1st alphabet of word"
   ]
  },
  {
   "cell_type": "code",
   "execution_count": 65,
   "metadata": {},
   "outputs": [
    {
     "name": "stdout",
     "output_type": "stream",
     "text": [
      "apple banana grape kiwi apple orange apple ; apple banana grape kiwi apple orange apple ; "
     ]
    }
   ],
   "source": [
    "fruit=['apple', 'banana', 'grape', 'kiwi', 'apple', 'orange', 'apple',';']   # object1\n",
    "\n",
    "for i in fruit:\n",
    "    print(i, end=\" \")       # use of (end=\" \") prints all in same line\n",
    "\n",
    "    \n",
    "i=0\n",
    "while i<len(fruit):\n",
    "    print(fruit[i], end=\" \")\n",
    "    i+=1"
   ]
  },
  {
   "cell_type": "code",
   "execution_count": 72,
   "metadata": {},
   "outputs": [
    {
     "name": "stdout",
     "output_type": "stream",
     "text": [
      "[1, 2, 3] [4, 5, 6] [7, 8, 9] 1 2 3 4 5 6 7 8 9 \n",
      " 5\n",
      "<class 'list'>\n"
     ]
    }
   ],
   "source": [
    "# list in list\n",
    "\n",
    "matrix=[[1,2,3], [4,5,6], [7,8,9]]           # 3 items in list\n",
    "\n",
    "for t in matrix:               # run while loop also\n",
    "    print(t, end=\" \")\n",
    "    \n",
    "    \n",
    "for items in matrix:        # here we print all items of list\n",
    "    for i in items:\n",
    "        print(i, end=\" \")\n",
    "        \n",
    "        \n",
    "print('\\n',matrix[1][1])    \n",
    "\n",
    "\n",
    "print(type(matrix))         # type() method"
   ]
  },
  {
   "cell_type": "code",
   "execution_count": 77,
   "metadata": {},
   "outputs": [
    {
     "name": "stdout",
     "output_type": "stream",
     "text": [
      "3\n",
      "['apple', 'apple', 'apple', 'banana', 'grape', 'kiwi', 'orange']\n",
      "[5, 6, 8, 26, 45, 55, 69, 78]\n",
      "[]\n",
      "['apple', 'apple', 'apple', 'banana', 'grape', 'kiwi', 'orange']\n",
      "[]\n"
     ]
    }
   ],
   "source": [
    "#count\n",
    "fruit=['apple', 'banana', 'grape', 'kiwi', 'apple', 'orange', 'apple']\n",
    "print(fruit.count('apple'))\n",
    "\n",
    "\n",
    "#sort                         sorting : arrange--> alphabetical order , numeric \n",
    "fruit.sort() \n",
    "print(fruit)  \n",
    "\n",
    "\n",
    "numbers=[5,6,8,55,78,26,45,69]\n",
    "numbers.sort()\n",
    "print(numbers)\n",
    "\n",
    "\n",
    "# clear , clears the list\n",
    "numbers.clear()\n",
    "print(numbers)\n",
    "\n",
    "\n",
    "\n",
    "#copy\n",
    "fruit1=fruit.copy()\n",
    "num=numbers.copy()\n",
    "print(fruit1)\n",
    "print(num)"
   ]
  },
  {
   "cell_type": "code",
   "execution_count": 4,
   "metadata": {},
   "outputs": [
    {
     "name": "stdout",
     "output_type": "stream",
     "text": [
      "6\n"
     ]
    }
   ],
   "source": [
    "numbers=[1,2,3,4,5,6,7,8,9,1]\n",
    "print(numbers.index(7,3))"
   ]
  },
  {
   "cell_type": "code",
   "execution_count": 6,
   "metadata": {},
   "outputs": [
    {
     "name": "stdout",
     "output_type": "stream",
     "text": [
      "[1, 2, 3, 4, 5, 6, 7, 8, 9, 10]\n",
      "1 2 3 4 5 6 7 8 9 10 "
     ]
    }
   ],
   "source": [
    "# genearte list with range function\n",
    "number=list(range(1,11))\n",
    "print(number)\n",
    "for i in number:\n",
    "    print(i, end=\" \")"
   ]
  },
  {
   "cell_type": "code",
   "execution_count": 8,
   "metadata": {},
   "outputs": [
    {
     "name": "stdout",
     "output_type": "stream",
     "text": [
      "4\n",
      "78\n",
      "74\n"
     ]
    }
   ],
   "source": [
    "num=[4,55,78,69,25,65]\n",
    "print(min(num))           # min()\n",
    "print(max(num))          # max() \n",
    "\n",
    "\n",
    "# define a func. take list as input and return greatest difference\n",
    "def great_diff(l):\n",
    "    return max(l)-min(l)\n",
    "print(great_diff(num))"
   ]
  },
  {
   "cell_type": "code",
   "execution_count": 34,
   "metadata": {},
   "outputs": [
    {
     "name": "stdout",
     "output_type": "stream",
     "text": [
      "[1, 4, 9, 16, 25, 36, 49, 64, 81, 100]\n"
     ]
    }
   ],
   "source": [
    "num=list(range(1,11))\n",
    "def square_num(l):\n",
    "    square=[]\n",
    "    for i in l:\n",
    "        square.append(i**2)\n",
    "    return square\n",
    "print(square_num(num))"
   ]
  },
  {
   "cell_type": "code",
   "execution_count": 41,
   "metadata": {},
   "outputs": [
    {
     "name": "stdout",
     "output_type": "stream",
     "text": [
      "[10, 9, 8, 7, 6, 5, 4, 3, 2, 1]\n",
      "[10, 9, 8, 7, 6, 5, 4, 3, 2, 1]\n",
      "[10, 9, 8, 7, 6, 5, 4, 3, 2, 1]\n"
     ]
    }
   ],
   "source": [
    "# define a func. which take list as a argument and return reverse list (using pop and append method)\n",
    "\n",
    "\n",
    "num=list(range(1,11))              # reverse list using- pop and append method\n",
    "def reverse_list(l):\n",
    "    reversed_item=[]\n",
    "    for i in range(len(num)):\n",
    "        reversed_item.append(num.pop())\n",
    "    return reversed_item\n",
    "print(reverse_list(num))\n",
    "\n",
    "\n",
    "\n",
    "num=list(range(1,11))              # string slicing method\n",
    "def rev_list_slicing(l):\n",
    "    return l[::-1]\n",
    "print(rev_list_slicing(num))\n",
    "\n",
    "\n",
    "\n",
    "num=list(range(1,11))              # reverse() method\n",
    "def reverse(l):\n",
    "    l.reverse()\n",
    "    return l\n",
    "print(reverse(num))"
   ]
  },
  {
   "cell_type": "code",
   "execution_count": 42,
   "metadata": {},
   "outputs": [
    {
     "name": "stdout",
     "output_type": "stream",
     "text": [
      "['cba', 'fed', 'ihg', 'lkj']\n"
     ]
    }
   ],
   "source": [
    "# return list by reversing every element of list like :  ['abc','def','ghi']-->['cba','fed','ihg']\n",
    "\n",
    "string=['abc','def','ghi','jkl']\n",
    "def rev_fun(l):\n",
    "    rev_list=[]\n",
    "    for i in l:\n",
    "        rev_list.append(i[::-1])\n",
    "    return rev_list\n",
    "print(rev_fun(string))"
   ]
  },
  {
   "cell_type": "code",
   "execution_count": 46,
   "metadata": {},
   "outputs": [
    {
     "name": "stdout",
     "output_type": "stream",
     "text": [
      "odd numbers : [1, 3, 5, 7, 9]\n",
      "even numbers : [2, 4, 6, 8, 10]\n"
     ]
    }
   ],
   "source": [
    "# filter odd  or  even numbers from list\n",
    "\n",
    "num=list(range(1,11))\n",
    "def odd_even(n):\n",
    "    odd=[]\n",
    "    even=[]\n",
    "    for i in n:\n",
    "        if i%2==0:\n",
    "            even.append(i)\n",
    "        else:\n",
    "            odd.append(i)\n",
    "    print(f\"odd numbers : {odd}\")\n",
    "    print(f\"even numbers : {even}\")    \n",
    "\n",
    "odd_even(num)"
   ]
  },
  {
   "cell_type": "code",
   "execution_count": 47,
   "metadata": {},
   "outputs": [
    {
     "name": "stdout",
     "output_type": "stream",
     "text": [
      "matched elements : [1, 2, 3, 5]\n",
      "items not matched : [4, 7]\n"
     ]
    }
   ],
   "source": [
    "# find common elements of two different lists \n",
    "\n",
    "list1,list2= [1,2,3,4,5,7] , [1,2,5,3,6]      # two list\n",
    "def common_finder(l1,l2):\n",
    "    matched_items=[]\n",
    "    not_matched=[]\n",
    "    for i in l1:\n",
    "        if i in l2:\n",
    "            matched_items.append(i)\n",
    "        else:\n",
    "            not_matched.append(i)\n",
    "    print(f\"matched elements : {matched_items}\")\n",
    "    print(f\"items not matched : {not_matched}\")     # problem : it given st list not matched , left the 2nd list not match item\n",
    "common_finder(list1,list2)"
   ]
  },
  {
   "cell_type": "code",
   "execution_count": 48,
   "metadata": {},
   "outputs": [
    {
     "name": "stdout",
     "output_type": "stream",
     "text": [
      "2\n"
     ]
    }
   ],
   "source": [
    "# find How many no. of lists in a list\n",
    "\n",
    "def list_count(l):\n",
    "    count=0\n",
    "    for i in l:\n",
    "        if type(i)==list:\n",
    "            count+=1\n",
    "    return count\n",
    "\n",
    "lists=[1,2,3,[2,3],[4,5]]\n",
    "print(list_count(lists))"
   ]
  },
  {
   "cell_type": "code",
   "execution_count": null,
   "metadata": {},
   "outputs": [],
   "source": []
  },
  {
   "cell_type": "code",
   "execution_count": null,
   "metadata": {},
   "outputs": [],
   "source": []
  },
  {
   "cell_type": "markdown",
   "metadata": {},
   "source": [
    "## Chapter 6 : tuple"
   ]
  },
  {
   "cell_type": "code",
   "execution_count": 65,
   "metadata": {},
   "outputs": [
    {
     "name": "stdout",
     "output_type": "stream",
     "text": [
      "<class 'tuple'>\n",
      "<class 'tuple'>\n",
      "<class 'tuple'>\n",
      "david\n",
      "('managal', 'budh', ['dopahar', 'shyam', 'faridabad'])\n"
     ]
    }
   ],
   "source": [
    "# tuple is data structure (it can store any data type), tuple are immutable(can not update), used where data can not change\n",
    "# tuple are faster than lists\n",
    "\n",
    "\n",
    "# TUPLE WITH ONE ELMENT \n",
    "num=(1,)                   # without comma it is int       , so comma(,) is must \n",
    "word=('word1',)            # without comma it is string\n",
    "print(type(num))\n",
    "print(type(word))\n",
    "\n",
    "\n",
    "# tuple without paranthesis\n",
    "game='yamaha','honda','pulsar','suzuki'          # by default it create tuple\n",
    "print(type(game))\n",
    "\n",
    "\n",
    "# tuple unpacking\n",
    "guitar=('david','ankit','mahender')     # unpacking of elements in different var.\n",
    "guitar1,guitar2,guitar3=guitar      # must use 3 var=3 element (3 var. taken acc.to elements store in 1 element)\n",
    "print(guitar1)         #guitar2 , guitar3    \n",
    "\n",
    "\n",
    "# list inside tuple        ( can not change tuple data but list can be changed)\n",
    "favor=('managal', 'budh', ['dopahar', 'shyam'])\n",
    "favor[2].pop()\n",
    "favor[2].insert(2,'hairat')     # .append('faridabad')\n",
    "print(favor)"
   ]
  },
  {
   "cell_type": "code",
   "execution_count": 67,
   "metadata": {},
   "outputs": [
    {
     "name": "stdout",
     "output_type": "stream",
     "text": [
      "enter 1st no.: 5\n",
      "enter 2nd no.: 5\n",
      "(10, 25)\n",
      "add :  10\n",
      "multiply :  25\n"
     ]
    }
   ],
   "source": [
    "# function returning two values\n",
    "\n",
    "def func(int1,int2):\n",
    "    add=int1+int2\n",
    "    multiply=int1*int2\n",
    "    return add, multiply     # returning 2 values\n",
    "\n",
    "a=int(input(\"enter 1st no.: \"))\n",
    "b=int(input(\"enter 2nd no.: \"))\n",
    "print(func(a,b))                   # it return two values but in tuple\n",
    "\n",
    "add,multiply=func(a,b)        # store in var then, unpacking\n",
    "print('add : ',add)                    # print separately\n",
    "print('multiply : ',multiply) "
   ]
  },
  {
   "cell_type": "code",
   "execution_count": 73,
   "metadata": {},
   "outputs": [
    {
     "name": "stdout",
     "output_type": "stream",
     "text": [
      "(1, 2, 3, 4, 5, 6, 7, 8, 9, 10)\n",
      "[1, 2, 3, 4, 5, 6, 7, 8, 9, 10]\n",
      "(1, 2, 3, 4, 5, 6, 7, 8, 9, 10)\n"
     ]
    }
   ],
   "source": [
    "num=tuple(range(1,11))          # creating a tuple\n",
    "print(num)\n",
    "\n",
    "print(list(num))            # changing tuple into list     , check using  ->  type()\n",
    "\n",
    "print(str(num))            # changing tuple into string"
   ]
  },
  {
   "cell_type": "code",
   "execution_count": null,
   "metadata": {},
   "outputs": [],
   "source": []
  },
  {
   "cell_type": "markdown",
   "metadata": {},
   "source": [
    "#### Hash Table or Hashmap : is a type of data structure that maps keys to its value pairs."
   ]
  },
  {
   "cell_type": "markdown",
   "metadata": {},
   "source": [
    "## chapter 7  : dictionary {}"
   ]
  },
  {
   "cell_type": "code",
   "execution_count": 76,
   "metadata": {},
   "outputs": [
    {
     "name": "stdout",
     "output_type": "stream",
     "text": [
      "{'name': 'David', 'age': 25}\n",
      "<class 'dict'>\n",
      "{'name': 'DAVID', 'age': 25}\n",
      "DAVID\n",
      "25\n",
      "{'name': 'david', 'age': 25, 'fav_mov': ['hulk', 'thor'], 'hobby': ['gymming', 'volley']}\n",
      "{'name': 'david', 'age': 25}\n"
     ]
    }
   ],
   "source": [
    "# dictionary : unordered collection of data in {key : value} pair, bcoz of limitation of list, not enough to represent real data\n",
    "# dictionary-->  {}  ,     tuple --> ()  ,     lsit --> []\n",
    "# In dictionary index no.[] is not used bcoz of unorder collection of data , to access key value is used in dict{}\n",
    "\n",
    "# method 1 to create dictionary\n",
    "user={'name':'David', 'age':25}\n",
    "print(user)\n",
    "print(type(user))\n",
    "\n",
    "# method 2 to create dictionary     (dict)\n",
    "user1=dict(name='DAVID', age=25)               \n",
    "print(user1)\n",
    "\n",
    "# to access values --> ( key ) is used in dictionary , \n",
    "print(user1['name'])          # name--> is key\n",
    "print(user1['age'])           # age--> is key\n",
    "\n",
    "\n",
    "# unorder dictionary  ,   # list can be used in dictionary\n",
    "user_info={'name':'david', 'age':25, 'fav_mov':['hulk','thor'], 'hobby':['gymming','volley']}\n",
    "print(user_info)                # access list of dictionary \n",
    "\n",
    "\n",
    "# dictionary in dictionary\n",
    "# users={user1:{.....} , user2:{......}   ..  }\n",
    "\n",
    "\n",
    "# add data in dictionary \n",
    "user_info2={}\n",
    "user_info2['name']='david'\n",
    "user_info2['age']=25\n",
    "print(user_info2)"
   ]
  },
  {
   "cell_type": "code",
   "execution_count": 87,
   "metadata": {},
   "outputs": [
    {
     "name": "stdout",
     "output_type": "stream",
     "text": [
      "present\n",
      "present\n",
      "name\n",
      "age\n",
      "fav_mov\n",
      "hobby\n",
      "dict_values(['david', 25, ['hulk', 'thor'], ['gymming', 'volley']])\n",
      "dict_keys(['name', 'age', 'fav_mov', 'hobby'])\n",
      "dict_items([('name', 'david'), ('age', 25), ('fav_mov', ['hulk', 'thor']), ('hobby', ['gymming', 'volley'])])\n",
      "<class 'dict_items'>\n",
      "name:david \n",
      "age:25 \n",
      "fav_mov:['hulk', 'thor'] \n",
      "hobby:['gymming', 'volley'] \n"
     ]
    }
   ],
   "source": [
    "user_info={'name':'david', 'age':25, 'fav_mov':['hulk','thor'], 'hobby':['gymming','volley']}\n",
    "\n",
    "if 'name' in user_info:                # checking key present in dict.\n",
    "    print('present')\n",
    "else:\n",
    "    print('not present')\n",
    "    \n",
    "\n",
    "if 'david' in user_info.values():      # .values() method used to check values in dict.\n",
    "    print('present')\n",
    "else:\n",
    "    print('not present')\n",
    "    \n",
    "    \n",
    "for i in user_info:            # prints keys only of dict. , we have to use .values() method to check values of dict.\n",
    "    print(i)                      # or use print(user_info[i])\n",
    "    \n",
    "\n",
    "user_value=user_info.values()     # values() method : print all values in a list like of dictionary\n",
    "print(user_value)\n",
    "\n",
    "\n",
    "user_info_key=user_info.keys()    # keys() method : print all keys in list of dictionary\n",
    "print(user_info_key)\n",
    "\n",
    "\n",
    "\n",
    "user_item=user_info.items()       # item method--> return tuple like list items (key , value)\n",
    "print(user_item)\n",
    "print(type(user_item))\n",
    "\n",
    "\n",
    "for key, value in  user_info.items():        # item() method use like this\n",
    "    print(f\"{key}:{value} \")"
   ]
  },
  {
   "cell_type": "code",
   "execution_count": 91,
   "metadata": {},
   "outputs": [
    {
     "name": "stdout",
     "output_type": "stream",
     "text": [
      "{'name': 'david', 'age': 25, 'fav_mov': ['hulk', 'thor'], 'hobby': ['gymming', 'volley'], 'fav_songs': ['song1', 'song2']}\n",
      "It returns ['gymming', 'volley']\n",
      "{'name': 'david', 'age': 25, 'fav_mov': ['hulk', 'thor'], 'fav_songs': ['song1', 'song2']}\n",
      "<class 'list'>\n",
      "('fav_songs', ['song1', 'song2'])\n",
      "{'name': 'david', 'age': 25, 'fav_mov': ['hulk', 'thor']}\n",
      "<class 'tuple'>\n"
     ]
    }
   ],
   "source": [
    "user_info={'name':'david', 'age':25, 'fav_mov':['hulk','thor'], 'hobby':['gymming','volley']}\n",
    "\n",
    "user_info['fav_songs']=['song1','song2']             # adding data \n",
    "print(user_info)\n",
    "\n",
    "\n",
    "pop_item=user_info.pop('hobby')       # pop() method , ()in this atleast 1 argument should be passed\n",
    "print(f\"It returns {pop_item}\")        # delete key and return value like list\n",
    "print(user_info)\n",
    "print(type(pop_item))\n",
    "\n",
    "\n",
    "popped=user_info.popitem()          # in popitem()--> no argument is passed    \n",
    "print(popped)                     # it delete randomly (last item) \n",
    "print(user_info)\n",
    "print(type(popped))             # delete key & return value like tuple"
   ]
  },
  {
   "cell_type": "code",
   "execution_count": 92,
   "metadata": {},
   "outputs": [
    {
     "name": "stdout",
     "output_type": "stream",
     "text": [
      "{'name': 'david taneja', 'age': 25, 'fav_mov': ['sci-fi'], 'hobby': ['gymming', 'volley'], 'state': 'haryana', 'fav_songs': ['song1', 'song2']}\n"
     ]
    }
   ],
   "source": [
    "user_info={'name':'david', 'age':25, 'fav_mov':['hulk','thor'], 'hobby':['gymming','volley']}\n",
    "\n",
    "more_info={'name':'david taneja',  'state':'haryana', 'fav_songs':['song1','song2'], 'fav_mov':['sci-fi']}\n",
    "\n",
    "user_info.update(more_info)          # if same key comes , it updates with new key value(or overwrites) \n",
    "print(user_info)"
   ]
  },
  {
   "cell_type": "code",
   "execution_count": 102,
   "metadata": {},
   "outputs": [
    {
     "name": "stdout",
     "output_type": "stream",
     "text": [
      "{'name': 'DAVID', 'age': 25}\n",
      "{'name': 'unknown', 'age': 'unknown', 'height': 'unknown'}\n",
      "{'a': 'unknown', 'b': 'unknown', 'c': 'unknown', 'd': 'unknown'}\n",
      "{1: 'unknown', 2: 'unknown', 3: 'unknown', 4: 'unknown', 5: 'unknown', 6: 'unknown', 7: 'unknown', 8: 'unknown', 9: 'unknown', 10: 'unknown'}\n"
     ]
    }
   ],
   "source": [
    "user1=dict(name='DAVID', age=25)         # dict() method        \n",
    "print(user1)\n",
    "\n",
    "# fromkeys() method\n",
    "\n",
    "d=dict.fromkeys(('name','age','height'), 'unknown')    # fromkeys() , (1st-> keys) , (2nd-> values(unknown)) assign to all keys\n",
    "print(d)\n",
    "\n",
    "\n",
    "d1=dict.fromkeys(('abcd'), 'unknown')     # if we enter string \"abc\" it enter keys separately and assign unknwon value\n",
    "print(d1)\n",
    "\n",
    "\n",
    "d2=dict.fromkeys(range(1,11), 'unknown')    # range 1 to 10 and assign--> unknown\n",
    "print(d2)"
   ]
  },
  {
   "cell_type": "code",
   "execution_count": 113,
   "metadata": {},
   "outputs": [
    {
     "name": "stdout",
     "output_type": "stream",
     "text": [
      "unknown\n",
      "None\n",
      "present\n",
      "not found !\n",
      "{'name': 'david', 'age': 28}\n",
      "28\n"
     ]
    }
   ],
   "source": [
    "d4={'name':'unknown', 'age':'unknown'}                 # get() method\n",
    "\n",
    "# print(d4['names'])     # show error\n",
    "print(d4.get('name'))      # give value\n",
    "print(d4.get('names'))       # show --> None   ( means names not exist in dictionary)\n",
    "\n",
    "\n",
    "if d4.get('name'):\n",
    "    print('present')\n",
    "else:\n",
    "    print('not present')\n",
    "    \n",
    "    \n",
    "print(d4.get('names', 'not found !'))    # we can overwrite also (none)\n",
    "\n",
    "\n",
    "user1 ={'name':'david', 'age':25, 'age':28}   # if two same keys (age) are in it, then it overwrites\n",
    "print(user1)            # overwrite --> age\n",
    "print(user1.get('age'))"
   ]
  },
  {
   "cell_type": "code",
   "execution_count": 107,
   "metadata": {},
   "outputs": [
    {
     "name": "stdout",
     "output_type": "stream",
     "text": [
      "{}\n"
     ]
    }
   ],
   "source": [
    "d4={'name':'unknown', 'age':'unknown'}                 # clear() method\n",
    "d4.clear()\n",
    "print(d4)                              # clears data of dict{}"
   ]
  },
  {
   "cell_type": "code",
   "execution_count": 110,
   "metadata": {},
   "outputs": [
    {
     "name": "stdout",
     "output_type": "stream",
     "text": [
      "{'name': 'unknown', 'age': 'unknown'}\n",
      "False\n"
     ]
    }
   ],
   "source": [
    "d4={'name':'unknown', 'age':'unknown'} \n",
    "\n",
    "# copy() method           # d5 = d4 , if we use assign =, both d5,d4 are same dictionary\n",
    "d5=d4.copy()              # if use copy() , d4 data copy in d5 var , and  both are different dictionary\n",
    "print(d5)\n",
    "\n",
    "# to check both are different dicionary \n",
    "print(d5 is d4)"
   ]
  },
  {
   "cell_type": "code",
   "execution_count": 117,
   "metadata": {},
   "outputs": [
    {
     "name": "stdout",
     "output_type": "stream",
     "text": [
      "Enter a string: David\n"
     ]
    },
    {
     "data": {
      "text/plain": [
       "{'d': 2, 'a': 1, 'v': 1, 'i': 1}"
      ]
     },
     "execution_count": 117,
     "metadata": {},
     "output_type": "execute_result"
    }
   ],
   "source": [
    "# In list we count word and also check it repeats or not and store in temp_var='' .\n",
    "# But in dictionary, there is no need to check bcoz it overwrites.\n",
    "\n",
    "def word_count(s):\n",
    "    num={}\n",
    "    for i in s:\n",
    "        num[i] = s.count(i)\n",
    "    return num\n",
    "\n",
    "string = input('Enter a string: ').lower()\n",
    "word_count(string)"
   ]
  },
  {
   "cell_type": "code",
   "execution_count": 1,
   "metadata": {},
   "outputs": [
    {
     "name": "stdout",
     "output_type": "stream",
     "text": [
      "Enter numbers to cube : 5\n",
      "{1: 1, 2: 8, 3: 27, 4: 64, 5: 125}\n"
     ]
    }
   ],
   "source": [
    "# def a func takes a no. (n), return a dictionary contain cube of no. like : {1:1, 2:8, 3:27, 4:64}\n",
    "\n",
    "def cube_dict(n):\n",
    "    cubed_num={}\n",
    "    for i in range(1,n+1):\n",
    "        cubed_num[i]=i**3       # dict name[key]=value     \n",
    "    return cubed_num\n",
    "n=int(input('Enter numbers to cube : '))\n",
    "print(cube_dict(n))"
   ]
  },
  {
   "cell_type": "code",
   "execution_count": 3,
   "metadata": {},
   "outputs": [
    {
     "name": "stdout",
     "output_type": "stream",
     "text": [
      "Enter your name : David\n",
      "Enter your age : 27\n",
      "Enter movies name : sci-fi\n",
      "Enter hobby names : volley\n",
      "{'Name': 'David', 'Age': '27', 'Movies': 'sci-fi', 'Hobbies': 'volley'}\n",
      "Name : David\n",
      "Age : 27\n",
      "Movies : sci-fi\n",
      "Hobbies : volley\n"
     ]
    }
   ],
   "source": [
    "# take user data and print in dictionary ( but not in same line)\n",
    "user={}\n",
    "Name=input('Enter your name : ')\n",
    "Age=input('Enter your age : ')\n",
    "Movies=input('Enter movies name : ')\n",
    "Hobbies=input('Enter hobby names : ')\n",
    "\n",
    "user['Name']=Name\n",
    "user['Age']=Age\n",
    "user['Movies']=Movies\n",
    "user['Hobbies']=Hobbies\n",
    "\n",
    "print(user) \n",
    "\n",
    "for key, values in user.items():       # items() method  key,value\n",
    "    print(f\"{key} : {values}\")"
   ]
  },
  {
   "cell_type": "code",
   "execution_count": null,
   "metadata": {},
   "outputs": [],
   "source": []
  },
  {
   "cell_type": "code",
   "execution_count": null,
   "metadata": {},
   "outputs": [],
   "source": []
  },
  {
   "cell_type": "markdown",
   "metadata": {},
   "source": [
    "## Chapter 8"
   ]
  },
  {
   "cell_type": "markdown",
   "metadata": {},
   "source": [
    "#### sets"
   ]
  },
  {
   "cell_type": "code",
   "execution_count": 5,
   "metadata": {},
   "outputs": [
    {
     "name": "stdout",
     "output_type": "stream",
     "text": [
      "{1, 2, 3}\n",
      "[1, 2, 3, 4, 5, 5, 5, 6, 7, 7, 8, 9, 9]\n",
      "{1, 2, 3, 4, 5, 6, 7, 8, 9}\n",
      "[1, 2, 3, 4, 5, 6, 7, 8, 9]\n"
     ]
    }
   ],
   "source": [
    "# sets {} : unordered collection of unique items, but in sets no key : value pair,\n",
    "# also we can not store--> tuple, list ,dictionary  --> in set\n",
    "\n",
    "s={1,2,3,2}     # in sets unique items exist , so it counts 2 only 1 time\n",
    "print(s)\n",
    "\n",
    "# print(s[1])          # can not do indexing,  show error\n",
    "\n",
    "\n",
    "l=[1,2,3,4,5,5,5,6,7,7,8,9,9]    # unoredered (l)-> list\n",
    "s2=set(l)                         # using set(), converting list into set\n",
    "s3=list(set(l))    # important , converting list s2 ->in set then into -> list s3 (ordered list) to remove duplicate values\n",
    "print(l)\n",
    "print(s2) \n",
    "print(s3)"
   ]
  },
  {
   "cell_type": "code",
   "execution_count": 8,
   "metadata": {},
   "outputs": [
    {
     "name": "stdout",
     "output_type": "stream",
     "text": [
      "{1, 2, 3, 4}\n",
      "{1, 2, 4}\n",
      "{1, 4}\n",
      "set()\n",
      "set()\n",
      "{1, 2.4, 1.1, 'string'}\n"
     ]
    }
   ],
   "source": [
    "s={1,2,3}\n",
    "s.add(4)                    # add() method\n",
    "print(s)\n",
    "\n",
    "s.remove(3)                 # remove() method\n",
    "print(s)\n",
    "\n",
    "s.discard(2)                # discard()--> used to remove element in set \n",
    "print(s)                    # but if we remove like->(5) not in set , it not show error\n",
    "\n",
    "s.clear()                   # clear() --> it clear the set\n",
    "print(s)\n",
    "\n",
    "s1=s.copy()                 # copy()\n",
    "print(s1)\n",
    "\n",
    "s2={1,1.0,2.4,'string',1.1}     # it read 1 and 1.0 same ,so it prints 1 only ,but 1.1 not read as same\n",
    "print(s2)"
   ]
  },
  {
   "cell_type": "code",
   "execution_count": 14,
   "metadata": {},
   "outputs": [
    {
     "name": "stdout",
     "output_type": "stream",
     "text": [
      "{'c', 'a', 'd', 'b'}\n",
      "{1, 2, 3, 4, 5}\n",
      "{1, 2, 4}\n"
     ]
    }
   ],
   "source": [
    "s={'a', 'b', 'c','d'}            # there is no ordered to print set\n",
    "print(s)\n",
    "\n",
    "\n",
    "s1={1,2,2,3,4,4}\n",
    "s2={5,1,4,2,4}\n",
    "\n",
    "union_set = s1 | s2       # union (|) : removes common values at combining of sets   \n",
    "print(union_set)\n",
    "\n",
    "inter_set= l1 & l2       # intersection (&) : print common values of sets\n",
    "print(inter_set)"
   ]
  },
  {
   "cell_type": "code",
   "execution_count": null,
   "metadata": {},
   "outputs": [],
   "source": []
  },
  {
   "cell_type": "code",
   "execution_count": null,
   "metadata": {},
   "outputs": [],
   "source": []
  },
  {
   "cell_type": "markdown",
   "metadata": {},
   "source": [
    "## Chapter 9\n",
    "#### List Comprehension"
   ]
  },
  {
   "cell_type": "code",
   "execution_count": 31,
   "metadata": {},
   "outputs": [
    {
     "name": "stdout",
     "output_type": "stream",
     "text": [
      "[1, 4, 9, 16, 25, 36, 49, 64, 81, 100]\n",
      "[1, 4, 9, 16, 25, 36, 49, 64, 81, 100]\n",
      "[-1, -2, -3, -4, -5, -6, -7, -8, -9, -10]\n",
      "[-1, -2, -3, -4, -5, -6, -7, -8, -9, -10]\n"
     ]
    }
   ],
   "source": [
    "# square of number\n",
    "\n",
    "square=[]                       # list() method       ,  see dict_comprehension{} in chapter 10\n",
    "for i in range(1,11):\n",
    "    square.append(i**2)\n",
    "print(square)\n",
    "\n",
    "square2=[i**2 for i in range(1,11)]   # list comprehension() methdod \n",
    "print(square2)\n",
    "\n",
    "\n",
    "\n",
    "negative=[]\n",
    "for i in range(1,11):\n",
    "    negative.append(-i)\n",
    "print(negative)\n",
    "\n",
    "negative2=[-i for i in range(1,11)]\n",
    "print(negative2)"
   ]
  },
  {
   "cell_type": "code",
   "execution_count": null,
   "metadata": {},
   "outputs": [],
   "source": []
  },
  {
   "cell_type": "code",
   "execution_count": 32,
   "metadata": {},
   "outputs": [
    {
     "name": "stdout",
     "output_type": "stream",
     "text": [
      "['d', 'i', 'r']\n",
      "['d', 'i', 'r']\n"
     ]
    }
   ],
   "source": [
    "#  print like word of 1st index --> ['d', 'r','v']\n",
    "\n",
    "names=['david', 'ishant', 'reshu']\n",
    "new_list=[]\n",
    "for i in names:\n",
    "    new_list.append(i[0])\n",
    "print(new_list)\n",
    "\n",
    "new_list2=[i[0] for i in names]\n",
    "print(new_list2)"
   ]
  },
  {
   "cell_type": "code",
   "execution_count": 40,
   "metadata": {},
   "outputs": [
    {
     "name": "stdout",
     "output_type": "stream",
     "text": [
      "even : [2, 4, 6, 8, 10], odd : [1, 3, 5, 7, 9]\n",
      "even_num: [2, 4, 6, 8, 10], odd_num : [1, 3, 5, 7, 9]\n"
     ]
    }
   ],
   "source": [
    "# list comprehension with if-else statement\n",
    "\n",
    "even=[]\n",
    "odd=[]\n",
    "for i in range(1,11):                          # simple\n",
    "    if i%2==0:\n",
    "        even.append(i)\n",
    "    else:\n",
    "        odd.append(i)\n",
    "print(f\"even : {even}, odd : {odd}\")\n",
    "\n",
    "\n",
    "even1=[i for i in range(1,11) if i%2==0]         # comprehension method   , if statement only\n",
    "odd1 =[i for i in range(1,11) if i%2!=0]\n",
    "print(f\"even_num: {even1}, odd_num : {odd1}\")"
   ]
  },
  {
   "cell_type": "code",
   "execution_count": 43,
   "metadata": {},
   "outputs": [
    {
     "name": "stdout",
     "output_type": "stream",
     "text": [
      "[-1, 4, -3, 8, -5, 12, -7, 16, -9, 20]\n",
      "[-1, 4, -3, 8, -5, 12, -7, 16, -9, 20]\n"
     ]
    }
   ],
   "source": [
    "# even no. multiply by 2, and odd no. convert into negative no.\n",
    "\n",
    "input=list(range(1,11))\n",
    "output=[]\n",
    "for i in input:\n",
    "    if i%2==0:\n",
    "        output.append(i*2)\n",
    "    else:\n",
    "        output.append(-i)\n",
    "print(output)\n",
    "\n",
    "output2=[i*2 if (i%2==0) else -i for i in input]       # comprehension  if-else  method\n",
    "print(output2)"
   ]
  },
  {
   "cell_type": "code",
   "execution_count": 47,
   "metadata": {},
   "outputs": [
    {
     "name": "stdout",
     "output_type": "stream",
     "text": [
      "[[1, 2, 3], [1, 2, 3], [1, 2, 3]]\n",
      "[[1, 2, 3], [1, 2, 3], [1, 2, 3]]\n"
     ]
    }
   ],
   "source": [
    "# list comprehension in nested list, nested list : list in list ,  example=[[1,2,3],[1,2,3],[1,2,3]]\n",
    "\n",
    "new_list=[]\n",
    "for i in range(1,4):\n",
    "    new_list.append([1,2,3])\n",
    "print(new_list)\n",
    "\n",
    "\n",
    "nested_list=[[i for i in range(1,4)] for i in range(3)]\n",
    "print(nested_list)"
   ]
  },
  {
   "cell_type": "code",
   "execution_count": 52,
   "metadata": {},
   "outputs": [
    {
     "name": "stdout",
     "output_type": "stream",
     "text": [
      "['cba', 'fed', 'ihg', 'lkj']\n",
      "['cba', 'fed', 'ihg', 'lkj']\n",
      "['cba', 'fed', 'ihg', 'lkj']\n"
     ]
    }
   ],
   "source": [
    "# define a func., input list of strings and output reverse of strings,  use : list comprehension\n",
    "\n",
    "string=['abc', 'def', 'ghi','jkl']\n",
    "def rev_list(l):\n",
    "    element=[]\n",
    "    for i in l:\n",
    "        element.append(i[::-1])\n",
    "    return element\n",
    "print(rev_list(string))\n",
    "\n",
    "\n",
    "\n",
    "element2=[(i[::-1]) for i in string]       # list-comprehension method\n",
    "print(element2)\n",
    "\n",
    "\n",
    "def reverse(l):\n",
    "    return [name[::-1] for name in l]     # another method\n",
    "print(reverse(string))"
   ]
  },
  {
   "cell_type": "code",
   "execution_count": 53,
   "metadata": {},
   "outputs": [
    {
     "name": "stdout",
     "output_type": "stream",
     "text": [
      "['[1, 2, 3]', '1', '2.3', '4.5']\n"
     ]
    }
   ],
   "source": [
    "# define a func. , input--> list in list,no.,boolean,float etc.=[True,False,[1,2,3],1,2.3,4.5]\n",
    "# output-->in string comes list only no. =[1,2.3,4.5,3,2]\n",
    "\n",
    "input=[True,False,[1,2,3],1,2.3,4.5]\n",
    "def num_string(l):\n",
    "    return [str(i) for i in l if (type(i)==int or type(i)==float or type(i)==list)]\n",
    "\n",
    "print(num_string(input))"
   ]
  },
  {
   "cell_type": "code",
   "execution_count": null,
   "metadata": {},
   "outputs": [],
   "source": []
  },
  {
   "cell_type": "code",
   "execution_count": null,
   "metadata": {},
   "outputs": [],
   "source": []
  },
  {
   "cell_type": "markdown",
   "metadata": {},
   "source": [
    "## Chapter 10"
   ]
  },
  {
   "cell_type": "markdown",
   "metadata": {},
   "source": [
    "#### Dict-comprehension {}"
   ]
  },
  {
   "cell_type": "markdown",
   "metadata": {},
   "source": [
    "dict{} has  key:value  pair"
   ]
  },
  {
   "cell_type": "code",
   "execution_count": 56,
   "metadata": {},
   "outputs": [
    {
     "name": "stdout",
     "output_type": "stream",
     "text": [
      "{1: 1, 2: 4, 3: 9, 4: 16, 5: 25, 6: 36, 7: 49, 8: 64, 9: 81, 10: 100}\n"
     ]
    }
   ],
   "source": [
    "square={i:i**2 for i in range(1,11)}\n",
    "print(square)"
   ]
  },
  {
   "cell_type": "code",
   "execution_count": 57,
   "metadata": {
    "collapsed": true
   },
   "outputs": [
    {
     "name": "stdout",
     "output_type": "stream",
     "text": [
      "{'Square of 1 is': 1, 'Square of 2 is': 4, 'Square of 3 is': 9, 'Square of 4 is': 16, 'Square of 5 is': 25, 'Square of 6 is': 36, 'Square of 7 is': 49, 'Square of 8 is': 64, 'Square of 9 is': 81, 'Square of 10 is': 100}\n",
      "Square of 1 is : 1\n",
      "Square of 2 is : 4\n",
      "Square of 3 is : 9\n",
      "Square of 4 is : 16\n",
      "Square of 5 is : 25\n",
      "Square of 6 is : 36\n",
      "Square of 7 is : 49\n",
      "Square of 8 is : 64\n",
      "Square of 9 is : 81\n",
      "Square of 10 is : 100\n"
     ]
    }
   ],
   "source": [
    "square={f\"Square of {i} is\":i**2 for i in range(1,11)}\n",
    "print(square)\n",
    "\n",
    "\n",
    "square2={f\"Square of {i} is\":i**2 for i in range(1,11)}\n",
    "for k,v in square2.items():\n",
    "    print(f\"{k} : {v}\")"
   ]
  },
  {
   "cell_type": "code",
   "execution_count": 65,
   "metadata": {},
   "outputs": [
    {
     "name": "stdout",
     "output_type": "stream",
     "text": [
      "{'d': 2, 'a': 1, 'v': 1, 'i': 1}\n"
     ]
    }
   ],
   "source": [
    "string=\"David\"\n",
    "string1=string.lower()\n",
    "word_count={char:string1.count(char) for char in string1}\n",
    "print(word_count)"
   ]
  },
  {
   "cell_type": "code",
   "execution_count": 70,
   "metadata": {},
   "outputs": [
    {
     "name": "stdout",
     "output_type": "stream",
     "text": [
      "{1: 'odd', 2: 'even', 3: 'odd', 4: 'even', 5: 'odd', 6: 'even', 7: 'odd', 8: 'even', 9: 'odd', 10: 'even'}\n"
     ]
    }
   ],
   "source": [
    "# dictionary comprehension with if else  ,    i-key,  ()- in this value ,  for range 1 to 11\n",
    "\n",
    "\n",
    "odd_even={i:('even' if i%2==0 else 'odd') for i in range(1,11)}\n",
    "print(odd_even)"
   ]
  },
  {
   "cell_type": "markdown",
   "metadata": {},
   "source": [
    "#### sets comprehension"
   ]
  },
  {
   "cell_type": "code",
   "execution_count": 71,
   "metadata": {},
   "outputs": [
    {
     "name": "stdout",
     "output_type": "stream",
     "text": [
      "{64, 1, 4, 36, 100, 9, 16, 49, 81, 25}\n"
     ]
    }
   ],
   "source": [
    "s={k**2 for k in range(1,11)}                        # sets do not have key value pair,  also it is unordered\n",
    "print(s)"
   ]
  },
  {
   "cell_type": "code",
   "execution_count": 72,
   "metadata": {},
   "outputs": [
    {
     "name": "stdout",
     "output_type": "stream",
     "text": [
      "{'v', 'r', 'd'}\n"
     ]
    }
   ],
   "source": [
    "names=['david', 'rahul', 'virender']\n",
    "first={n[0] for n in names}\n",
    "print(first)"
   ]
  },
  {
   "cell_type": "code",
   "execution_count": null,
   "metadata": {},
   "outputs": [],
   "source": []
  },
  {
   "cell_type": "code",
   "execution_count": null,
   "metadata": {},
   "outputs": [],
   "source": []
  },
  {
   "cell_type": "markdown",
   "metadata": {},
   "source": [
    "## Chapter 11"
   ]
  },
  {
   "cell_type": "markdown",
   "metadata": {},
   "source": [
    "#### arguments  (*args)   ,   (**kwargs)- keyword arguments"
   ]
  },
  {
   "cell_type": "code",
   "execution_count": 1,
   "metadata": {},
   "outputs": [
    {
     "name": "stdout",
     "output_type": "stream",
     "text": [
      "(7, 5, 8, 6)\n",
      "<class 'tuple'>\n"
     ]
    }
   ],
   "source": [
    "# in place of args we can write anything, mostly we use args acc. to convention in python\n",
    "\n",
    "def all_total(*args):               \n",
    "    print(args)\n",
    "    print(type(args))      # all done by *,  we can write anything in place of ->args\n",
    "\n",
    "all_total(7,5,8,6)       # * operator-> create a tuple of what we pass (7,5,8,6)\n"
   ]
  },
  {
   "cell_type": "code",
   "execution_count": 4,
   "metadata": {},
   "outputs": [
    {
     "data": {
      "text/plain": [
       "16"
      ]
     },
     "execution_count": 4,
     "metadata": {},
     "output_type": "execute_result"
    }
   ],
   "source": [
    "def all_total(*args):\n",
    "    input=0\n",
    "    for i in args:\n",
    "        input+=i\n",
    "    return input\n",
    "\n",
    "all_total(7,5,4)"
   ]
  },
  {
   "cell_type": "code",
   "execution_count": 5,
   "metadata": {},
   "outputs": [
    {
     "data": {
      "text/plain": [
       "40"
      ]
     },
     "execution_count": 5,
     "metadata": {},
     "output_type": "execute_result"
    }
   ],
   "source": [
    "def multiply_num(*args):\n",
    "    multiply=1\n",
    "    for i in args:\n",
    "        multiply*=i\n",
    "    return multiply\n",
    "\n",
    "multiply_num(5,4,2)"
   ]
  },
  {
   "cell_type": "code",
   "execution_count": 13,
   "metadata": {},
   "outputs": [
    {
     "name": "stdout",
     "output_type": "stream",
     "text": [
      "42\n"
     ]
    }
   ],
   "source": [
    "def multiply_num(num, *args):          # num used as var.   --> normal parameter\n",
    "    multiply=1                      # also we not write *args before num, coz it convert all values in tuple \n",
    "    for i in args:                   # and num is not assign yet it show error\n",
    "        multiply*=i\n",
    "    return multiply                     # to check --> print(num),    print(args)\n",
    "print(multiply_num(5,7,2,3))           # now 5 is used as value of num, else are of *args"
   ]
  },
  {
   "cell_type": "code",
   "execution_count": 20,
   "metadata": {},
   "outputs": [
    {
     "name": "stdout",
     "output_type": "stream",
     "text": [
      "70\n"
     ]
    }
   ],
   "source": [
    "# arg as argument\n",
    "\n",
    "def multiply_num(*args):\n",
    "    multiply=1                     \n",
    "    for i in args:\n",
    "        multiply*=i              # if we pass a list-> num, then list multiply with 1 and this func. stop working\n",
    "    return multiply              # so we use *  before list and it unpacked list  --> *num\n",
    "num=[2,5,7]                      # we can also use ()tuple here, just use * to unpack it                        \n",
    "print(multiply_num(*num))    # *num    \n"
   ]
  },
  {
   "cell_type": "code",
   "execution_count": 26,
   "metadata": {},
   "outputs": [
    {
     "name": "stdout",
     "output_type": "stream",
     "text": [
      "{'first_name': 'david', 'last_name': 'taneja', 'age': 27}\n",
      "<class 'dict'>\n"
     ]
    }
   ],
   "source": [
    "# kwargs : keyword arguments    ,  uses : **kwargs  (double star operator)\n",
    "\n",
    "# kwargs as a parameter     \n",
    "def func(**kwargs):\n",
    "    print(kwargs)\n",
    "    print(type(kwargs))\n",
    "func(first_name='david', last_name='taneja', age=27)          # it gather as dictionary\n"
   ]
  },
  {
   "cell_type": "raw",
   "metadata": {},
   "source": [
    "To unpack args : use *               # args as - tuple()\n",
    "To unpack kwargs : use **           # kwargs as - dictionary {}  "
   ]
  },
  {
   "cell_type": "code",
   "execution_count": 27,
   "metadata": {},
   "outputs": [
    {
     "name": "stdout",
     "output_type": "stream",
     "text": [
      "first_name : David\n",
      "last_name : Taneja\n",
      "age : 27\n"
     ]
    }
   ],
   "source": [
    "def func(**kwargs):                                                   # kwargs are like : dictionary {}\n",
    "    for k, v in kwargs.items():\n",
    "        print(f\"{k} : {v}\")\n",
    "func(first_name='David', last_name='Taneja', age=27)"
   ]
  },
  {
   "cell_type": "code",
   "execution_count": 33,
   "metadata": {},
   "outputs": [
    {
     "name": "stdout",
     "output_type": "stream",
     "text": [
      "first_name : David\n",
      "last_name : Taneja\n",
      "age : 27\n"
     ]
    }
   ],
   "source": [
    "d = {'first_name':'David', 'last_name':'Taneja', 'age':27}            # un-packing  of  dictionary \n",
    "func(**d)"
   ]
  },
  {
   "cell_type": "raw",
   "metadata": {},
   "source": [
    "# function with all parameters\n",
    "# 1.normal parameter --> we pass value\n",
    "# 2.default parameter --> we don't pass, by default 'unknown'\n",
    "# 3.*args\n",
    "# 4.**kwargs\n",
    "\n",
    "\n",
    "# position if we use all parameters  (PADK) --> normal parameter,*args,default,**kwargs\n",
    "# def func(name, *arsgs, last_name='unknown', **kwargs) "
   ]
  },
  {
   "cell_type": "code",
   "execution_count": 37,
   "metadata": {},
   "outputs": [
    {
     "name": "stdout",
     "output_type": "stream",
     "text": [
      "unknown\n",
      "25\n",
      "david\n",
      "25\n"
     ]
    }
   ],
   "source": [
    "def func(name='unknown', age=25):\n",
    "    print(name)\n",
    "    print(age)\n",
    "func()                \n",
    "func('david')       # func('david')  it assign david in place of unknown, or overwrite\n"
   ]
  },
  {
   "cell_type": "code",
   "execution_count": 38,
   "metadata": {},
   "outputs": [
    {
     "name": "stdout",
     "output_type": "stream",
     "text": [
      "david\n",
      "(1, 2, 3)\n",
      "unknown\n",
      "{'a': 1, 'b': 2}\n"
     ]
    }
   ],
   "source": [
    "# with all parameters\n",
    "\n",
    "def func_all(name, *args, last_name='unknown', **kwargs):\n",
    "    print(name)            # 'david'\n",
    "    print(args)            # 1,2,3\n",
    "    print(last_name)       # blank\n",
    "    print(kwargs)          # a=1,b=2   ,  kwargs return dictionary\n",
    "\n",
    "func_all('david', 1,2,3, a=1,b=2)"
   ]
  },
  {
   "cell_type": "code",
   "execution_count": 39,
   "metadata": {},
   "outputs": [
    {
     "name": "stdout",
     "output_type": "stream",
     "text": [
      "not empty\n"
     ]
    }
   ],
   "source": [
    "l=[1,2,3]\n",
    "if l:                              # true ,    also check like--> if len(l)>0\n",
    "    print(\"not empty\")\n",
    "else:                              # l=[]\n",
    "    print(\"empty\")"
   ]
  },
  {
   "cell_type": "code",
   "execution_count": 40,
   "metadata": {},
   "outputs": [
    {
     "data": {
      "text/plain": [
       "[1, 8, 27, 64, 125]"
      ]
     },
     "execution_count": 40,
     "metadata": {},
     "output_type": "execute_result"
    }
   ],
   "source": [
    "# define a function , input--> num, iterable(tuple, list) contain numbers as args , output--> [1**3,8,27] , num is power of no.\n",
    "# if user did not pass args,--> message \" hey you didn't pass args \"\n",
    "# else return list , also use list comprehension\n",
    "\n",
    "\n",
    "def to_power(num, *args):\n",
    "    if args:\n",
    "        return [i**num for i in args]\n",
    "    else:\n",
    "        return \"Hey ! you did not pass any arg.\"\n",
    "\n",
    "list=[1,2,3,4,5]\n",
    "to_power(3, *list)       # num=3 act as power like (i**num)  , * used for list to unpack and finally cube it."
   ]
  },
  {
   "cell_type": "code",
   "execution_count": 43,
   "metadata": {},
   "outputs": [
    {
     "name": "stdout",
     "output_type": "stream",
     "text": [
      "['Divad', 'Ajenat']\n",
      "['Divad', 'Ajenat']\n"
     ]
    }
   ],
   "source": [
    "# define a function , input--> list , reverse_str= True , output--> reverse of string of list , also first letter is capital\n",
    "\n",
    "def func(names):\n",
    "    return [i[::-1].title() for i in names]\n",
    "names = ['david', 'taneja']\n",
    "print(func(names))\n",
    "\n",
    "\n",
    "\n",
    "# another,    \n",
    "def func(l, **kwargs):                                # l is list  ,  reverse str = True\n",
    "    if kwargs.get('reverse_str')==True:\n",
    "        return [name[::-1].title() for name in l]\n",
    "    else:\n",
    "        return [name.title() for name in l]\n",
    "\n",
    "names=['david', 'taneja']\n",
    "print(func(names, reverse_str= True))"
   ]
  },
  {
   "cell_type": "code",
   "execution_count": null,
   "metadata": {},
   "outputs": [],
   "source": []
  },
  {
   "cell_type": "code",
   "execution_count": null,
   "metadata": {},
   "outputs": [],
   "source": []
  },
  {
   "cell_type": "markdown",
   "metadata": {},
   "source": [
    "## Chapter 12"
   ]
  },
  {
   "cell_type": "markdown",
   "metadata": {},
   "source": [
    "#### Lambda functions"
   ]
  },
  {
   "cell_type": "code",
   "execution_count": 48,
   "metadata": {},
   "outputs": [
    {
     "name": "stdout",
     "output_type": "stream",
     "text": [
      "10\n",
      "12\n",
      "25\n",
      "<function add at 0x000000AC931BCF28>\n",
      "<function <lambda> at 0x000000AC9461B488>\n",
      "<function <lambda> at 0x000000AC9461B378>\n"
     ]
    }
   ],
   "source": [
    "# lambda expressions (anonymous function) , func. defined in one line, and it has no name\n",
    "\n",
    "\n",
    "def add(a,b):          # simple method\n",
    "    return a+b\n",
    "print(add(5,5))\n",
    "\n",
    "\n",
    "# we not assign our lambda expression or func. in any var., we just use it here just to learn\n",
    "add2= lambda a,b : a+b           # lambda function\n",
    "print(add2(5,7))\n",
    "\n",
    "\n",
    "multiply = lambda a,b : a*b           # lambda func. used with --> built in function like : (map , reduce , filter)\n",
    "print(multiply(5,5))\n",
    "\n",
    "\n",
    "print(add)      # not calling an function , bcoz we not used () , it tells only memory location.\n",
    "print(add2)\n",
    "print(multiply)"
   ]
  },
  {
   "cell_type": "code",
   "execution_count": 53,
   "metadata": {},
   "outputs": [
    {
     "name": "stdout",
     "output_type": "stream",
     "text": [
      "True\n",
      "True\n",
      "True\n"
     ]
    }
   ],
   "source": [
    "# writing method :  1.lambda , 2.expression taken , 3.what it return  -> ex :  lambda a : a%2==0  \n",
    "\n",
    "def is_even(a):         # simple method\n",
    "    if a%2==0:\n",
    "        return True\n",
    "    else:\n",
    "        return False\n",
    "print(is_even(4))\n",
    "\n",
    "\n",
    "def is_even2(a):        # more simpler \n",
    "    return a%2==0\n",
    "print(is_even2(10))\n",
    "\n",
    "\n",
    "even = lambda a : a%2==0       # lambda function. \n",
    "print(even(8))"
   ]
  },
  {
   "cell_type": "code",
   "execution_count": 54,
   "metadata": {},
   "outputs": [
    {
     "name": "stdout",
     "output_type": "stream",
     "text": [
      "d\n"
     ]
    }
   ],
   "source": [
    "last_char=lambda s : s[-1]          # return last char of string\n",
    "print(last_char('david')) "
   ]
  },
  {
   "cell_type": "code",
   "execution_count": 62,
   "metadata": {},
   "outputs": [
    {
     "name": "stdout",
     "output_type": "stream",
     "text": [
      "False\n",
      "True\n",
      "True\n"
     ]
    }
   ],
   "source": [
    "def func(s):              # simple\n",
    "    return len(s)>5\n",
    "print(func('david'))\n",
    "\n",
    "\n",
    "string = lambda s : len(s)>5     # lambda \n",
    "print(string('david taneja'))\n",
    "\n",
    "\n",
    "string2 = lambda s : True if len(s)>5 else False      # lambda with  if-else\n",
    "print(string2('david taneja'))"
   ]
  },
  {
   "cell_type": "code",
   "execution_count": 4,
   "metadata": {},
   "outputs": [
    {
     "name": "stdout",
     "output_type": "stream",
     "text": [
      "1 is small\n",
      "10 is small\n",
      "100 is small\n",
      "101 is big\n",
      "110 is big\n"
     ]
    }
   ],
   "source": [
    "f = lambda x: x > 100 and 'big' or 'small'\n",
    "for i in (1, 10, 100, 101, 110):\n",
    "    print(i, 'is', f(i))"
   ]
  },
  {
   "cell_type": "markdown",
   "metadata": {},
   "source": [
    "#### Fizz buzz problem"
   ]
  },
  {
   "cell_type": "code",
   "execution_count": 1,
   "metadata": {},
   "outputs": [],
   "source": [
    "# Write a program that prints the numbers from 1 to 20 and for multiples of '3' print \"Fizz\" \n",
    "# instead of the number and for the multiples of '5' print \"Buzz\". If divided by both '3' and '5' print \"FizzBuzz\".\n",
    "\n",
    "for x in range(1,50):\n",
    "    \n",
    "    if (x%3==0) and (x%5==0):  \n",
    "        print(\"FizzBuzz\")\n",
    "        continue\n",
    "    \n",
    "    elif x % 3 == 0:\n",
    "        print(\"Fizz\")\n",
    "        continue\n",
    "    \n",
    "    elif x % 5 == 0:\n",
    "        print(\"Buzz\")\n",
    "        continue\n",
    "        \n",
    "    print(x)\n",
    "    \n",
    "# we have to 1st run 3 and 5 condition otherwise it will take only divisible by 3 and print Fizz"
   ]
  },
  {
   "cell_type": "code",
   "execution_count": 5,
   "metadata": {},
   "outputs": [
    {
     "name": "stdout",
     "output_type": "stream",
     "text": [
      "1, 2, Fizz, 4, Buzz, Fizz, 7, 8, Fizz, Buzz, 11, Fizz, 13, 14, Fizz, "
     ]
    }
   ],
   "source": [
    "y = lambda x: (x%3==0 and \"Fizz\") or (x%5==0 and \"Buzz\") or x          # using lambda\n",
    "for i in range(1,16):\n",
    "    print(y(i), end=', ')"
   ]
  },
  {
   "cell_type": "markdown",
   "metadata": {},
   "source": [
    "## Chapter 13"
   ]
  },
  {
   "cell_type": "markdown",
   "metadata": {},
   "source": [
    "#### enumerate()"
   ]
  },
  {
   "cell_type": "code",
   "execution_count": 68,
   "metadata": {},
   "outputs": [
    {
     "name": "stdout",
     "output_type": "stream",
     "text": [
      "0 --> david\n",
      "1 --> ishant\n",
      "2 --> reshu\n",
      "0 :: david\n",
      "1 :: ishant\n",
      "2 :: reshu\n"
     ]
    }
   ],
   "source": [
    "# enumerate -  used with for loop to track position of our item.\n",
    "\n",
    "pos=0                              # without enumerate function\n",
    "for i in names:\n",
    "    print(f\"{pos} --> {i}\")\n",
    "    pos+=1   \n",
    "names=['david', 'ishant', 'reshu']\n",
    "\n",
    "\n",
    "\n",
    "for pos, name in enumerate(names):\n",
    "    print(f\"{pos} :: {name}\")"
   ]
  },
  {
   "cell_type": "code",
   "execution_count": 71,
   "metadata": {},
   "outputs": [
    {
     "name": "stdout",
     "output_type": "stream",
     "text": [
      "2\n"
     ]
    }
   ],
   "source": [
    "# define a function takes two arguments,  1.list containing string,  2.find string in your list\n",
    "# and this func. return index of string,  if string not present it return -1\n",
    "\n",
    "names=['david', 'ishant', 'reshu']\n",
    "\n",
    "def find_pos(list, target):\n",
    "    for position, name in enumerate(list):\n",
    "        if name==target:\n",
    "            return position\n",
    "    return -1\n",
    "\n",
    "print(find_pos(names, 'reshu'))     # 1.list name , 2.string to check its position"
   ]
  },
  {
   "cell_type": "code",
   "execution_count": null,
   "metadata": {},
   "outputs": [],
   "source": []
  },
  {
   "cell_type": "markdown",
   "metadata": {},
   "source": [
    "##### map() function"
   ]
  },
  {
   "cell_type": "code",
   "execution_count": 14,
   "metadata": {},
   "outputs": [
    {
     "name": "stdout",
     "output_type": "stream",
     "text": [
      "<map object at 0x000000DD0E95DBE0>\n",
      "[1, 4, 9, 16, 25]\n"
     ]
    }
   ],
   "source": [
    "nums=[1,2,3,4,5]\n",
    "def square(a):\n",
    "    return a**2\n",
    "print(map(square,nums))     # 1st function name (not calling func.),  2.iterable list name , it gives address only\n",
    "\n",
    "\n",
    "squares=list(map(square,nums))    # var. taken to store in it, to create tuple or list , otherwise it return object.\n",
    "print(squares)"
   ]
  },
  {
   "cell_type": "code",
   "execution_count": 16,
   "metadata": {},
   "outputs": [
    {
     "name": "stdout",
     "output_type": "stream",
     "text": [
      "[1, 4, 9, 16, 25]\n"
     ]
    }
   ],
   "source": [
    "num=[1,2,3,4,5]\n",
    "\n",
    "square1 = list(map(lambda a : a**2, num))        # use of lambda  with map()\n",
    "print(square1)"
   ]
  },
  {
   "cell_type": "code",
   "execution_count": 17,
   "metadata": {},
   "outputs": [
    {
     "name": "stdout",
     "output_type": "stream",
     "text": [
      "[1, 4, 9, 16, 25]\n"
     ]
    }
   ],
   "source": [
    "square2 = [i**2 for i in num]        # list comprehension\n",
    "print(square2)"
   ]
  },
  {
   "cell_type": "code",
   "execution_count": 25,
   "metadata": {},
   "outputs": [
    {
     "name": "stdout",
     "output_type": "stream",
     "text": [
      "[3, 4, 5]\n",
      "3\n",
      "4\n",
      "5\n"
     ]
    }
   ],
   "source": [
    "names=['abc', 'abcd', 'abcde']\n",
    "length=list(map(len,names))\n",
    "print(length)          \n",
    "for i in length:                      # map func. is iterable , means we can run loop on it map(), also for 1 time only\n",
    "    print(i)"
   ]
  },
  {
   "cell_type": "markdown",
   "metadata": {},
   "source": [
    "##### filter() function"
   ]
  },
  {
   "cell_type": "code",
   "execution_count": 27,
   "metadata": {},
   "outputs": [
    {
     "name": "stdout",
     "output_type": "stream",
     "text": [
      "<filter object at 0x000000DD0EBF8160>\n",
      "(2, 4, 8, 6, 2)\n"
     ]
    }
   ],
   "source": [
    "def is_even(a):\n",
    "    return a%2==0      # return True or False\n",
    "\n",
    "numbers=[2,4,5,7,8,9,6,3,1,2,5]\n",
    "print(filter(is_even, numbers))    # returns object like : map() , So convert into list or tuple\n",
    "\n",
    "lists=tuple(filter(is_even,numbers))    # also filter returns values not booleans.\n",
    "print(lists)"
   ]
  },
  {
   "cell_type": "code",
   "execution_count": 35,
   "metadata": {},
   "outputs": [
    {
     "name": "stdout",
     "output_type": "stream",
     "text": [
      "[2, 4, 8, 6, 2, 4, 8]\n",
      "2 4 8 6 2 4 8 2 4 8 6 2 4 8 "
     ]
    }
   ],
   "source": [
    "numbers=[2,4,5,7,8,9,6,3,1,2,7,4,8]\n",
    "even = list(filter(lambda a : a%2==0, numbers))\n",
    "print(even)\n",
    "for i in even:                       # we can iterate(or run loop) many times in list or tuple\n",
    "    print(i, end=\" \")\n",
    "    \n",
    "even2 = filter(lambda a : a%2==0, numbers)      \n",
    "for i in even2:                                          # but in filter() and map() iterate only once\n",
    "    print(i, end=\" \")"
   ]
  },
  {
   "cell_type": "raw",
   "metadata": {},
   "source": [
    "iterator vs iterables\n",
    "\n",
    "list, tuple, string are--> iterables\n",
    "map ,filter , zip are --> iterator    ( which return object ) "
   ]
  },
  {
   "cell_type": "code",
   "execution_count": null,
   "metadata": {},
   "outputs": [],
   "source": []
  },
  {
   "cell_type": "markdown",
   "metadata": {},
   "source": [
    "##### zip () function"
   ]
  },
  {
   "cell_type": "code",
   "execution_count": 4,
   "metadata": {},
   "outputs": [
    {
     "name": "stdout",
     "output_type": "stream",
     "text": [
      "<zip object at 0x0000004EE66110C8>\n",
      "[('user1', 'david'), ('user2', 'akhil')]\n",
      "{'user1': 'david', 'user2': 'akhil'}\n"
     ]
    }
   ],
   "source": [
    "user_id=['user1', 'user2', 'user3']\n",
    "names=['david', 'ishant', 'reshu']\n",
    "\n",
    "print(zip(user_id,names))        # return object  like map, filter        , if  user_id  are 2 and names are 3 , zip stop at 2. \n",
    "print(list(zip(user_id,names)))  # return list of tuple inside \n",
    "print(dict(zip(user_id,names)))  # converting into dict{}           "
   ]
  },
  {
   "cell_type": "code",
   "execution_count": 7,
   "metadata": {},
   "outputs": [
    {
     "name": "stdout",
     "output_type": "stream",
     "text": [
      "{'a': 1, 'b': 2}\n"
     ]
    }
   ],
   "source": [
    "example=[('a',1),('b',2)]      # we can convert tuple into dict{} , if tuple has two key,value pair\n",
    "print(dict(example))"
   ]
  },
  {
   "cell_type": "code",
   "execution_count": 9,
   "metadata": {},
   "outputs": [
    {
     "name": "stdout",
     "output_type": "stream",
     "text": [
      "[('user1', 'david', 'taneja'), ('user2', 'akhil', 'taneja')]\n"
     ]
    }
   ],
   "source": [
    "last_name=['taneja', 'taneja', 'garg']\n",
    "print(list(zip(user_id,names,last_name)))\n",
    "# print(dict(zip(user_id, names, last_name)))   # can not convert into dict{} requires only 2 key,value pair."
   ]
  },
  {
   "cell_type": "code",
   "execution_count": 14,
   "metadata": {},
   "outputs": [
    {
     "name": "stdout",
     "output_type": "stream",
     "text": [
      "[(1, 2), (3, 4), (5, 6), (7, 8)]\n",
      "[(1, 3, 5, 7), (2, 4, 6, 8)]\n",
      "(1, 3, 5, 7)\n",
      "[1, 3, 5, 7]\n"
     ]
    }
   ],
   "source": [
    "l1=[1,3,5,7]\n",
    "l2=[2,4,6,8]\n",
    "print(list(zip(l1,l2)))\n",
    "\n",
    "\n",
    "l=[(1,2), (3,4), (5,6), (7,8)]\n",
    "print(list(zip(*l)))                  # * operator used to unpack the list into tuple\n",
    "\n",
    "l3,l4=list(zip(*l))     # unpack like this way\n",
    "print(l3)\n",
    "print(list(l3))   # then we can convert into list"
   ]
  },
  {
   "cell_type": "code",
   "execution_count": 15,
   "metadata": {},
   "outputs": [
    {
     "name": "stdout",
     "output_type": "stream",
     "text": [
      "[2, 4, 6, 8]\n"
     ]
    }
   ],
   "source": [
    "new_list=[]                      # now we find greater no. b/w l3 ,l4  list\n",
    "for i in zip(l3,l4):\n",
    "    new_list.append(max(i))      # In i comes tuple of l3,l4 =(1,2) it takes max of it, then agin (3,4) takes max of it ,similar\n",
    "print(new_list)"
   ]
  },
  {
   "cell_type": "code",
   "execution_count": 19,
   "metadata": {},
   "outputs": [
    {
     "name": "stdout",
     "output_type": "stream",
     "text": [
      "[4.0, 5.0, 6.0]\n",
      "[4.0, 5.0, 6.0]\n",
      "[4.0, 5.0, 6.0]\n"
     ]
    }
   ],
   "source": [
    "# define a function take any no. of lists and return average (like : 1st item of 1st,2nd,3rd list)(2nd item of 1st,2nd,3rd list)\n",
    "# similarly, by use of lambda function\n",
    "\n",
    "\n",
    "def avg_finder(l1,l2,l3):              # Here we use l1, l2, l3 \n",
    "    average=[]\n",
    "    for i in zip(l1,l2,l3):\n",
    "        average.append(sum(i)/len(i))\n",
    "    return average\n",
    "print(avg_finder([1,2,3], [4,5,6,], [7,8,9]))\n",
    "\n",
    "\n",
    "\n",
    "def avg_finder(*args):              # Here we use : *args  ,  args takes list in tuple ( [] , [] )\n",
    "    average=[]                      # * is used to unpack tuple , if we take whole tuple then not use *, simple use args  \n",
    "    for i in zip(*args):\n",
    "        average.append(sum(i)/len(i))\n",
    "    return average\n",
    "print(avg_finder([1,2,3], [4,5,6,], [7,8,9]))\n",
    "\n",
    "\n",
    "\n",
    "avg_finder2 = lambda *args : [sum(i)/len(i) for i in zip(*args)]       # use of : lambda()\n",
    "print(avg_finder2([1,2,3], [4,5,6,], [7,8,9]))"
   ]
  },
  {
   "cell_type": "markdown",
   "metadata": {},
   "source": [
    "##### any()  ,  all()"
   ]
  },
  {
   "cell_type": "code",
   "execution_count": 22,
   "metadata": {},
   "outputs": [
    {
     "name": "stdout",
     "output_type": "stream",
     "text": [
      "False\n",
      "True\n"
     ]
    }
   ],
   "source": [
    "# all()  and  any()  function : \n",
    "# all() -> requires every value True it return True, if 1 value False it return False\n",
    "# any() -> checks if there is 1 value True it return True\n",
    "\n",
    "\n",
    "number1=[2,4,6,8,10,5]\n",
    "\n",
    "print(all([num%2==0 for num in number1]))   # all() : requires all value should be True\n",
    "\n",
    "print(any([num%2==0 for num in number1]))    # any() : function requires 1 value True "
   ]
  },
  {
   "cell_type": "code",
   "execution_count": 25,
   "metadata": {},
   "outputs": [
    {
     "name": "stdout",
     "output_type": "stream",
     "text": [
      "Wrong input !!\n"
     ]
    }
   ],
   "source": [
    "def my_sum(*args):\n",
    "    if all([(type(arg)==int or type(arg)==float) for arg in args]):\n",
    "        total=0\n",
    "        for num in args:\n",
    "            total += num             # return sum \n",
    "        return total\n",
    "    else:\n",
    "        return \"Wrong input !!\"\n",
    "\n",
    "print(my_sum(1,2,3,4,5,'david'))"
   ]
  },
  {
   "cell_type": "markdown",
   "metadata": {},
   "source": [
    "##### min() , max()"
   ]
  },
  {
   "cell_type": "code",
   "execution_count": 28,
   "metadata": {},
   "outputs": [
    {
     "name": "stdout",
     "output_type": "stream",
     "text": [
      "7\n",
      "1\n",
      "taneja\n",
      "dev\n"
     ]
    }
   ],
   "source": [
    "number=[1,2,3,4,5,6,7]         # simple method\n",
    "print(max(number))\n",
    "print(min(number))\n",
    "\n",
    "\n",
    "\n",
    "name=[\"david\", \"taneja\", \"ujwal\",\"dev\"]          # if strings are of same length ,return 1st string\n",
    "print(max(name, key=len))                  # in max() and min() both functions\n",
    "\n",
    "print(min(name, key= lambda item : len(item)))       # By lambda() , otehrwise same"
   ]
  },
  {
   "cell_type": "code",
   "execution_count": 34,
   "metadata": {},
   "outputs": [
    {
     "name": "stdout",
     "output_type": "stream",
     "text": [
      "{'name': 'rahul', 'score': 92, 'age': 28}\n",
      "david\n"
     ]
    }
   ],
   "source": [
    "student=[                                        # find whose score is maximum\n",
    "    {'name':'david', 'score':97, 'age':27},\n",
    "    {'name':'rahul', 'score':92, 'age':28},\n",
    "    {'name':'vikas', 'score':87, 'age':25}\n",
    "]                                      \n",
    "\n",
    "print(max(student, key= lambda item : item.get('score'))['name'])            # Now In this case we have to use lambda()\n",
    "\n",
    "print(max(student, key= lambda item: item.get('age')))    # prints whole dictionary, whose age is max , if not use : ['name'] "
   ]
  },
  {
   "cell_type": "code",
   "execution_count": 37,
   "metadata": {},
   "outputs": [
    {
     "name": "stdout",
     "output_type": "stream",
     "text": [
      "david\n"
     ]
    }
   ],
   "source": [
    "student1={                              # find acc. to score\n",
    "    'david': {'score':97, 'age':27},       # but there is key : value pair\n",
    "    'rahul': {'score':92, 'age':28},\n",
    "    'vikas': {'score':87, 'age':25}\n",
    "}                 \n",
    "\n",
    "print(max(student1, key=lambda item : student1[item]['score']))"
   ]
  },
  {
   "cell_type": "markdown",
   "metadata": {},
   "source": [
    "#####  sort() , sorted()"
   ]
  },
  {
   "cell_type": "code",
   "execution_count": 46,
   "metadata": {},
   "outputs": [
    {
     "name": "stdout",
     "output_type": "stream",
     "text": [
      "['apple', 'banana', 'mango', 'orange']\n",
      "['apple', 'mango', 'orange']\n",
      "['apple', 'litchi', 'mango', 'orange']\n"
     ]
    }
   ],
   "source": [
    "fruit=['mango', 'apple', 'orange', 'banana']      # simple method\n",
    "fruit.sort()                                         # sort() method not available in tuple \n",
    "print(fruit)\n",
    "\n",
    "\n",
    "# sorted() method used for tuple but it return list ,not change the tuple\n",
    "fruit1=('mango', 'apple', 'orange')       # sorted() for tuple\n",
    "print(sorted(fruit1))\n",
    "\n",
    "\n",
    "fruit2={'mango', 'apple', 'orange', 'litchi'}         # sorted() also used for sets\n",
    "print(sorted(fruit2))"
   ]
  },
  {
   "cell_type": "code",
   "execution_count": 60,
   "metadata": {},
   "outputs": [
    {
     "name": "stdout",
     "output_type": "stream",
     "text": [
      "[{'model': 'yamaha 1017', 'price': 8400}, {'model': 'yamaha 5102', 'price': 9500}, {'model': 'yamaha 1012', 'price': 9800}]\n",
      "[{'model': 'yamaha 1017', 'price': 8400}, {'model': 'yamaha 5102', 'price': 9500}, {'model': 'yamaha 1012', 'price': 9800}]\n",
      "[{'model': 'yamaha 1012', 'price': 9800}, {'model': 'yamaha 5102', 'price': 9500}, {'model': 'yamaha 1017', 'price': 8400}]\n"
     ]
    }
   ],
   "source": [
    "guitar=[\n",
    "    {'model': 'yamaha 1017', 'price': 8400},\n",
    "    {'model': 'yamaha 1012', 'price': 9800},\n",
    "    {'model': 'yamaha 5102', 'price': 9500},\n",
    "]\n",
    "\n",
    "print(sorted(guitar, key=lambda item : item.get('price')))      # we can use get()   \n",
    "print(sorted(guitar, key=lambda item : item['price']))        # directly[key]\n",
    "\n",
    "\n",
    "print(sorted(guitar, key=lambda item : item.get('price'), reverse=True))       # reverse=True , we can use reversely also"
   ]
  },
  {
   "cell_type": "code",
   "execution_count": null,
   "metadata": {},
   "outputs": [],
   "source": []
  },
  {
   "cell_type": "markdown",
   "metadata": {},
   "source": [
    "##### doc strings"
   ]
  },
  {
   "cell_type": "code",
   "execution_count": 62,
   "metadata": {},
   "outputs": [
    {
     "name": "stdout",
     "output_type": "stream",
     "text": [
      "12\n",
      "this function takes two no. and return sum \n"
     ]
    }
   ],
   "source": [
    "# doc strings--> what it is,  how to write , how to see\n",
    "# doc string is a message, we give to user  ,in defining a function\n",
    "# doc string --> by triple single quotes or double    '''  '''     or  \"\"\"   \"\"\"\n",
    "\n",
    "\n",
    "\n",
    "def add(a,b):\n",
    "    '''this function takes two no. and return sum '''\n",
    "    return a+b\n",
    "\n",
    "print(add(5,7))\n",
    "print(add.__doc__)     # doc  : is used like this way "
   ]
  },
  {
   "cell_type": "code",
   "execution_count": 63,
   "metadata": {},
   "outputs": [
    {
     "name": "stdout",
     "output_type": "stream",
     "text": [
      "Return the number of items in a container.\n"
     ]
    }
   ],
   "source": [
    "print(len.__doc__)       # used for built-in functions like : len, min, max, sorted, sum"
   ]
  },
  {
   "cell_type": "code",
   "execution_count": 64,
   "metadata": {},
   "outputs": [
    {
     "name": "stdout",
     "output_type": "stream",
     "text": [
      "Help on built-in function sum in module builtins:\n",
      "\n",
      "sum(iterable, start=0, /)\n",
      "    Return the sum of a 'start' value (default: 0) plus an iterable of numbers\n",
      "    \n",
      "    When the iterable is empty, return the start value.\n",
      "    This function is intended specifically for use with numeric values and may\n",
      "    reject non-numeric types.\n",
      "\n",
      "None\n"
     ]
    }
   ],
   "source": [
    "print(help(sum))            # help()  function : used to tell what function is used for"
   ]
  },
  {
   "cell_type": "code",
   "execution_count": null,
   "metadata": {},
   "outputs": [],
   "source": []
  },
  {
   "cell_type": "code",
   "execution_count": null,
   "metadata": {},
   "outputs": [],
   "source": []
  },
  {
   "cell_type": "markdown",
   "metadata": {},
   "source": [
    "## Chapter 14"
   ]
  },
  {
   "cell_type": "code",
   "execution_count": 65,
   "metadata": {},
   "outputs": [
    {
     "name": "stdout",
     "output_type": "stream",
     "text": [
      "[1, 4, 9, 16, 25]\n"
     ]
    }
   ],
   "source": [
    "# pass function as argument\n",
    "\n",
    "def square(a):\n",
    "    return a**2\n",
    "\n",
    "l=[1,2,3,4,5]\n",
    "print(list(map(square,l)))   # here we used square() as argument."
   ]
  },
  {
   "cell_type": "code",
   "execution_count": 67,
   "metadata": {},
   "outputs": [
    {
     "name": "stdout",
     "output_type": "stream",
     "text": [
      "[1, 8, 27, 64, 125]\n"
     ]
    }
   ],
   "source": [
    "print(list(map(lambda a : a**3, l)))"
   ]
  },
  {
   "cell_type": "code",
   "execution_count": null,
   "metadata": {},
   "outputs": [],
   "source": []
  },
  {
   "cell_type": "markdown",
   "metadata": {},
   "source": [
    "##### closure"
   ]
  },
  {
   "cell_type": "raw",
   "metadata": {},
   "source": [
    "function returning function = closure = first class function         : all are same"
   ]
  },
  {
   "cell_type": "code",
   "execution_count": 75,
   "metadata": {},
   "outputs": [
    {
     "name": "stdout",
     "output_type": "stream",
     "text": [
      "inner is inside of outer function\n",
      "message is 'hello david' \n"
     ]
    }
   ],
   "source": [
    "def outer_fun():\n",
    "    def inner_fun():\n",
    "        print('inner is inside of outer function')\n",
    "    return inner_fun\n",
    "var=outer_fun()\n",
    "var()\n",
    "\n",
    "\n",
    "\n",
    "def outer_func2(msg):\n",
    "    def inner_func2():\n",
    "        print(f\"message is '{msg}' \")\n",
    "    return inner_func2\n",
    "var1= outer_func2(\"hello david\")\n",
    "var1()"
   ]
  },
  {
   "cell_type": "code",
   "execution_count": 81,
   "metadata": {},
   "outputs": [
    {
     "name": "stdout",
     "output_type": "stream",
     "text": [
      "32\n",
      "1024\n"
     ]
    }
   ],
   "source": [
    "def power(x):\n",
    "    def value(n):            # By this 1 function we can find square , cube and any power.\n",
    "        return n**x         # x**n  , we can use like this also\n",
    "    return value\n",
    "\n",
    "cube = power(5)       # in power() we give power to calculate                      \n",
    "print(cube(2))   # after it ,we give value , which we want to calculate for        -->   2**5\n",
    "\n",
    "\n",
    "square = power(10)\n",
    "print(square(2))            #  2**10"
   ]
  },
  {
   "cell_type": "code",
   "execution_count": null,
   "metadata": {},
   "outputs": [],
   "source": []
  },
  {
   "cell_type": "markdown",
   "metadata": {},
   "source": [
    "##### decorators"
   ]
  },
  {
   "cell_type": "code",
   "execution_count": 10,
   "metadata": {},
   "outputs": [
    {
     "name": "stdout",
     "output_type": "stream",
     "text": [
      "49\n",
      "25\n",
      "square\n"
     ]
    }
   ],
   "source": [
    "# for decorators --> 1st understand-> first class function/ closures\n",
    "\n",
    "\n",
    "def square(a):\n",
    "    return a**2\n",
    "\n",
    "# s=int(input(\"enter a no: \"))\n",
    "# print(square(s))\n",
    "s= square(7)           # calling a func and passing value\n",
    "print(s)\n",
    "\n",
    "s= square             # we assign a function in 's' var. now we can use -> s , as a function\n",
    "print(s(5))           # now we given value to s -> 5\n",
    "\n",
    "print(s.__name__)       # checking type of func.-> s"
   ]
  },
  {
   "cell_type": "code",
   "execution_count": 86,
   "metadata": {},
   "outputs": [
    {
     "name": "stdout",
     "output_type": "stream",
     "text": [
      "this is an awesome function\n",
      "This is function1\n"
     ]
    }
   ],
   "source": [
    "# decorators --> enhance functionality of other functions , @ use for decorator -- syntactic sugar\n",
    "\n",
    "\n",
    "def decorator_func(any_func):      # any_func is like var. , used here to replace with any func.  later in this func\n",
    "    def wrapper_func():\n",
    "        print('this is an awesome function')\n",
    "        any_func()    # here used any_func\n",
    "    return wrapper_func\n",
    "\n",
    "def func1():\n",
    "    print('This is function1')\n",
    "    \n",
    "def func2():\n",
    "    print('This is function2')\n",
    "    \n",
    "var=decorator_func(func1)\n",
    "var()"
   ]
  },
  {
   "cell_type": "code",
   "execution_count": 88,
   "metadata": {},
   "outputs": [
    {
     "name": "stdout",
     "output_type": "stream",
     "text": [
      "this is an awesome function\n",
      "This is function2\n"
     ]
    }
   ],
   "source": [
    "# by @ using we call decortaor_func, which enhance functionality of func2\n",
    "\n",
    "@decorator_func\n",
    "def func2():\n",
    "    print('This is function2')\n",
    "func2()"
   ]
  },
  {
   "cell_type": "code",
   "execution_count": 90,
   "metadata": {},
   "outputs": [
    {
     "name": "stdout",
     "output_type": "stream",
     "text": [
      "this is awesome function\n",
      "this is function with argument \"7\" \n",
      "this is awesome function\n",
      "12\n"
     ]
    }
   ],
   "source": [
    "def decorator_func(any_func):                    \n",
    "    def wrapper_function(*args, **kwargs):             # *args, **kwargs is used to pass many no. of arguments\n",
    "        print('this is awesome function')\n",
    "        return any_func(*args, **kwargs)              # same here, when we call any_func ,  return any_func <- used for add()\n",
    "    return wrapper_function\n",
    "\n",
    "\n",
    "@decorator_func\n",
    "def func(a):                                        # a used as parameter later in which we pass any argument \n",
    "    print(f'this is function with argument \"{a}\" ')\n",
    "func(7)              # calling function ,   a --> 7\n",
    "\n",
    "\n",
    "\n",
    "@decorator_func\n",
    "def add(a,b):\n",
    "    return a+b\n",
    "print(add(5,7))"
   ]
  },
  {
   "cell_type": "code",
   "execution_count": 93,
   "metadata": {},
   "outputs": [
    {
     "name": "stdout",
     "output_type": "stream",
     "text": [
      "This is an addition function\n",
      "add\n",
      "this is awesome function\n",
      "12\n"
     ]
    }
   ],
   "source": [
    "from functools import wraps             # <--  this is module\n",
    "def decorator_func(any_func):\n",
    "    @wraps(any_func)                        # for module to work           \n",
    "    def wrapper_function(*args, **kwargs): \n",
    "        '''this is wrapper function'''              # this is doc string  \n",
    "        print('this is awesome function')\n",
    "        return any_func(*args, **kwargs)      \n",
    "    return wrapper_function\n",
    "\n",
    "@decorator_func\n",
    "def add(a,b):\n",
    "    '''This is an addition function'''\n",
    "    return a+b\n",
    "\n",
    "print(add.__doc__)\n",
    "print(add.__name__)\n",
    "print(add(5,7))\n",
    "# so to remove these errors we import module and write above the starting function\n"
   ]
  },
  {
   "cell_type": "code",
   "execution_count": 1,
   "metadata": {},
   "outputs": [
    {
     "name": "stdout",
     "output_type": "stream",
     "text": [
      "you are calling 'addition' function\n",
      "This function takes two arguments and return their sum\n",
      "10\n"
     ]
    }
   ],
   "source": [
    "from functools import wraps\n",
    "def print_func_data(any_func):\n",
    "    @wraps(any_func)\n",
    "    def wrapper_func(*args,**kwargs):\n",
    "        print(f\"you are calling '{any_func.__name__}' function\")\n",
    "        print(f\"{any_func.__doc__}\")\n",
    "        return any_func(*args,**kwargs)\n",
    "    return wrapper_func\n",
    "\n",
    "@print_func_data\n",
    "def addition(a,b):\n",
    "    '''This function takes two arguments and return their sum'''\n",
    "    return a+b\n",
    "\n",
    "print(addition(5,5))"
   ]
  },
  {
   "cell_type": "code",
   "execution_count": 4,
   "metadata": {},
   "outputs": [
    {
     "name": "stdout",
     "output_type": "stream",
     "text": [
      "10\n"
     ]
    }
   ],
   "source": [
    "def add_all(*args):\n",
    "    total=0\n",
    "    for i in args:\n",
    "        total+=i\n",
    "    return total\n",
    "\n",
    "print(add_all(1,2,3,4))\n",
    "# print(add_all(1,2,3,4,5,[1,2,3]))   # show error coz of list , we can remove with decorator"
   ]
  },
  {
   "cell_type": "code",
   "execution_count": 7,
   "metadata": {},
   "outputs": [
    {
     "name": "stdout",
     "output_type": "stream",
     "text": [
      "10\n",
      "Invalid arguments\n",
      "None\n"
     ]
    }
   ],
   "source": [
    "from functools import wraps\n",
    "def only_int_allow(any_func):\n",
    "    @wraps(any_func)\n",
    "    def wrapper_function(*args,**kwargs):\n",
    "        data_type=[]\n",
    "        for i in args:\n",
    "            data_type.append(type(i)==int)\n",
    "        if all(data_type):\n",
    "            return any_func(*args,**kwargs)\n",
    "        else:\n",
    "            print(\"Invalid arguments\")\n",
    "    return wrapper_function\n",
    "\n",
    "@only_int_allow\n",
    "def add_all(*args):\n",
    "    total=0\n",
    "    for i in args:\n",
    "        total+=i\n",
    "    return total\n",
    "\n",
    "print(add_all(1,2,3,4))\n",
    "print(add_all(1,2,3,4,[1,5,7]))"
   ]
  },
  {
   "cell_type": "code",
   "execution_count": 8,
   "metadata": {},
   "outputs": [
    {
     "name": "stdout",
     "output_type": "stream",
     "text": [
      "david taneja\n"
     ]
    }
   ],
   "source": [
    "# decorators with arguments    , we can directly pass -> int, str and use it\n",
    "# type(arg)==data_type , check here for all data type, not only int as earlier coz making for string\n",
    "\n",
    "\n",
    "from functools import wraps\n",
    "\n",
    "def only_data_type_allow(data_type):            # we using data type here not function\n",
    "    def decorator(function):                              # 2 level d prested function\n",
    "        @wraps(function)\n",
    "        def wrapper(*args, **kwargs):\n",
    "            if all([type(arg)==data_type for arg in args]):     \n",
    "                return function(*args, **kwargs)\n",
    "            print(\"invalid arguments\")\n",
    "        return wrapper\n",
    "    return decorator\n",
    "\n",
    "@only_data_type_allow(str)               # passing string as argument with decorator\n",
    "def string_join(*args):\n",
    "    string=\"\"\n",
    "    for i in args:\n",
    "        string += i\n",
    "    return string \n",
    "\n",
    "print(string_join(\"david\", \" taneja\"))       # we can not pass int here "
   ]
  },
  {
   "cell_type": "code",
   "execution_count": 9,
   "metadata": {},
   "outputs": [
    {
     "name": "stdout",
     "output_type": "stream",
     "text": [
      "0.0\n",
      "executing.....'add' function\n",
      "this function takes 0.0 seconds \n",
      "5\n"
     ]
    }
   ],
   "source": [
    "# USING DECORATOR DEFINE A FUNCTION , and run a function , then calculate time taken to run that function\n",
    "\n",
    "import time            # module is used to calculate time\n",
    "t1=time.time()         # starting time       and b/w t1 and t2 code comes for function\n",
    "t2=time.time()         # end time\n",
    "print(t2-t1)             # tells time\n",
    "\n",
    "\n",
    "from functools import wraps\n",
    "import time\n",
    "\n",
    "def calculate_time(function):\n",
    "    @wraps(function)\n",
    "    def wrapper_func(*args, **kwargs):\n",
    "        print(f\"executing.....'{function.__name__}' function\")\n",
    "        t1=time.time()                         # starting time\n",
    "        value= function(*args, **kwargs)     # return is not used here bcoz t2 will not be calculated ,so we store this in var\n",
    "        t2=time.time()                         # finishing time\n",
    "        total_time=t2-t1\n",
    "        print(f\"this function takes {total_time} seconds \")\n",
    "        return value\n",
    "    return wrapper_func\n",
    "\n",
    "@calculate_time\n",
    "def add(a,b):\n",
    "    return a+b\n",
    "\n",
    "print(add(2,3))"
   ]
  },
  {
   "cell_type": "code",
   "execution_count": null,
   "metadata": {},
   "outputs": [],
   "source": []
  },
  {
   "cell_type": "code",
   "execution_count": null,
   "metadata": {},
   "outputs": [],
   "source": []
  },
  {
   "cell_type": "markdown",
   "metadata": {},
   "source": [
    "## Chapter 15"
   ]
  },
  {
   "cell_type": "markdown",
   "metadata": {},
   "source": [
    "##### generators"
   ]
  },
  {
   "cell_type": "raw",
   "metadata": {},
   "source": [
    "generators are iterators.\n",
    "no function or loop etc. apply on it, called iterable ( or iterator). \n",
    "\n",
    "generators --> takes less memory, bcoz it delete earlier data and takes less time to perform, but when we have to use data again and again we use --> list."
   ]
  },
  {
   "cell_type": "code",
   "execution_count": 9,
   "metadata": {},
   "outputs": [
    {
     "name": "stdout",
     "output_type": "stream",
     "text": [
      "1 2 3 4 5 1\n",
      "2\n"
     ]
    }
   ],
   "source": [
    "l=[1,2,3,4,5]\n",
    "for i in l:\n",
    "    print(i, end=\" \")         # by for loop changes iterable into iterator\n",
    "        \n",
    "        \n",
    "i=iter(l)             # Here, iter() : changes iterable into iterator.\n",
    "print(next(i))           \n",
    "print(next(i))         # But in this we have to write next() again and again."
   ]
  },
  {
   "cell_type": "code",
   "execution_count": 12,
   "metadata": {},
   "outputs": [
    {
     "name": "stdout",
     "output_type": "stream",
     "text": [
      "1 4 9 16 25 "
     ]
    }
   ],
   "source": [
    "for num in map(lambda a: a**2, l):          # map() or lambda function etc. apply on it (list), i.e. called iterator\n",
    "    print(num,end=' ')"
   ]
  },
  {
   "cell_type": "code",
   "execution_count": 24,
   "metadata": {},
   "outputs": [
    {
     "name": "stdout",
     "output_type": "stream",
     "text": [
      "1\n",
      "2\n",
      "3\n",
      "4\n",
      "5\n"
     ]
    },
    {
     "data": {
      "text/plain": [
       "<generator object nums at 0x000000CDF7575048>"
      ]
     },
     "execution_count": 24,
     "metadata": {},
     "output_type": "execute_result"
    }
   ],
   "source": [
    "def nums(n):\n",
    "    for i in range(1,n+1):\n",
    "        print(i)\n",
    "nums(5)\n",
    "\n",
    "\n",
    "def nums(n):\n",
    "    for i in range(1,n+1):   \n",
    "        yield(i)                  # yield--> is a keyword not a function, used to create generator\n",
    "nums(5)\n",
    "\n",
    "\n",
    "\n",
    "for num in nums(10):        # we can run generator only once if we generate in a var (number=nums(10)), \n",
    "    print(num)              # bcoz it uses memory and delete earlier data or for loop run only once"
   ]
  },
  {
   "cell_type": "code",
   "execution_count": 27,
   "metadata": {},
   "outputs": [
    {
     "name": "stdout",
     "output_type": "stream",
     "text": [
      "[1, 4, 9, 16, 25, 36, 49, 64, 81, 100]\n",
      "[1, 4, 9, 16, 25, 36, 49, 64, 81, 100]\n",
      "1 4 9 16 25 36 49 64 81 100 "
     ]
    }
   ],
   "source": [
    "# generator coprehension\n",
    "\n",
    "square=[i**2 for i in range(1,11)]    # list comprehension\n",
    "print(square)\n",
    "\n",
    "\n",
    "square1=(i**2 for i in range(1,11))    # generator comprehension    , use () in place of-> []\n",
    "print(square)                      # it act as iterator -- are generator\n",
    "\n",
    "for num in square1:           # if we generate a sequence once in var. it can not print again, we can not run for loop again\n",
    "    print(num, end=' ')\n"
   ]
  },
  {
   "cell_type": "raw",
   "metadata": {},
   "source": [
    "list vs generator\n",
    "\n",
    "list take much memory than generator and also time.\n",
    "list is used when work with sequence or data to work with it\n",
    "data is not used again then use -> generator "
   ]
  },
  {
   "cell_type": "code",
   "execution_count": 31,
   "metadata": {},
   "outputs": [
    {
     "name": "stdout",
     "output_type": "stream",
     "text": [
      "Time of list :  0.09563493728637695\n",
      "Time of generator :  0.0\n"
     ]
    }
   ],
   "source": [
    "import time \n",
    "\n",
    "t1=time.time()\n",
    "l=[i**2 for i in range(100000)]\n",
    "t2=time.time()\n",
    "print('Time of list : ',t2-t1)\n",
    "\n",
    "t1=time.time()\n",
    "g=(i**2 for i in range(100000))\n",
    "t2=time.time()\n",
    "print('Time of generator : ',t2-t1)"
   ]
  },
  {
   "cell_type": "code",
   "execution_count": 34,
   "metadata": {},
   "outputs": [
    {
     "name": "stdout",
     "output_type": "stream",
     "text": [
      "<generator object even_generator at 0x000000CDF75753B8>\n",
      "2 4 6 8 10 "
     ]
    }
   ],
   "source": [
    "def even_generator(n):\n",
    "    for num in range(1,n+1):\n",
    "        if num%2==0:                  # if use this--> range(1,n+1,2)  , 2 is step ,so we need not to use line-> if num%2==0\n",
    "            yield(num)\n",
    "            \n",
    "print(even_generator(11))      # print object\n",
    "\n",
    "for i in even_generator(11):\n",
    "    print(i,end=' ')            # print sequence of even no."
   ]
  },
  {
   "cell_type": "markdown",
   "metadata": {},
   "source": [
    "#### fibonacci series - using generators"
   ]
  },
  {
   "cell_type": "code",
   "execution_count": 119,
   "metadata": {},
   "outputs": [
    {
     "name": "stdout",
     "output_type": "stream",
     "text": [
      "0 1 1 2 3 5 8 13 21 34 "
     ]
    }
   ],
   "source": [
    "def fib():\n",
    "    a,b = 0, 1               # a - 1st ,   b - 2nd number \n",
    "    while True:\n",
    "        yield a\n",
    "        a,b = b, a+b        # 2nd becomes 1st and 3rd becomes sum of 1st & 2nd.\n",
    "\n",
    "for i in fib():      \n",
    "    if i>50:             # using if condition bcoz above uses 'while True' to break\n",
    "        break\n",
    "    print(i, end=' ')"
   ]
  },
  {
   "cell_type": "markdown",
   "metadata": {},
   "source": [
    "#### Number stream"
   ]
  },
  {
   "cell_type": "code",
   "execution_count": 137,
   "metadata": {},
   "outputs": [
    {
     "name": "stdout",
     "output_type": "stream",
     "text": [
      "<generator object <genexpr> at 0x0000006A1A5BB150>\n",
      "0 1 2 3 4 5 6 7 8 9 10 11 12 13 14 15 16 17 18 19 20 21 22 23 24 25 26 27 28 29 30 31 32 33 34 35 36 37 38 39 40 41 42 43 44 45 46 47 48 49 "
     ]
    }
   ],
   "source": [
    "a = range(50)\n",
    "b = (x for x in a)\n",
    "print(b)\n",
    "for y in b:\n",
    "    print(y, end=' ')    "
   ]
  },
  {
   "cell_type": "code",
   "execution_count": 135,
   "metadata": {},
   "outputs": [
    {
     "name": "stdout",
     "output_type": "stream",
     "text": [
      "0 2 4 6 8 10 12 14 16 18 20 22 24 26 28 30 32 34 36 38 40 42 44 46 48 "
     ]
    }
   ],
   "source": [
    "a = range(0, 50, 2)\n",
    "b = (x for x in a)\n",
    "for z in b:\n",
    "    print(z, end= ' ')"
   ]
  },
  {
   "cell_type": "code",
   "execution_count": 136,
   "metadata": {},
   "outputs": [
    {
     "name": "stdout",
     "output_type": "stream",
     "text": [
      "1 3 5 7 9 11 13 15 17 19 21 23 25 27 29 31 33 35 37 39 41 43 45 47 49 "
     ]
    }
   ],
   "source": [
    "a = range(1, 50, 2)\n",
    "b = (x for x in a)\n",
    "for z in b:\n",
    "    print(z, end= ' ')"
   ]
  },
  {
   "cell_type": "code",
   "execution_count": null,
   "metadata": {},
   "outputs": [],
   "source": []
  },
  {
   "cell_type": "markdown",
   "metadata": {},
   "source": [
    "## Chapter 16"
   ]
  },
  {
   "cell_type": "markdown",
   "metadata": {},
   "source": [
    "##### oop ( object oriented programming )"
   ]
  },
  {
   "cell_type": "code",
   "execution_count": null,
   "metadata": {},
   "outputs": [],
   "source": [
    "# class, object(instance) , method\n",
    "\n",
    "# class : is blueprint , in which we decide coming object is what type of and which functionality it\n",
    "# method -> functions defined in class like- append etc."
   ]
  },
  {
   "cell_type": "code",
   "execution_count": 36,
   "metadata": {},
   "outputs": [
    {
     "name": "stdout",
     "output_type": "stream",
     "text": [
      "David\n",
      "Harshit\n"
     ]
    }
   ],
   "source": [
    "# defining a class-> Person is class name, p-is capital acc. to convention,when we define a class\n",
    "\n",
    "class Person:                  \n",
    "    def __init__(self, first_name, last_name, age):          # defining init method,and self repersents-object\n",
    "        # instance variables                      # inplace of self- we can write anything ,but acc to convention we write self\n",
    "        self.first_name = first_name           # first,last name ,age are-> attributes of class-Person  ,define in init method\n",
    "        self.last_name = last_name              # (self.)->first, last name ,age are instance variables\n",
    "        self.age = age\n",
    "\n",
    "p1 = Person('David', 'taneja', 27)       # self= p1 ,  self represents object- p1 \n",
    "p2 = Person('Harshit', 'vashisth', 25)    # in class --> all are values of attribute\n",
    "\n",
    "print(p1.first_name)     # This first_name is acc to what we declare in instance var-> self.first_name, \n",
    "print(p2.first_name)       # after = what we write not matters.  "
   ]
  },
  {
   "cell_type": "code",
   "execution_count": 38,
   "metadata": {},
   "outputs": [
    {
     "name": "stdout",
     "output_type": "stream",
     "text": [
      "David Taneja\n",
      "False\n"
     ]
    }
   ],
   "source": [
    "class Person:\n",
    "    def __init__(self, first_name, last_name, age):\n",
    "        self.first_name = first_name\n",
    "        self.last_name = last_name\n",
    "        self.age = age\n",
    "        \n",
    "    def full_name(self):\n",
    "        return f\"{self.first_name} {self.last_name}\"\n",
    "    \n",
    "    def is_above_18(self):\n",
    "        return self.age>18      # return boolean\n",
    "    \n",
    "p1 = Person('David', 'Taneja',27)\n",
    "p2 = Person('Ishant', 'Taneja', 9)\n",
    "\n",
    "print(p1.full_name()) \n",
    "print(p2.is_above_18())"
   ]
  },
  {
   "cell_type": "code",
   "execution_count": 45,
   "metadata": {},
   "outputs": [
    {
     "name": "stdout",
     "output_type": "stream",
     "text": [
      "78.5\n",
      "31.400000000000002\n",
      "250\n",
      "{'radius': 5}\n"
     ]
    }
   ],
   "source": [
    "# creating class for circle area , circumference\n",
    "\n",
    "\n",
    "class Circle:\n",
    "    pi=3.14         # pi : class var.(attribute), pi value is same for all objects so we declare it here and occupy more space\n",
    "    def __init__(self,radius):\n",
    "        self.radius = radius\n",
    "        \n",
    "    def area(self):\n",
    "        return Circle.pi*self.radius**2          # ( pi r**2) => Circle.pi = pi ,bcoz pi attr. of Circle class\n",
    "    \n",
    "    def circumference(self):\n",
    "        return 2*Circle.pi*self.radius         # (2 pi r) \n",
    "    \n",
    "    \n",
    "a = Circle(5)     # 1st we give value into class \n",
    "print(a.area())            # then we call function\n",
    "print(a.circumference())\n",
    "\n",
    "\n",
    "Circle.pi = 10     # we can also change (class var. like this)\n",
    "print(a.area())\n",
    "\n",
    "\n",
    "print(a.__dict__)    # find var. in object like : a"
   ]
  },
  {
   "cell_type": "code",
   "execution_count": 47,
   "metadata": {},
   "outputs": [
    {
     "name": "stdout",
     "output_type": "stream",
     "text": [
      "You have created 2 instances of Person class\n"
     ]
    }
   ],
   "source": [
    "# class methods vs instance methods          ,    @classmethod\n",
    "\n",
    "class Person:\n",
    "    count_instance=0\n",
    "    def __init__(self, first_name, last_name, age):\n",
    "        \n",
    "        Person.count_instance += 1\n",
    "        \n",
    "        self.first_name = first_name\n",
    "        self.last_name = last_name\n",
    "        self.age = age\n",
    "    \n",
    "    @classmethod                # predefined decorator for class\n",
    "    def count_instances(cls):\n",
    "        return f\"You have created {cls.count_instance} instances of {cls.__name__} class\"\n",
    "    # cls - class , cls use here bcoz, class used to define class name\n",
    "\n",
    "    \n",
    "p1 = Person('David', 'Taneja', 27)\n",
    "p2 = Person('Ishant', 'Taneja', 9)         # instances are : objects like : p1, p2\n",
    "    \n",
    "print(Person.count_instances())"
   ]
  },
  {
   "cell_type": "code",
   "execution_count": 51,
   "metadata": {},
   "outputs": [
    {
     "name": "stdout",
     "output_type": "stream",
     "text": [
      "David\n",
      "Ishant\n"
     ]
    }
   ],
   "source": [
    "# class method as a constructor , init method--is constructor\n",
    "# to create our own object done with constructor using class method (like init method do)\n",
    "\n",
    "class Person:\n",
    "    count_instance=0\n",
    "    def __init__(self, first_name, last_name, age):\n",
    "        Person.count_instance += 1\n",
    "        self.first_name = first_name\n",
    "        self.last_name = last_name\n",
    "        self.age = age\n",
    "        \n",
    "    @classmethod                             # class decorator  ,  cls= class\n",
    "    def from_string(cls,string):\n",
    "        first,last,age = string.split(',')        # we define var in a string for object by split method\n",
    "        return cls(first,last,age)\n",
    "    \n",
    "p1 = Person('David','Taneja',27)\n",
    "print(p1.first_name)                  # it calls : init method\n",
    "\n",
    "p2 = Person.from_string('Ishant,Taneja,9')     # now it calls : class method ->(class_name.from_string)\n",
    "print(p2.first_name)"
   ]
  },
  {
   "cell_type": "code",
   "execution_count": 52,
   "metadata": {},
   "outputs": [
    {
     "name": "stdout",
     "output_type": "stream",
     "text": [
      "Hello ! static method called.\n"
     ]
    }
   ],
   "source": [
    "#  @staticmethod\n",
    "\n",
    "class Person:\n",
    "    count_instance=0\n",
    "    def __init__(self, first_name, last_name, age):\n",
    "        Person.count_instance += 1\n",
    "        self.first_name = first_name\n",
    "        self.last_name = last_name\n",
    "        self.age = age\n",
    "        \n",
    "    @staticmethod\n",
    "    def hello():                                    # static method - not belongs to class, instance , just define in class \n",
    "        print('Hello ! static method called.')       # also no need to pass any argument in() like-self etc.\n",
    "\n",
    "Person.hello()"
   ]
  },
  {
   "cell_type": "markdown",
   "metadata": {},
   "source": [
    "##### encapsulation , abstraction , naming conventions, name mangling"
   ]
  },
  {
   "cell_type": "code",
   "execution_count": 2,
   "metadata": {},
   "outputs": [
    {
     "name": "stdout",
     "output_type": "stream",
     "text": [
      "[1, 2, 3, 4, 5]\n",
      "{'brand': 'nokia', 'model_name': 'hg12', '_Phone__price': 2500}\n",
      "2500\n",
      "2000\n"
     ]
    }
   ],
   "source": [
    "# encapsulation : to perform functionality with data at one place (like: brand, model etc. is data) \n",
    "#                     and make_a_call, full_name are functions to perform\n",
    "\n",
    "\n",
    "class Phone:\n",
    "    def __init__(self, brand, model_name, price):\n",
    "        # instance var.\n",
    "        self.brand= brand\n",
    "        self.model_name= model_name\n",
    "        self.__price= price\n",
    "\n",
    "    def make_a_call(self, phone_number):                # it takes as a argument phone no. \n",
    "        print(f\"calling {phone_number}....\")            # and print it\n",
    "    \n",
    "    def full_name(self):\n",
    "        return f\"{self.brand} {self.model_name}\"\n",
    "\n",
    "\n",
    "# abstraction -> to hide complexity (like: how algorithm is performing)\n",
    "\n",
    "l=[3,4,5,1,2]\n",
    "l.sort()            # In python (tim) sort-algorithm is used.  \n",
    "print(l)\n",
    "\n",
    "# encapsulation, abstraction are two fundamental concepts of - oop\n",
    "# In other lang. there are-some private method, var. and some are public , but in python nothing is private all are public\n",
    "\n",
    "# some naming conventions ( _name, __name__ )\n",
    "# _name --> underscore(-) tells other this is private method (or convention of pvt.name) plz do not change it (self._price)\n",
    "# __name__  -> it is double underscore method (or dunder/magic methods) like: init method when we create object\n",
    "\n",
    "# name mangling--> python just change name of an object.  (__name -> not a convention) <--doubleunderscore\n",
    "# like: self.__price \n",
    "phone1=Phone('nokia', 'hg12', 2500)           # phone1 is object \n",
    "# print(phone1.__price)                # self.__price <-- instance var created    \n",
    "print(phone1.__dict__)                # create dictionary of var , also python changed (__price) into-> (_Phone__price)\n",
    "\n",
    "print(phone1._Phone__price)         # now it give price\n",
    "\n",
    "phone1._Phone__price = 2000           # here we change value\n",
    "print(phone1._Phone__price)"
   ]
  },
  {
   "cell_type": "code",
   "execution_count": null,
   "metadata": {},
   "outputs": [],
   "source": []
  },
  {
   "cell_type": "markdown",
   "metadata": {},
   "source": [
    "##### property(getter) and setter decorator"
   ]
  },
  {
   "cell_type": "code",
   "execution_count": 21,
   "metadata": {},
   "outputs": [
    {
     "name": "stdout",
     "output_type": "stream",
     "text": [
      "Htc h620 and price is 2500\n",
      "0\n",
      "Htc h620 and price is 0\n"
     ]
    }
   ],
   "source": [
    "class Phone:\n",
    "    def __init__(self,brand,model_name,price):\n",
    "        self.brand = brand\n",
    "        self.model_name = model_name\n",
    "        self._price = max(price,0)           # Trick : if value is negative it set 0  , we can also use if-else \n",
    "         \n",
    "            \n",
    "    @property        # use of @property <- decorator ,this complete_specification function is treated as attribute of class\n",
    "    def complete_specification(self):\n",
    "        return f\"{self.brand} {self.model_name} and price is {self._price}\"\n",
    "    \n",
    "    def make_call(self,phone_number):\n",
    "        print(f\"calling {phone_number}.....\")\n",
    "        \n",
    "    @property                                  # getter()\n",
    "    def price(self):                       # also we can use : price , inplace of : _price\n",
    "        return self._price\n",
    "    \n",
    "    @price.setter                  # setter()\n",
    "    def price(self,new_price):\n",
    "        self._price = max(new_price,0)             # setter() : updates new price value\n",
    "\n",
    "        \n",
    "p1 = Phone('Htc', 'h620', 2500)\n",
    "print(p1.complete_specification)\n",
    "\n",
    "p1.price=-5000             # price not update value , but _price updates the value also it is taking -ve\n",
    "print(p1.price)\n",
    "print(p1.complete_specification)"
   ]
  },
  {
   "cell_type": "code",
   "execution_count": 22,
   "metadata": {},
   "outputs": [],
   "source": [
    "# price updated-->    phone1._price= -5000 \n",
    "# in other lang. -> getter() , setter() method used to update \n",
    "# but in python, we use inplace of, getter()--> @property  decorator ,  setter()--> setter decorator\n",
    "\n",
    "# getter() ->                           after declaring getter , setter will be defined \n",
    "        # @property\n",
    "        # def price(self):\n",
    "        #     return self._price \n",
    "\n",
    "# setter() ->                   @price.setter     for price we are setting setter\n",
    "        # @price.setter\n",
    "        # def price(self, new_price):\n",
    "        #     self._price= max(new_price, 0)          like we did in same problem1"
   ]
  },
  {
   "cell_type": "markdown",
   "metadata": {},
   "source": [
    "##### inheritance"
   ]
  },
  {
   "cell_type": "code",
   "execution_count": 23,
   "metadata": {},
   "outputs": [
    {
     "name": "stdout",
     "output_type": "stream",
     "text": [
      "nokia dgh457\n",
      "apple dfshk5347and price is 45000\n"
     ]
    }
   ],
   "source": [
    "# inheritance -> instance var. created for class (phone) can also be used for class-smartphone,\n",
    "#                not to write again instance var(like:brand,model,price)      (2 methods : 1.uncommon way , 2.super() method)\n",
    "\n",
    "\n",
    "class Phone:\n",
    "    def __init__(self, brand, model_name, price):\n",
    "        # instance var.\n",
    "        self.brand= brand\n",
    "        self.model_name= model_name\n",
    "        self._price= max(price,0)\n",
    "    \n",
    "    def full_name(self):                            # also no need to declare these methods in class Smartphone again, inherit\n",
    "        return f\"{self.brand} {self.model_name}\"     \n",
    "\n",
    "    \n",
    "class Smartphone(Phone):                            # to inherit in-() write class name which we want to inherit\n",
    "    def __init__(self, brand, model_name, price, ram, internal_memory, camera):            \n",
    "        # Phone.__init__(self, brand, model_name, price)    # uncommon way      # this inherit all instance var\n",
    "        super().__init__( brand, model_name, price)         # super() method    # in this no need of self to write\n",
    "        self.ram= ram\n",
    "        self.internal_memory= internal_memory\n",
    "        self.camera= camera\n",
    "\n",
    "p1= Phone('nokia', 'dgh457', 2500)\n",
    "s1= Smartphone('apple', 'dfshk5347', 45000, '4gb', '128gb','16mp')\n",
    "print(p1.full_name())\n",
    "print(s1.full_name() + f\" and price is {s1._price}\")\n",
    "\n",
    "# base class-> phone  , which is inherited\n",
    "# derived / child class-> smartphone , which inherit var."
   ]
  },
  {
   "cell_type": "code",
   "execution_count": 140,
   "metadata": {},
   "outputs": [
    {
     "name": "stdout",
     "output_type": "stream",
     "text": [
      "This is function 1\n",
      "This is function 2\n"
     ]
    }
   ],
   "source": [
    "# super() function\n",
    "\n",
    "class Parent():\n",
    "    def func1(self):\n",
    "        print('This is function 1')\n",
    "    \n",
    "class Child(Parent):\n",
    "    def func2(self):\n",
    "        super().func1()                  # we can also call function using - super()\n",
    "        print('This is function 2')\n",
    "    \n",
    "x = Child()\n",
    "x.func2()"
   ]
  },
  {
   "cell_type": "markdown",
   "metadata": {},
   "source": [
    "##### multilevel inheritance  ,   MRO ( method resolution order )  , method over-riding  ,  isinstance()  ,  issubclass()"
   ]
  },
  {
   "cell_type": "code",
   "execution_count": 26,
   "metadata": {},
   "outputs": [
    {
     "name": "stdout",
     "output_type": "stream",
     "text": [
      "apple afshk5347 and price is 45000\n",
      "htc h145jsk and price is 55000 and camera = 18mp\n"
     ]
    }
   ],
   "source": [
    "# multilevel inheritance : flagshipPhone() inherit ->smartphone and smartphone inherit -> phone\n",
    "\n",
    "class Phone:                                           # base class\n",
    "    def __init__(self, brand, model_name, price):\n",
    "        # instance var.\n",
    "        self.brand= brand\n",
    "        self.model_name= model_name\n",
    "        self._price= max(price,0)\n",
    "\n",
    "    def make_a_call(self, phone_number):                # it takes as a argument phone no. \n",
    "        return f\"calling {phone_number}....\"            # and print it\n",
    "    \n",
    "    def full_name(self):\n",
    "        return f\"{self.brand} {self.model_name}\"        \n",
    "    \n",
    "\n",
    "class Smartphone(Phone):                            # to inherit in-() write class name which we want to inherit\n",
    "    def __init__(self, brand, model_name, price, ram, internal_memory, camera):            \n",
    "        # Phone.__init__(self, brand, model_name, price)    # uncommon way      # this inherit all instance var\n",
    "        super().__init__( brand, model_name, price)         # super() method    # in this no need of self to write\n",
    "        self.ram= ram\n",
    "        self.internal_memory= internal_memory\n",
    "        self.camera= camera\n",
    "    \n",
    "    def full_name(self):                                                        # method overriding\n",
    "        return f\"{self.brand} {self.model_name} and price is {self._price}\"\n",
    "\n",
    "    \n",
    "class FlagshipPhone(Smartphone):\n",
    "    def __init__(self, brand, model_name, price, ram, internal_memory, camera, glass, cover): \n",
    "        super().__init__(brand, model_name, price, ram, internal_memory, camera)\n",
    "        self.glass= glass   \n",
    "        self.cover= cover        \n",
    "    \n",
    "    def full_name(self):                                                               # method overriding\n",
    "        return f\"{self.brand} {self.model_name} and price is {self._price} and camera = {self.camera}\"\n",
    "\n",
    "\n",
    "p1= Phone('nokia', 'dgh457', 2500)                     # p1 object of phone class         \n",
    "s1= Smartphone('apple', 'afshk5347', 45000, '4gb', '128gb','16mp')    # s1 object of smartphone class\n",
    "f1= FlagshipPhone('htc', 'h145jsk', 55000, '6gb', '72gb','18mp', 'gorilla', 'plastic')       # f1 object of flagshipPhone class\n",
    "\n",
    "print(s1.full_name())\n",
    "print(f1.full_name())   # multilevel inheritance"
   ]
  },
  {
   "cell_type": "code",
   "execution_count": 28,
   "metadata": {},
   "outputs": [],
   "source": [
    "# MRO (method resolution order)  - by help() \n",
    "# in this python search order acc.-> methods then instance var. , bultin object is - class from where all classes are inherit\n",
    " \n",
    "# print(help(Smartphone))\n",
    "# print(help(FlagshipPhone))"
   ]
  },
  {
   "cell_type": "code",
   "execution_count": 30,
   "metadata": {},
   "outputs": [
    {
     "name": "stdout",
     "output_type": "stream",
     "text": [
      "apple afshk5347 and price is 45000\n"
     ]
    }
   ],
   "source": [
    "# method overriding : full name() method define in class-phone , but we want smartphone->full name() prints in different way \n",
    "# again we have to define method in -> smartphone class\n",
    "\n",
    "print(s1.full_name())"
   ]
  },
  {
   "cell_type": "code",
   "execution_count": 32,
   "metadata": {},
   "outputs": [
    {
     "name": "stdout",
     "output_type": "stream",
     "text": [
      "True\n",
      "True\n"
     ]
    }
   ],
   "source": [
    "# isinstance()  -> used to check-> which object belongs to which class\n",
    "\n",
    "print(isinstance(f1, FlagshipPhone))        # this return boolean value- true or false\n",
    "print(isinstance(f1, Smartphone))          # return true , bcoz we inherit smartphone class in flagshipPhone "
   ]
  },
  {
   "cell_type": "code",
   "execution_count": 34,
   "metadata": {},
   "outputs": [
    {
     "name": "stdout",
     "output_type": "stream",
     "text": [
      "True\n"
     ]
    }
   ],
   "source": [
    "# issubclass()  -> used to check -> subclass of class or which class inherit   , return boolean value\n",
    "\n",
    "print(issubclass(Smartphone,Phone))        # checks -> smartphone inherit class phone"
   ]
  },
  {
   "cell_type": "markdown",
   "metadata": {},
   "source": [
    "##### multiple inheritance()"
   ]
  },
  {
   "cell_type": "code",
   "execution_count": 35,
   "metadata": {},
   "outputs": [
    {
     "name": "stdout",
     "output_type": "stream",
     "text": [
      "I'm just a class A method\n",
      "I'm just a class A method\n",
      "I'm just a class B method\n",
      "hello from class A\n",
      "[<class '__main__.C'>, <class '__main__.A'>, <class '__main__.B'>, <class 'object'>]\n"
     ]
    }
   ],
   "source": [
    "# multiple inheritance   -> this makes code complex , so this is less used\n",
    "\n",
    "class A:\n",
    "\n",
    "    def class_a_method(self):                         # instance methods\n",
    "        return \"I'm just a class A method\"\n",
    "\n",
    "    def hello(self):\n",
    "        return \"hello from class A\"\n",
    "\n",
    "class B:\n",
    "\n",
    "    def class_b_method(self):                         # instance methods\n",
    "        return \"I'm just a class B method\"\n",
    "\n",
    "    def hello(self):\n",
    "        return \"hello from class B\"\n",
    "\n",
    "class C(A,B):\n",
    "    pass                              # pass -> means we do not want to write anything in it, and we just inherit some\n",
    "\n",
    "instance_a= A()                             # this is instance of a(object), coz we not use init method\n",
    "print(instance_a.class_a_method())          # calling object\n",
    "\n",
    "instance_c= C()                             # instance of c (object)\n",
    "print(instance_c.class_a_method())          # calling a method \n",
    "print(instance_c.class_b_method())          # calling b method  \n",
    "\n",
    "print(instance_c.hello())              # hello method of calss-A,B are same ,\n",
    "# but it call of A, COZ class-c run acc to (MRO) IT FINDS 1ST in class A, if we write class C inherit(B,A) THEN-> B method runs \n",
    "\n",
    "\n",
    "# USE mro function \n",
    "# 1.  print(help(C))      ,  it shows method run acc. in this order\n",
    "# 2.  print(C.mro())      ,  gives list print      \n",
    "# 3.  print(C.__mro__)    ,  gives tuple print\n",
    "print(C.mro()) "
   ]
  },
  {
   "cell_type": "code",
   "execution_count": null,
   "metadata": {},
   "outputs": [],
   "source": []
  },
  {
   "cell_type": "markdown",
   "metadata": {},
   "source": [
    "##### special magic / dunder methods"
   ]
  },
  {
   "cell_type": "code",
   "execution_count": 42,
   "metadata": {},
   "outputs": [
    {
     "name": "stdout",
     "output_type": "stream",
     "text": [
      "nokia gdh2525 and price is 4000\n",
      "13\n",
      "Phone( 'nokia', 'gdh2525', 4000 )\n",
      "nokia gdh2525 and price is 4000\n",
      "9000\n"
     ]
    }
   ],
   "source": [
    "# special magic / dunder methods : which have double underscore in starting and also after it( like: __init__)\n",
    "\n",
    "class Phone:\n",
    "    def __init__(self, brand, model, price):\n",
    "        self.brand= brand\n",
    "        self.model= model\n",
    "        self.price= price\n",
    "\n",
    "    def phone_name(self):\n",
    "        return f\"{self.brand} {self.model}\"\n",
    "\n",
    "    # str , repr                              # both are dunder methods  and we define both\n",
    "    def __str__(self):\n",
    "        return f\"{self.brand} {self.model} and price is {self.price}\"           # str - for normal users\n",
    "\n",
    "    def __repr__(self):    # representation\n",
    "        return f\"Phone( '{self.brand}', '{self.model}', {self.price} )\"          # repr - for coders , coz use for debugging\n",
    "            \n",
    "    def __len__(self):\n",
    "        return len(self.phone_name())    # in this we calling : phone_name()\n",
    "\n",
    "    def __add__(self, other):                   # other is used for 2nd object->my_phone2\n",
    "        return self.price + other.price          # like we this->  * , - , / , also do\n",
    "\n",
    "\n",
    "my_phone= Phone('nokia', 'gdh2525', 4000)        # my_phone - is object for class Phone \n",
    "my_phone2= Phone('nokia', 'gdh2083', 5000)        # my_phone2 - is object for class Phone\n",
    "\n",
    "# dunder--> used to print in order , methods are:   1. str  , 2. repr (representation)\n",
    "print(my_phone)           # it call (str) first\n",
    "\n",
    "print(len(my_phone))\n",
    "\n",
    "print(repr(my_phone))    # print(my_phone.__repr__())\n",
    "\n",
    "print(str(my_phone))\n",
    "\n",
    "\n",
    "# operator overloading  ->   use of '+'  ,  called method overload\n",
    "print(my_phone + my_phone2)\n",
    "\n",
    "# polymorphism -> many forms  \n",
    "# like:  1. opertaor overloading, 2. len () used for list ,tuple, string etc. \n",
    "# 3. method overriding     ,  we already read"
   ]
  },
  {
   "cell_type": "code",
   "execution_count": 43,
   "metadata": {},
   "outputs": [
    {
     "name": "stdout",
     "output_type": "stream",
     "text": [
      "sony\n",
      "dlki36\n",
      "sony e10ki78\n"
     ]
    }
   ],
   "source": [
    "class Laptop:                                                # laptop= class\n",
    "    def __init__(self, brand_name, model, price):            # attributes\n",
    "        # instance variables\n",
    "        self.brand_name= brand_name\n",
    "        self.model= model\n",
    "        self.price= price\n",
    "        self.laptop_name= brand_name + ' ' + model           # we can also declare instance var. without attributes\n",
    "\n",
    "l1=Laptop('sony','e10ki78', 25000)                #l1, l2 are objects\n",
    "l2=Laptop('lenovo', 'dlki36', 27000)\n",
    "\n",
    "print(l1.brand_name)\n",
    "print(l2.model)\n",
    "\n",
    "print(l1.laptop_name)"
   ]
  },
  {
   "cell_type": "code",
   "execution_count": 44,
   "metadata": {},
   "outputs": [
    {
     "name": "stdout",
     "output_type": "stream",
     "text": [
      "22500.0\n",
      "40000.0\n",
      "{'brand_name': 'sony', 'model': 'djh27bc', 'price': 25000, 'laptop_name': 'sony djh27bc'}\n"
     ]
    }
   ],
   "source": [
    "# enter discount and return dicounted price of object\n",
    "\n",
    "class Laptop:                                                # laptop= class\n",
    "    def __init__(self, brand_name, model, price):            # attributes\n",
    "        # instance variables\n",
    "        self.brand_name= brand_name\n",
    "        self.model= model\n",
    "        self.price= price\n",
    "        self.laptop_name= brand_name + ' ' + model      \n",
    "    \n",
    "    def discount_off(self,n):                          # n-> for discount offer\n",
    "        return self.price*(100-n)/100                # let n=20 , it gives-> 100-20=80, ->(self.price*80/100)\n",
    "\n",
    "p1=Laptop('sony', 'djh27bc', 25000)\n",
    "p2=Laptop('hp', 'ajjfk27bk', 50000)\n",
    "\n",
    "print(p1.discount_off(10))                    # n=10 discount offered, change accordingly \n",
    "print(p2.discount_off(20))\n",
    "\n",
    "\n",
    "# find var. of object \n",
    "print(p1.__dict__)                  # same for p1"
   ]
  },
  {
   "cell_type": "code",
   "execution_count": 45,
   "metadata": {},
   "outputs": [
    {
     "name": "stdout",
     "output_type": "stream",
     "text": [
      "2\n",
      "you have created 2 instances of person class\n"
     ]
    }
   ],
   "source": [
    "# def class var and count instance var.  or objects\n",
    "\n",
    "class Person:\n",
    "    count_instance=0\n",
    "    def __init__(self, first_name, last_name, age):\n",
    "        Person.count_instance +=1\n",
    "        self.first_name= first_name\n",
    "        self.last_name= last_name\n",
    "        self.age= age\n",
    "\n",
    "p1=Person('david', 'taneja', 27)\n",
    "p2=Person('harshit', 'taneja', 25)\n",
    "print(Person.count_instance)\n",
    "print(f\"you have created {Person.count_instance} instances of person class\")"
   ]
  },
  {
   "cell_type": "code",
   "execution_count": null,
   "metadata": {},
   "outputs": [],
   "source": []
  },
  {
   "cell_type": "code",
   "execution_count": null,
   "metadata": {},
   "outputs": [],
   "source": []
  },
  {
   "cell_type": "markdown",
   "metadata": {},
   "source": [
    "## Chapter 17"
   ]
  },
  {
   "cell_type": "markdown",
   "metadata": {},
   "source": [
    "##### errors"
   ]
  },
  {
   "cell_type": "code",
   "execution_count": 46,
   "metadata": {},
   "outputs": [],
   "source": [
    "# built in errors\n",
    "# EXCEPTION - how to handle them\n",
    "# raise oyur own errors,  debugging , etc.\n",
    "\n",
    "\n",
    "# errors : \n",
    "# 1.syntax error  2. indentation error  3. name error ,if not defined any var(name) or func.\n",
    "# 4.type error ,when func is perform on wrong type (string + int)\n",
    "# 5.index error ,index out of range   6. value error , coz of data type\n",
    "# 7.attributre error , which not exist and used  8.key error ,like in dict any key is not there and we print\n"
   ]
  },
  {
   "cell_type": "code",
   "execution_count": 52,
   "metadata": {},
   "outputs": [
    {
     "name": "stdout",
     "output_type": "stream",
     "text": [
      "5\n",
      "23\n"
     ]
    }
   ],
   "source": [
    "# raise errors\n",
    "\n",
    "def add(a,b):\n",
    "    return a+b\n",
    "print(add(2,3))                   # it adds\n",
    "print(add('2','3'))               # it concatenate  ,coz string pass or wrong datatype\n",
    "\n",
    "\n",
    "def add(a,b):\n",
    "    if (type(a) is int) and (type(b) is int):\n",
    "        return a+b\n",
    "    raise ValueError(\"oops you have entered wrong data type\")      # raise -> ValueError inplace of TypeError\n",
    "\n",
    "# print(add('2','3'))            # now it show error  ,coz it is in string"
   ]
  },
  {
   "cell_type": "code",
   "execution_count": 54,
   "metadata": {},
   "outputs": [
    {
     "name": "stdout",
     "output_type": "stream",
     "text": [
      "bhow bhow\n"
     ]
    }
   ],
   "source": [
    "# NotImplementedError       -> used in  inheritance,  in this we not define anything we just raise it \n",
    "# abstract method  -used in Java  ,   NotImplementedError is - abstract method\n",
    "\n",
    "\n",
    "class Animal:\n",
    "    def __init__(self, name):\n",
    "        self.name= name\n",
    "\n",
    "    def sound(self):                        # we raise error in this, for different classes\n",
    "        raise NotImplementedError('you have to define this method in subclasses')\n",
    "        return 'this is animal sound'           # if we not raise error, dog and cat both use this same method and return this.\n",
    "\n",
    "class Dog(Animal):\n",
    "    def __init__(self, name, breed):\n",
    "        super().__init__(name)  \n",
    "        self.breed= breed \n",
    "\n",
    "    def sound(self):                   # def this coz of error\n",
    "        return 'bhow bhow'\n",
    "\n",
    "class Cat(Animal):\n",
    "    def __init__(self, name, breed):\n",
    "        super().__init__(name)\n",
    "        self.breed= breed\n",
    "    \n",
    "    def sound(self):                  # def this coz of error\n",
    "        return 'meao meao'\n",
    "\n",
    "doggy = Dog('bony', 'pug')            # doggy is object for class- Dog\n",
    "print(doggy.sound())"
   ]
  },
  {
   "cell_type": "code",
   "execution_count": 55,
   "metadata": {},
   "outputs": [
    {
     "name": "stdout",
     "output_type": "stream",
     "text": [
      "[]\n",
      "[<__main__.Mobile object at 0x0000008CD172A400>]\n",
      "oneplus 6\n"
     ]
    }
   ],
   "source": [
    "class Mobile:\n",
    "    def __init__(self, name):\n",
    "        self.name= name\n",
    "\n",
    "class MobileStore:\n",
    "    def __init__(self):\n",
    "        self.mobiles= []                # instance var-> which is empty list\n",
    "\n",
    "    def add_mobile(self, new_mobile):             # new_mobile is instance , for we pass value\n",
    "        if isinstance(new_mobile, Mobile):        # it append only new_mobile isinstance of - Mobile ,what we pass    \n",
    "            self.mobiles.append(new_mobile)         \n",
    "        else:                                     # otherwise we raise error\n",
    "            raise TypeError('new_mobile should be object of class - Mobile')\n",
    "\n",
    "\n",
    "oneplus= Mobile('oneplus 6')             # object\n",
    "samsung= 'samsung galaxy s8'             # string\n",
    "mobostore= MobileStore()                 # object\n",
    "print(mobostore.mobiles)                 # print empty list, bcoz we not given value to mobilestore()\n",
    "# mobostore.add_mobile(samsung)            # calling add_mobile() method and passing samsung string\n",
    "# print(mobostore.mobiles)                 # now samsung string append , it print\n",
    "\n",
    "# now we want no string append , just class-Mobile items add in class-MobileStore\n",
    "#    we use isinstance method in -> add_mobile\n",
    "\n",
    "# mobostore.add_mobile(samsung)               # now it raise error\n",
    "# print(mobostore.mobiles) \n",
    "\n",
    "mobostore.add_mobile(oneplus)               # now it append ,\n",
    "print(mobostore.mobiles)                    # and return object\n",
    "\n",
    "mobo_phone= mobostore.mobiles              # creating a var ,and adding object in var\n",
    "print(mobo_phone[0].name)                  # add in list at 0 position"
   ]
  },
  {
   "cell_type": "code",
   "execution_count": null,
   "metadata": {},
   "outputs": [],
   "source": []
  },
  {
   "cell_type": "markdown",
   "metadata": {},
   "source": [
    "##### Try : Except  -> exception handling"
   ]
  },
  {
   "cell_type": "code",
   "execution_count": 61,
   "metadata": {},
   "outputs": [
    {
     "name": "stdout",
     "output_type": "stream",
     "text": [
      "enter your age: seven\n",
      "invalid input... you enter string instead of integer..\n",
      "enter your age: 20\n",
      "you can play this game\n"
     ]
    }
   ],
   "source": [
    "# exception --> are those errors which come at the time of execution. \n",
    "# try , except , else , finally\n",
    "\n",
    "\n",
    "while True:                       # loop runs until user input is not correct\n",
    "    try:                                          # enter 'string' in place of 'int' value ,error comes\n",
    "        age= int(input(\"enter your age: \"))        # user enter= seven  or 7   , if in this line error comes     \n",
    "        break                                    # loop breaks when user input is in correct format\n",
    "    except ValueError:                      # using-> ValueError here ,if it comes otherwise we use another block for - except\n",
    "        print('invalid input... you enter string instead of integer..')          # then this code of block runs\n",
    "    except:\n",
    "        print('unexcepted error..')\n",
    "        \n",
    "if age<18:\n",
    "    print(\"you can not play this game\")\n",
    "else:\n",
    "    print(\"you can play this game\")"
   ]
  },
  {
   "cell_type": "code",
   "execution_count": 62,
   "metadata": {},
   "outputs": [
    {
     "name": "stdout",
     "output_type": "stream",
     "text": [
      "enter a number: seven\n",
      "you enterd string in place of integer..\n",
      "finally block -- runs \n",
      "enter a number: 7\n",
      "user input= 7\n",
      "finally block -- runs \n"
     ]
    }
   ],
   "source": [
    "# else , finally with -- try , except\n",
    "\n",
    "while True:\n",
    "    try:\n",
    "        num= int(input(\"enter a number: \"))\n",
    "    except ValueError:\n",
    "        print(\"you enterd string in place of integer..\")\n",
    "    except:\n",
    "        print(\"unexcepted error !!\")\n",
    "    \n",
    "    else:\n",
    "        print(f\"user input= {num}\")       # num is var. in try\n",
    "        break                           # using break here.       \n",
    "    finally:\n",
    "        print(\"finally block -- runs \")         \n",
    "        \n",
    "# if try: code is correct or no exception(error) is there, then 'else' block runs.\n",
    "# finally-> block always runs - before (break) , \n",
    "# if there is exception or not , this 'finally' block used for information has to give code run or not"
   ]
  },
  {
   "cell_type": "code",
   "execution_count": 67,
   "metadata": {},
   "outputs": [
    {
     "name": "stdout",
     "output_type": "stream",
     "text": [
      "enter your name: David Taneja\n",
      "Hello ! David Taneja.\n"
     ]
    }
   ],
   "source": [
    "# custom exceptions -> to increase readability of code\n",
    "\n",
    "class NameTooShortError(ValueError):         # we just inherit valueError\n",
    "    pass\n",
    "\n",
    "def validate(name):\n",
    "    if len(name)<8:\n",
    "        raise NameTooShortError('name is too short')\n",
    "        # raise ValueError('name is too short')\n",
    "\n",
    "username= input('enter your name: ')\n",
    "validate(username)\n",
    "print(f'Hello ! {username}.')\n",
    "\n",
    "# we can also define our own error (or exception) like: ->   NameTooShort  , for this we def a class"
   ]
  },
  {
   "cell_type": "code",
   "execution_count": 68,
   "metadata": {},
   "outputs": [
    {
     "name": "stdout",
     "output_type": "stream",
     "text": [
      "--Return--\n",
      "> <ipython-input-68-ba43a8867c6a>(8)<module>()->None\n",
      "-> pdb.set_trace()                              # it stop my execution of code, and start debugging from here ,  we write this here where we want to start debugging\n",
      "(Pdb) l\n",
      "  3  \t# debugging --> to find errors and fix it\n",
      "  4  \t# fixing:  1. set_trace() by own ,    2. execute code line by line\n",
      "  5  \t\n",
      "  6  \timport pdb                                    # for debugging\n",
      "  7  \t\n",
      "  8  ->\tpdb.set_trace()                              # it stop my execution of code, and start debugging from here ,  we write this here where we want to start debugging\n",
      "  9  \tname= input('enter your name: ')\n",
      " 10  \tage= input('enter your age: ')                  # to correct take in -> int\n",
      " 11  \tprint(f'hello {name} your age is {age}')\n",
      " 12  \tage2= int(age) + 5                                # or here , to correct-> int(age)\n",
      " 13  \tprint(f'hello {name} you will be {age2} in next five years ')\n",
      "(Pdb) n\n",
      "> c:\\programdata\\anaconda3\\lib\\site-packages\\ipython\\core\\interactiveshell.py(3299)run_code()\n",
      "-> sys.excepthook = old_excepthook\n",
      "(Pdb) c\n",
      "enter your name: David\n",
      "enter your age: 25\n",
      "hello David your age is 25\n",
      "hello David you will be 30 in next five years \n"
     ]
    }
   ],
   "source": [
    "# python debugger  ,  use-->  import pdb  , (pdb-python debugger)\n",
    "\n",
    "# debugging --> to find errors and fix it\n",
    "# fixing:  1. set_trace() by own ,    2. execute code line by line \n",
    "\n",
    "import pdb                                    # for debugging\n",
    "\n",
    "pdb.set_trace()        # it stop execution of code and start debugging from here, we write this where we want to start debugging\n",
    "name= input('enter your name: ')\n",
    "age= input('enter your age: ')                  # to correct take in -> int\n",
    "print(f'hello {name} your age is {age}')\n",
    "age2= int(age) + 5                                # or here , to correct-> int(age)\n",
    "print(f'hello {name} you will be {age2} in next five years ')\n",
    "\n",
    "# module -> is python file ( conatin useful classes and functions wrote)  \n",
    "# 1st module is-->  pdb\n",
    "\n",
    "\n",
    "# pdb.set_trace()   , it stop execution of code and checks it line by line \n",
    "# stops at which line  , to check it command-> l \n",
    "# to run that line  enter ->   n  command           ( next line )\n",
    "# to quit code  -> q command\n",
    "# to code run  -> c command                , c- continue\n",
    "\n",
    "# to check var -> enter name of var. like:   name, age\n",
    "\n",
    "# now on line 12 we know ,there is error  and correct it  ,  by making it into (int)\n",
    "\n",
    "# after correcting error , we do not want to debugging , enter command -> c (continue)"
   ]
  },
  {
   "cell_type": "code",
   "execution_count": 71,
   "metadata": {},
   "outputs": [
    {
     "name": "stdout",
     "output_type": "stream",
     "text": [
      "2.0\n",
      "division by zero\n",
      "None\n",
      "unsupported operand type(s) for /: 'str' and 'int'\n",
      "None\n"
     ]
    }
   ],
   "source": [
    "# make a function - divide(a,b)\n",
    "# divid(4,2)     --> output =2\n",
    "# divide(4,0)    --> don't divide by zero\n",
    "# divide('4', 2)  --> please input integer only\n",
    "\n",
    "\n",
    "def divide(a,b):\n",
    "    try:\n",
    "        return a/b\n",
    "    except ZeroDivisionError as err:            # err : used to print default error.\n",
    "        print(err)                              # we can print our own message also like :  print(\"don't divide by zero..\")\n",
    "    except TypeError as err:\n",
    "        print(err)\n",
    "    except:\n",
    "        print('unexpected error..')\n",
    "    \n",
    "print(divide(4,2))\n",
    "print(divide(4,0))     # ZeroDivisionError\n",
    "print(divide('4',2))   # TypeError"
   ]
  },
  {
   "cell_type": "code",
   "execution_count": null,
   "metadata": {},
   "outputs": [],
   "source": []
  },
  {
   "cell_type": "code",
   "execution_count": null,
   "metadata": {},
   "outputs": [],
   "source": []
  },
  {
   "cell_type": "markdown",
   "metadata": {},
   "source": [
    "## Chapter 18"
   ]
  },
  {
   "cell_type": "markdown",
   "metadata": {},
   "source": [
    "##### read-write files"
   ]
  },
  {
   "cell_type": "code",
   "execution_count": null,
   "metadata": {},
   "outputs": [],
   "source": [
    "# 1.open() method\n",
    "# to read file use-> open()  ,        f=open('file1.txt', 'r')  , (1.file path / file name ,2. r-read)   ,(w)- write is used\n",
    "# if we not write mode --> 'r'  or  'w'  it take by default ->  r - read \n",
    "\n",
    "# 2.read() method\n",
    "# read method  -->         f.read()      , gives data of file in string  \n",
    "# and we can print it   ->   print(f.read())            ,also read method reads acc to cursor\n",
    "\n",
    "# 3.close() method\n",
    "# f.close()         <--  close th file after work on it always\n",
    "# to check file is closed or not -->   print(f.closed)      <- gives boolean value\n",
    "\n",
    "# 4.tell() method\n",
    "# tell method -->   f.tell()  , to find cursor position\n",
    "# print(f'cursor position - {f.tell()}')\n",
    "\n",
    "# 5.seek() method\n",
    "# seek method --> to change cursor position   -->  f.seek(0)           <- at 0 position\n",
    "\n",
    "# 6.readline()\n",
    "# readline method  -> it read line by line   -->      f.readline()\n",
    "# print(f.readline(), end='')         ,  end is used coz readline() gives space after every line  to remove it \n",
    "\n",
    "# 7. readlines()\n",
    "# readlines method  -->  lines= f.readlines()   , print(lines) ,    lines - is a var.\n",
    "# readlines() --> it makes a list of lines of a file , and print it\n",
    "# also can use loop  -->  for line in lines:  ,   print(line,end='')       , run loop also on -> f\n",
    "\n",
    "# 8. to check file name we use ( data descriptor ) -->  print(f.name)  ,\n",
    "\n",
    "# readlines()   also use like this\n",
    "#      for line in f.readline()[:2]:          # slicing used-> reads only 2 lines\n",
    "#          print(line,end='')   \n",
    "\n",
    "\n",
    "# if file is in another folder , give full path otherwise it gives error bcoz,\n",
    "# windows-->  \\            and \\  treat as escape sequence and show error , so we use -> r\n",
    "# linux , mac -->  /\n",
    "\n",
    "# f= open(r\".. file name..\")             # r used "
   ]
  },
  {
   "cell_type": "markdown",
   "metadata": {},
   "source": [
    "##### with block"
   ]
  },
  {
   "cell_type": "code",
   "execution_count": 73,
   "metadata": {},
   "outputs": [
    {
     "name": "stdout",
     "output_type": "stream",
     "text": [
      "\n",
      "True\n"
     ]
    }
   ],
   "source": [
    "# with block - also called - context manager.\n",
    "\n",
    "f= open('file1.txt')        # simple way to open file\n",
    "f.read()\n",
    "f.close()\n",
    "\n",
    "\n",
    "# reading data of file\n",
    "with open('file1.txt') as f:        # with block open file\n",
    "    data = f.read()\n",
    "    print(data)\n",
    "print(f.closed)        # return boolean , always close after work on it\n",
    "\n",
    "# with block  ->  not need to close file ,  if file is damage - context manager will handle it"
   ]
  },
  {
   "cell_type": "code",
   "execution_count": 75,
   "metadata": {},
   "outputs": [],
   "source": [
    "# w\n",
    "with open('file1.txt', 'w') as f:\n",
    "    f.write('Hello')\n",
    "# w - overwrites the data , use it when file is empty ,\n",
    "# it also create file of that name if it not exist\n",
    "\n",
    "\n",
    "# a\n",
    "with open('file1.txt', 'a') as f:\n",
    "    f.write('\\nThis is append method')\n",
    "# a - not delete data ,it append ,  it also creates file if not exist      \n",
    "\n",
    "\n",
    "# r+\n",
    "with open('file1.txt', 'r+') as f:\n",
    "    f.seek(len(f.read()))              \n",
    "    f.write('\\nThis is r+ method using seek() method')\n",
    "# r+ - read and write data , it also overwrite data from starting,\n",
    "# not create new file if not exist\n",
    "# so we use seek() method to move cursor position, len - use to read data written"
   ]
  },
  {
   "cell_type": "code",
   "execution_count": 74,
   "metadata": {},
   "outputs": [],
   "source": [
    "# Copy FILE1 data into another file2\n",
    "with open('file1.txt', 'r') as rf:\n",
    "    with open('file2.txt', 'w') as wf:\n",
    "        wf.write(rf.read())\n"
   ]
  },
  {
   "cell_type": "code",
   "execution_count": 77,
   "metadata": {},
   "outputs": [],
   "source": [
    "# using encoding='utf-8' , if there is emoji in file to read\n",
    "\n",
    "with open('love_story.txt', 'r', encoding='utf-8') as f:\n",
    "    print(f.encoding)\n",
    "    data = f.read()\n",
    "    print(data)\n",
    "\n",
    "\n",
    "\n",
    "# if file is large , then we read it in parts\n",
    "with open('file.txt', 'r') as f:\n",
    "    data=f.read(100)     # read 100 characters\n",
    "    print(data)\n"
   ]
  },
  {
   "cell_type": "code",
   "execution_count": 78,
   "metadata": {},
   "outputs": [],
   "source": [
    "# Read 1 file data like name and salary (Harshit,100) , then copy in 2nd file like: Harshit's salray is 100 \n",
    "# here using file1.txt and file2.txt\n",
    "\n",
    "\n",
    "with open('file1.txt', 'r') as rf:\n",
    "    with open('file2.txt', 'a') as wf:\n",
    "        for line in rf.readlines():                # read lines line by line\n",
    "            name,salary = line.split(',')\n",
    "            wf.write(f\"{name}\\'s salary is {salary}\")\n"
   ]
  },
  {
   "cell_type": "code",
   "execution_count": 79,
   "metadata": {},
   "outputs": [],
   "source": [
    "# # 1st file -> index.html , read this html file and then write link of <a> tag in another file\n",
    "\n",
    "\n",
    "# with open('index1.html', 'r') as webpage:\n",
    "#     with open('output.txt' ,'a') as wf:\n",
    "#         for line in webpage.readlines():\n",
    "#             if '<a href' in line:\n",
    "#                 pos = line.find('<a href')\n",
    "#                 first_quote = line.find('\\\"', pos)\n",
    "#                 second_quote = line.find('\\\"', first_quote+1)\n",
    "#                 url = line[first_quote+1:second_quote]\n",
    "#                 wf.write(url + '\\n')"
   ]
  },
  {
   "cell_type": "raw",
   "metadata": {},
   "source": [
    "dir() function-> to list all the function names(or var names) in a module , we can give module name in -> ()."
   ]
  },
  {
   "cell_type": "code",
   "execution_count": null,
   "metadata": {},
   "outputs": [],
   "source": []
  },
  {
   "cell_type": "code",
   "execution_count": null,
   "metadata": {},
   "outputs": [],
   "source": []
  },
  {
   "cell_type": "markdown",
   "metadata": {},
   "source": [
    "## Chapter 19\n",
    "#### read csv files"
   ]
  },
  {
   "cell_type": "code",
   "execution_count": 80,
   "metadata": {},
   "outputs": [],
   "source": [
    "# read csv file  --> 1.reader() , 2.DictReader()\n",
    "# csv files (comma separated values) - to store data , to work with csv it has  module : csv\n",
    "\n",
    "# 1.reader()\n",
    "\n",
    "from csv import reader      # to read file - reader()\n",
    "with open('file.csv', 'r') as f:\n",
    "    csv_reader = reader(f)\n",
    "    next(csv_reader)        # next() used - to not print 1st (or heading) line\n",
    "    for row in csv_reader:\n",
    "        print(row)\n",
    "        \n",
    "\n",
    "# 2.dictreader() - read file , it gives ordered dict\n",
    "from csv import DictReader\n",
    "with open('file.csv', 'r') as f:\n",
    "    csv_reader=DictReader(f)        # csv_reader=DictReader(f,delimiter='|')  , for delimiter\n",
    "    for row in csv_reader:\n",
    "        print(row)            # gives all data\n",
    "        print(row['name'])    # gives names only\n",
    "        print(row['email'])   # gives email\n",
    "        \n",
    "        \n",
    "# if delimiter is ',' not used  inplace of this anyother like this '|' or any used.  \n",
    "# use :    csv_reader=DictReader(f,delimiter='|')"
   ]
  },
  {
   "cell_type": "code",
   "execution_count": 81,
   "metadata": {},
   "outputs": [],
   "source": [
    "# write csv file : 1.writer() ,  2.DictWriter()\n",
    "# two methods for write -> writerow , writerows\n",
    "\n",
    "# 1.writer()\n",
    "from csv import writer\n",
    "with open('file3.csv', 'w', newline='') as f:          # file3.csv not exist , we create it\n",
    "    csv_writer = writer(f)                             # newline='' ,used bcoz it remove empty line which writerow() gives \n",
    "    # # writerow\n",
    "    # csv_writer.writerow(['name','country'])          # here pass data row wise\n",
    "    # csv_writer.writerow(['David','India'])\n",
    "    # csv_writer.writerow(['Ishant','India'])\n",
    "\n",
    "    # writerows                                        # but in this pass list in list data \n",
    "    csv_writer.writerows([['name','country'],['David','India'],['Nishant','India']])\n",
    "\n",
    "\n",
    "\n",
    "# 2.DictWriter()                      , fieldnames=[] used to pass headers in file\n",
    "from csv import DictWriter\n",
    "with open('file4.csv', 'w', newline='') as f:            # file4.csv not exist we created  \n",
    "    csv_writer = DictWriter(f, fieldnames=['first_name', 'last_name', 'age'])\n",
    "    csv_writer.writeheader()                # write haeders in file\n",
    "    # # writerow\n",
    "    # csv_writer.writerow({\n",
    "    #     'first_name':'David',\n",
    "    #     'last_name':'Taneja',\n",
    "    #     'age':'27'\n",
    "    # })\n",
    "    # csv_writer.writerow({\n",
    "    #     'first_name':'Ishant',\n",
    "    #     'last_name':'Taneja',\n",
    "    #     'age':'10'\n",
    "    # })\n",
    "\n",
    "    # writerows() , pass list in this dict--> ( [{},{}] )\n",
    "    csv_writer.writerows([\n",
    "        {'first_name':'David','last_name':'Taneja','age':'27'},\n",
    "        {'first_name':'Ishant','last_name':'Taneja','age':'9'}\n",
    "    ])"
   ]
  },
  {
   "cell_type": "code",
   "execution_count": 82,
   "metadata": {},
   "outputs": [],
   "source": [
    "# read and write csv files ,   from 1 file to 2nd file\n",
    "\n",
    "# reader() , DictReader()\n",
    "# writer() , DictWriter()\n",
    "\n",
    "\n",
    "from csv import DictReader, DictWriter\n",
    "\n",
    "with open('file_read.csv', 'r') as rf:          # file_read.csv already exists\n",
    "    with open('file5.csv', 'w', newline='') as wf:          # file5.csv not exist , we create\n",
    "        csv_reader = DictReader(rf)\n",
    "        csv_writer = DictWriter(wf,fieldnames=['name','email','phone'])  # passing headers \n",
    "        csv_writer.writeheader()\n",
    "        for row in csv_reader:\n",
    "            n, e, p = row['name'], row['email'], row['phone']\n",
    "            csv_writer.writerows([\n",
    "                {'name':n, 'email':e, 'phone':p},\n",
    "            ]) "
   ]
  },
  {
   "cell_type": "code",
   "execution_count": null,
   "metadata": {},
   "outputs": [],
   "source": []
  },
  {
   "cell_type": "markdown",
   "metadata": {},
   "source": [
    "# --------------------------------------------------------------------------------------------------"
   ]
  },
  {
   "cell_type": "markdown",
   "metadata": {},
   "source": [
    "#### eval()"
   ]
  },
  {
   "cell_type": "code",
   "execution_count": 7,
   "metadata": {},
   "outputs": [
    {
     "name": "stdout",
     "output_type": "stream",
     "text": [
      "code : 78+22\n",
      "100\n"
     ]
    }
   ],
   "source": [
    "# eval()  : takes input in string format and evaluate.     we can perform any operator(+ - / * ) func() with this.\n",
    "\n",
    "x = eval(input('code : '))\n",
    "\n",
    "print(x)                # 45/5 , 7*2  , 'David' + 'Taneja'  "
   ]
  },
  {
   "cell_type": "markdown",
   "metadata": {},
   "source": [
    "#### exec()"
   ]
  },
  {
   "cell_type": "code",
   "execution_count": 16,
   "metadata": {},
   "outputs": [
    {
     "name": "stdout",
     "output_type": "stream",
     "text": [
      "its working\n"
     ]
    }
   ],
   "source": [
    "# exec() : compiles and evaluates whatever you pass in string format.  like : compiler in a compiler\n",
    "\n",
    "exec(\"def test(): print('its working')\")\n",
    "\n",
    "test()"
   ]
  },
  {
   "cell_type": "code",
   "execution_count": 1,
   "metadata": {},
   "outputs": [
    {
     "name": "stdout",
     "output_type": "stream",
     "text": [
      "enter what you want to do : 5+2\n"
     ]
    }
   ],
   "source": [
    "code=input(\"enter what you want to do : \")     # enter ->  [print(x**2) for x in range(7)]\n",
    "exec(code)"
   ]
  },
  {
   "cell_type": "code",
   "execution_count": 2,
   "metadata": {},
   "outputs": [],
   "source": [
    "import os  \n",
    "\n",
    "# by importing os , we can find all files and deletes through exec() , its dangerous also  \n",
    "# ny entering --> print(os.listdir())"
   ]
  },
  {
   "cell_type": "markdown",
   "metadata": {},
   "source": [
    "## ----------------------------------------------------"
   ]
  },
  {
   "cell_type": "markdown",
   "metadata": {},
   "source": [
    "## Patterns"
   ]
  },
  {
   "cell_type": "markdown",
   "metadata": {},
   "source": [
    "##### Star pattern programs"
   ]
  },
  {
   "cell_type": "code",
   "execution_count": 41,
   "metadata": {},
   "outputs": [
    {
     "name": "stdout",
     "output_type": "stream",
     "text": [
      "        * \n",
      "       * * \n",
      "      * * * \n",
      "     * * * * \n",
      "    * * * * * \n"
     ]
    }
   ],
   "source": [
    "# Pyramid pattern\n",
    "\n",
    "def pattern(n):                                \n",
    "    k = 2 * n - 2                      # k = n\n",
    "    for i in range(0, n):              # loop for outer rows\n",
    "        for j in range(0, k):           # loop for columns\n",
    "            print(end=\" \")\n",
    "        k = k - 1\n",
    "        for j in range(0, i+1):\n",
    "            print('*', end=\" \")\n",
    "        print('\\r')                    # print('\\n')  \n",
    "        \n",
    "pattern(5)"
   ]
  },
  {
   "cell_type": "code",
   "execution_count": 92,
   "metadata": {},
   "outputs": [
    {
     "name": "stdout",
     "output_type": "stream",
     "text": [
      "     * * * * * \r\n",
      "      * * * * \r\n",
      "       * * * \r\n",
      "        * * \r\n",
      "         * \r\n"
     ]
    }
   ],
   "source": [
    "# Inverse pyramid\n",
    "\n",
    "def patternn(n):\n",
    "    k = n                               # k=2*n-2 , k=n-2  \n",
    "    for i in range(n, 0, -1):           # bcoz we are going backward, (start, stop, step)\n",
    "        for j in range(k, 0, -1):\n",
    "            print(end=\" \")\n",
    "        k = k + 1\n",
    "        for j in range(1, i+1):\n",
    "            print('*', end=\" \")\n",
    "        print('\\r')\n",
    "        \n",
    "patternn(5)"
   ]
  },
  {
   "cell_type": "code",
   "execution_count": 97,
   "metadata": {},
   "outputs": [
    {
     "name": "stdout",
     "output_type": "stream",
     "text": [
      "* \r\n",
      "* * \r\n",
      "* * * \r\n",
      "* * * * \r\n",
      "* * * * * \r\n",
      "* * * * * * \r\n",
      "* * * * * * * \r\n",
      "* * * * * * * * \r\n",
      "* * * * * * * * * \r\n",
      "* * * * * * * * * * \r\n",
      "* * * * * * * * * * * \r\n",
      "* * * * * * * * * * \r\n",
      "* * * * * * * * * \r\n",
      "* * * * * * * * \r\n",
      "* * * * * * * \r\n",
      "* * * * * * \r\n",
      "* * * * * \r\n",
      "* * * * \r\n",
      "* * * \r\n",
      "* * \r\n",
      "* \r\n"
     ]
    }
   ],
   "source": [
    "# Right start pattern\n",
    "\n",
    "def pattern(n):\n",
    "    for i in range(0, n):              # 1st row - column lops\n",
    "        for j in range(0, i+1):\n",
    "            print('*', end=' ')\n",
    "        print('\\r')\n",
    "    for i in range(n, -1, -1):           # 2nd row- column loops\n",
    "        for j in range(0, i+1):       # (i, 1, -1)  \n",
    "            print('*', end=' ')\n",
    "        print('\\r')\n",
    "            \n",
    "pattern(10)"
   ]
  },
  {
   "cell_type": "code",
   "execution_count": 104,
   "metadata": {},
   "outputs": [
    {
     "name": "stdout",
     "output_type": "stream",
     "text": [
      "                  * \r\n",
      "                * * \r\n",
      "              * * * \r\n",
      "            * * * * \r\n",
      "          * * * * * \r\n",
      "        * * * * * * \r\n",
      "      * * * * * * * \r\n",
      "    * * * * * * * * \r\n",
      "  * * * * * * * * * \r\n",
      "* * * * * * * * * * \r\n",
      "  * * * * * * * * * \r\n",
      "    * * * * * * * * \r\n",
      "      * * * * * * * \r\n",
      "        * * * * * * \r\n",
      "          * * * * * \r\n",
      "            * * * * \r\n",
      "              * * * \r\n",
      "                * * \r\n",
      "                  * \r\n"
     ]
    }
   ],
   "source": [
    "# left start pattern\n",
    "\n",
    "def pattern(n):\n",
    "    k = 2*n - 2\n",
    "    for i in range(0, n-1):\n",
    "        for j in range(0, k):\n",
    "            print(end=' ')\n",
    "        k = k - 2\n",
    "        for j in range(0, i+1):\n",
    "            print('*', end=' ')\n",
    "        print('\\r')\n",
    "    k = - 1\n",
    "    for i in range(n-1, -1, -1):\n",
    "        for j in range(k, -1, -1):\n",
    "            print(end=' ')\n",
    "        k = k + 2 \n",
    "        for j in range(0, i+1):\n",
    "            print('*', end=' ')\n",
    "        print('\\r')\n",
    "        \n",
    "pattern(10)"
   ]
  },
  {
   "cell_type": "markdown",
   "metadata": {},
   "source": [
    "## ---------------------------------------------"
   ]
  },
  {
   "cell_type": "markdown",
   "metadata": {},
   "source": [
    "### Threading and Multi-Threading"
   ]
  },
  {
   "cell_type": "code",
   "execution_count": null,
   "metadata": {},
   "outputs": [],
   "source": [
    "# Process : is a program running on computer, each process is made of diffferent 'thread'.\n",
    "\n",
    "# when we create subclass of trheading class, we need to call parent constructor method (or initialization method)\n",
    "# threading.Thread.__init__(self)"
   ]
  },
  {
   "cell_type": "code",
   "execution_count": 2,
   "metadata": {
    "scrolled": true
   },
   "outputs": [
    {
     "name": "stdout",
     "output_type": "stream",
     "text": [
      "Starting : Thread1\n",
      "\n",
      "Starting : Thread2\n",
      "Done main thread\n",
      "\n",
      "Thread1: Tue Mar  3 21:33:22 2020 10\n",
      "\n",
      "Thread2: Tue Mar  3 21:33:23 2020 5\n",
      "\n",
      "Thread1: Tue Mar  3 21:33:23 2020 9\n",
      "\n",
      "Thread2: Tue Mar  3 21:33:24 2020 4\n",
      "\n",
      "Thread1: Tue Mar  3 21:33:24 2020 8\n",
      "\n",
      "Thread2: Tue Mar  3 21:33:25 2020 3\n",
      "\n",
      "Thread1: Tue Mar  3 21:33:26 2020 7\n",
      "\n",
      "Thread2: Tue Mar  3 21:33:26 2020 2\n",
      "\n",
      "Thread1: Tue Mar  3 21:33:27 2020 6\n",
      "\n",
      "Thread2: Tue Mar  3 21:33:27 2020 1\n",
      "\n",
      "Exiting : Thread2\n",
      "\n",
      "Thread1: Tue Mar  3 21:33:28 2020 5\n",
      "\n",
      "Thread1: Tue Mar  3 21:33:29 2020 4\n",
      "\n",
      "Thread1: Tue Mar  3 21:33:30 2020 3\n",
      "\n",
      "Thread1: Tue Mar  3 21:33:31 2020 2\n",
      "\n",
      "Thread1: Tue Mar  3 21:33:32 2020 1\n",
      "\n",
      "Exiting : Thread1\n",
      "\n"
     ]
    }
   ],
   "source": [
    "import threading\n",
    "import time\n",
    "\n",
    "class myThread(threading.Thread):\n",
    "    def __init__(self, threadId, name, count):\n",
    "        threading.Thread.__init__(self)\n",
    "        self.threadId = threadId\n",
    "        self.name = name\n",
    "        self.count = count\n",
    "        \n",
    "    def run(self):\n",
    "        print(\"Starting : \" + self.name + \"\\n\")\n",
    "        print_time(self.name, 1, self.count)        # running function\n",
    "        print(\"Exiting : \" + self.name + \"\\n\")        \n",
    "        \n",
    "        \n",
    "def print_time(name, delay, count):\n",
    "    while count:\n",
    "        time.sleep(delay)\n",
    "        print(\"%s: %s %s\" % (name, time.ctime(time.time()), count) + \"\\n\")      # takes current time\n",
    "        count -= 1\n",
    "        \n",
    "\n",
    "thread1 = myThread(1, \"Thread1\", 10)\n",
    "thread2 = myThread(2, \"Thread2\", 5)\n",
    "\n",
    "thread1.start()\n",
    "thread2.start()\n",
    "print(\"Done main thread\")"
   ]
  },
  {
   "cell_type": "markdown",
   "metadata": {},
   "source": [
    "#### Synchronizing & locking threads \n",
    "allowing threads to wait for another thread to finish before they go.                                                \n",
    "like in apps, until payment not done , can't send confirmation detail and load thank you page."
   ]
  },
  {
   "cell_type": "code",
   "execution_count": 5,
   "metadata": {
    "scrolled": true
   },
   "outputs": [
    {
     "name": "stdout",
     "output_type": "stream",
     "text": [
      "Starting : Thread1\n",
      "\n",
      "Starting : Thread2\n",
      "\n",
      "Done main thread\n",
      "Thread1: Tue Mar  3 21:56:21 2020 5\n",
      "\n",
      "Thread1: Tue Mar  3 21:56:22 2020 4\n",
      "\n",
      "Thread1: Tue Mar  3 21:56:23 2020 3\n",
      "\n",
      "Thread1: Tue Mar  3 21:56:24 2020 2\n",
      "\n",
      "Thread1: Tue Mar  3 21:56:25 2020 1\n",
      "\n",
      "Exiting : Thread1\n",
      "\n",
      "Thread2: Tue Mar  3 21:56:26 2020 5\n",
      "\n",
      "Thread2: Tue Mar  3 21:56:27 2020 4\n",
      "\n",
      "Thread2: Tue Mar  3 21:56:28 2020 3\n",
      "\n",
      "Thread2: Tue Mar  3 21:56:29 2020 2\n",
      "\n",
      "Thread2: Tue Mar  3 21:56:30 2020 1\n",
      "\n",
      "Exiting : Thread2\n",
      "\n"
     ]
    }
   ],
   "source": [
    "class myThread(threading.Thread):\n",
    "    def __init__(self, threadId, name, count):\n",
    "        threading.Thread.__init__(self)\n",
    "        self.threadId = threadId\n",
    "        self.name = name\n",
    "        self.count = count\n",
    "        \n",
    "    def run(self):\n",
    "        print(\"Starting : \" + self.name + \"\\n\")    # runs thread\n",
    "        threadLock.acquire()                       # locks other threads \n",
    "        print_time(self.name, 1, self.count)       # and this done \n",
    "        threadLock.release()                       # then release other threads to run\n",
    "        print(\"Exiting : \" + self.name + \"\\n\")        \n",
    "        \n",
    "        \n",
    "def print_time(name, delay, count):\n",
    "    while count:\n",
    "        time.sleep(delay)\n",
    "        print(\"%s: %s %s\" % (name, time.ctime(time.time()), count) + \"\\n\")      # takes current time\n",
    "        count -= 1\n",
    "        \n",
    "threadLock = threading.Lock()        # by this thread 1 finishes and the thread 2 starts.\n",
    "\n",
    "\n",
    "thread1 = myThread(1, \"Thread1\", 5)\n",
    "thread2 = myThread(2, \"Thread2\", 5)\n",
    "thread1.start()\n",
    "thread2.start()\n",
    "\n",
    "thread1.join()\n",
    "thread2.join()\n",
    "\n",
    "print(\"Done main thread\")"
   ]
  },
  {
   "cell_type": "code",
   "execution_count": 6,
   "metadata": {},
   "outputs": [
    {
     "name": "stdout",
     "output_type": "stream",
     "text": [
      "Starting : Payment\n",
      "Starting : Sending Email\n",
      "\n",
      "\n",
      "Starting : Loading Page\n",
      "Done main thread\n",
      "\n",
      "Payment: Tue Mar  3 22:03:19 2020 5\n",
      "\n",
      "Payment: Tue Mar  3 22:03:20 2020 4\n",
      "\n",
      "Payment: Tue Mar  3 22:03:21 2020 3\n",
      "\n",
      "Payment: Tue Mar  3 22:03:22 2020 2\n",
      "\n",
      "Payment: Tue Mar  3 22:03:23 2020 1\n",
      "\n",
      "Exiting : Payment\n",
      "\n",
      "Sending Email: Tue Mar  3 22:03:24 2020 5\n",
      "\n",
      "Loading Page: Tue Mar  3 22:03:24 2020 5\n",
      "\n",
      "Sending Email: Tue Mar  3 22:03:25 2020 4\n",
      "\n",
      "Loading Page: Tue Mar  3 22:03:25 2020 4\n",
      "\n",
      "Sending Email: Tue Mar  3 22:03:26 2020 3\n",
      "\n",
      "Loading Page: Tue Mar  3 22:03:26 2020 3\n",
      "\n",
      "Sending Email: Tue Mar  3 22:03:27 2020 2\n",
      "\n",
      "Loading Page: Tue Mar  3 22:03:27 2020 2\n",
      "\n",
      "Sending Email: Tue Mar  3 22:03:28 2020 1\n",
      "\n",
      "Exiting : Sending Email\n",
      "\n",
      "Loading Page: Tue Mar  3 22:03:28 2020 1\n",
      "\n",
      "Exiting : Loading Page\n",
      "\n"
     ]
    }
   ],
   "source": [
    "class myThread(threading.Thread):\n",
    "    def __init__(self, threadId, name, count):\n",
    "        threading.Thread.__init__(self)\n",
    "        self.threadId = threadId\n",
    "        self.name = name\n",
    "        self.count = count\n",
    "        \n",
    "    def run(self):\n",
    "        print(\"Starting : \" + self.name + \"\\n\")\n",
    "        threadLock.acquire()                   \n",
    "        print_time(self.name, 1, self.count)   \n",
    "        threadLock.release()            \n",
    "        print(\"Exiting : \" + self.name + \"\\n\") \n",
    "        \n",
    "        \n",
    "class myThread2(threading.Thread):\n",
    "    def __init__(self, threadId, name, count):\n",
    "        threading.Thread.__init__(self)\n",
    "        self.threadId = threadId\n",
    "        self.name = name\n",
    "        self.count = count\n",
    "        \n",
    "    def run(self):\n",
    "        print(\"Starting : \" + self.name + \"\\n\")    # runs thread\n",
    "        threadLock.acquire()                       # locks other threads \n",
    "        threadLock.release()                       # then release other threads to run\n",
    "        print_time(self.name, 1, self.count)       # and this done \n",
    "        print(\"Exiting : \" + self.name + \"\\n\") \n",
    "        \n",
    "        \n",
    "threadLock = threading.Lock()        # by this thread 1 finishes and the thread 2 starts.\n",
    "\n",
    "thread1 = myThread(1, \"Payment\", 5)\n",
    "thread2 = myThread2(2, \"Sending Email\", 10)\n",
    "thread3 = myThread2(3, \"Loading Page\", 3)\n",
    "\n",
    "thread1.start()\n",
    "thread2.start()\n",
    "thread3.start()\n",
    "\n",
    "thread1.join()\n",
    "thread2.join()\n",
    "thread3.join()\n",
    "\n",
    "print(\"Done main thread\")"
   ]
  },
  {
   "cell_type": "code",
   "execution_count": null,
   "metadata": {},
   "outputs": [],
   "source": []
  },
  {
   "cell_type": "code",
   "execution_count": null,
   "metadata": {},
   "outputs": [],
   "source": []
  }
 ],
 "metadata": {
  "kernelspec": {
   "display_name": "Python 3",
   "language": "python",
   "name": "python3"
  },
  "language_info": {
   "codemirror_mode": {
    "name": "ipython",
    "version": 3
   },
   "file_extension": ".py",
   "mimetype": "text/x-python",
   "name": "python",
   "nbconvert_exporter": "python",
   "pygments_lexer": "ipython3",
   "version": "3.6.8"
  }
 },
 "nbformat": 4,
 "nbformat_minor": 2
}
